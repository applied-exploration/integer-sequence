{
 "metadata": {
  "language_info": {
   "codemirror_mode": {
    "name": "ipython",
    "version": 3
   },
   "file_extension": ".py",
   "mimetype": "text/x-python",
   "name": "python",
   "nbconvert_exporter": "python",
   "pygments_lexer": "ipython3",
   "version": "3.6.12"
  },
  "orig_nbformat": 2,
  "kernelspec": {
   "name": "python3612jvsc74a57bd021b14e6ae810b98687c42101764fbc6ed2f749f10b37141b42930ea65db4f89b",
   "display_name": "Python 3.6.12 64-bit ('drlnd': conda)"
  }
 },
 "nbformat": 4,
 "nbformat_minor": 2,
 "cells": [
  {
   "cell_type": "code",
   "execution_count": 21,
   "metadata": {},
   "outputs": [],
   "source": [
    "import pandas as pd\n",
    "import numpy\n",
    "import torch"
   ]
  },
  {
   "cell_type": "code",
   "execution_count": 2,
   "metadata": {},
   "outputs": [
    {
     "output_type": "execute_result",
     "data": {
      "text/plain": [
       "      Unnamed: 0                                           TrainSeq    LastNum\n",
       "0             28  1,1,9,1,25,11,1,49,31,43,1,81,61,247,85,1,121,...  000657871\n",
       "1             88  1,0,0,1,0,0,1,0,0,1,0,0,2,0,0,2,0,0,2,0,0,2,0,...  000000000\n",
       "2            114  1,1,1,2,1,1,2,1,1,2,2,2,2,2,3,2,3,3,2,2,3,1,1,...  000000003\n",
       "3            137  0,1,2,2,2,2,3,3,3,3,3,3,4,4,4,4,4,4,4,4,4,4,4,...  000000009\n",
       "4            175  3,8,4,5,7,1,7,5,0,5,0,4,9,4,8,7,0,3,1,4,7,9,4,...  000000007\n",
       "...          ...                                                ...        ...\n",
       "3871      113770  1,1,1,1,2,1,1,3,3,1,1,4,6,4,1,1,6,10,10,6,1,1,...  000021259\n",
       "3872      113778  2,7,6,8,6,7,8,2,8,2,9,8,7,3,2,1,5,3,2,4,9,5,3,...  000000006\n",
       "3873      113810  1,1,1,2,2,2,2,3,3,3,3,3,3,3,3,3,3,3,3,3,3,3,3,...  000000005\n",
       "3874      113815  1,0,1,0,1,0,1,1,1,1,1,1,1,1,1,1,1,1,1,1,1,1,1,...  000000002\n",
       "3875      113819  1,0,0,0,0,0,0,0,0,0,0,1,0,0,0,0,0,1,0,1,0,0,0,...  000000002\n",
       "\n",
       "[3876 rows x 3 columns]"
      ],
      "text/html": "<div>\n<style scoped>\n    .dataframe tbody tr th:only-of-type {\n        vertical-align: middle;\n    }\n\n    .dataframe tbody tr th {\n        vertical-align: top;\n    }\n\n    .dataframe thead th {\n        text-align: right;\n    }\n</style>\n<table border=\"1\" class=\"dataframe\">\n  <thead>\n    <tr style=\"text-align: right;\">\n      <th></th>\n      <th>Unnamed: 0</th>\n      <th>TrainSeq</th>\n      <th>LastNum</th>\n    </tr>\n  </thead>\n  <tbody>\n    <tr>\n      <th>0</th>\n      <td>28</td>\n      <td>1,1,9,1,25,11,1,49,31,43,1,81,61,247,85,1,121,...</td>\n      <td>000657871</td>\n    </tr>\n    <tr>\n      <th>1</th>\n      <td>88</td>\n      <td>1,0,0,1,0,0,1,0,0,1,0,0,2,0,0,2,0,0,2,0,0,2,0,...</td>\n      <td>000000000</td>\n    </tr>\n    <tr>\n      <th>2</th>\n      <td>114</td>\n      <td>1,1,1,2,1,1,2,1,1,2,2,2,2,2,3,2,3,3,2,2,3,1,1,...</td>\n      <td>000000003</td>\n    </tr>\n    <tr>\n      <th>3</th>\n      <td>137</td>\n      <td>0,1,2,2,2,2,3,3,3,3,3,3,4,4,4,4,4,4,4,4,4,4,4,...</td>\n      <td>000000009</td>\n    </tr>\n    <tr>\n      <th>4</th>\n      <td>175</td>\n      <td>3,8,4,5,7,1,7,5,0,5,0,4,9,4,8,7,0,3,1,4,7,9,4,...</td>\n      <td>000000007</td>\n    </tr>\n    <tr>\n      <th>...</th>\n      <td>...</td>\n      <td>...</td>\n      <td>...</td>\n    </tr>\n    <tr>\n      <th>3871</th>\n      <td>113770</td>\n      <td>1,1,1,1,2,1,1,3,3,1,1,4,6,4,1,1,6,10,10,6,1,1,...</td>\n      <td>000021259</td>\n    </tr>\n    <tr>\n      <th>3872</th>\n      <td>113778</td>\n      <td>2,7,6,8,6,7,8,2,8,2,9,8,7,3,2,1,5,3,2,4,9,5,3,...</td>\n      <td>000000006</td>\n    </tr>\n    <tr>\n      <th>3873</th>\n      <td>113810</td>\n      <td>1,1,1,2,2,2,2,3,3,3,3,3,3,3,3,3,3,3,3,3,3,3,3,...</td>\n      <td>000000005</td>\n    </tr>\n    <tr>\n      <th>3874</th>\n      <td>113815</td>\n      <td>1,0,1,0,1,0,1,1,1,1,1,1,1,1,1,1,1,1,1,1,1,1,1,...</td>\n      <td>000000002</td>\n    </tr>\n    <tr>\n      <th>3875</th>\n      <td>113819</td>\n      <td>1,0,0,0,0,0,0,0,0,0,0,1,0,0,0,0,0,1,0,1,0,0,0,...</td>\n      <td>000000002</td>\n    </tr>\n  </tbody>\n</table>\n<p>3876 rows × 3 columns</p>\n</div>"
     },
     "metadata": {},
     "execution_count": 2
    }
   ],
   "source": [
    "data = pd.read_csv(\"data/preprocessed-1-dnn.csv\")\n",
    "data"
   ]
  },
  {
   "cell_type": "code",
   "execution_count": 3,
   "metadata": {},
   "outputs": [
    {
     "output_type": "execute_result",
     "data": {
      "text/plain": [
       "0       1,1,9,1,25,11,1,49,31,43,1,81,61,247,85,1,121,...\n",
       "1       1,0,0,1,0,0,1,0,0,1,0,0,2,0,0,2,0,0,2,0,0,2,0,...\n",
       "2       1,1,1,2,1,1,2,1,1,2,2,2,2,2,3,2,3,3,2,2,3,1,1,...\n",
       "3       0,1,2,2,2,2,3,3,3,3,3,3,4,4,4,4,4,4,4,4,4,4,4,...\n",
       "4       3,8,4,5,7,1,7,5,0,5,0,4,9,4,8,7,0,3,1,4,7,9,4,...\n",
       "                              ...                        \n",
       "3871    1,1,1,1,2,1,1,3,3,1,1,4,6,4,1,1,6,10,10,6,1,1,...\n",
       "3872    2,7,6,8,6,7,8,2,8,2,9,8,7,3,2,1,5,3,2,4,9,5,3,...\n",
       "3873    1,1,1,2,2,2,2,3,3,3,3,3,3,3,3,3,3,3,3,3,3,3,3,...\n",
       "3874    1,0,1,0,1,0,1,1,1,1,1,1,1,1,1,1,1,1,1,1,1,1,1,...\n",
       "3875    1,0,0,0,0,0,0,0,0,0,0,1,0,0,0,0,0,1,0,1,0,0,0,...\n",
       "Name: TrainSeq, Length: 3876, dtype: object"
      ]
     },
     "metadata": {},
     "execution_count": 3
    }
   ],
   "source": [
    "data['TrainSeq']"
   ]
  },
  {
   "cell_type": "code",
   "execution_count": 4,
   "metadata": {},
   "outputs": [],
   "source": [
    "from models.dnn import DNN\n",
    "from preprocessing.encoding import seqToTensor\n",
    "\n",
    "%load_ext autoreload\n",
    "%autoreload 2"
   ]
  },
  {
   "cell_type": "code",
   "execution_count": 27,
   "metadata": {},
   "outputs": [],
   "source": [
    "input_length = len(data['TrainSeq'][0])\n",
    "encoded = []\n",
    "symbols = '0123456789,-'\n",
    "\n",
    "for sequence in data['TrainSeq']:\n",
    "    flattened= torch.flatten(seqToTensor(sequence, input_length, symbols = symbols))\n",
    "    encoded.append(flattened)"
   ]
  },
  {
   "cell_type": "code",
   "execution_count": 28,
   "metadata": {},
   "outputs": [
    {
     "output_type": "stream",
     "name": "stdout",
     "text": [
      "2484\n"
     ]
    }
   ],
   "source": [
    "print(encoded[0].shape[0])"
   ]
  },
  {
   "cell_type": "code",
   "execution_count": 29,
   "metadata": {},
   "outputs": [],
   "source": [
    "dnn = DNN(encoded[0].shape[0], len(symbols)*9, seed = 5, hidden_layer_param=[640])"
   ]
  },
  {
   "cell_type": "code",
   "execution_count": 30,
   "metadata": {},
   "outputs": [
    {
     "output_type": "execute_result",
     "data": {
      "text/plain": [
       "tensor([ 0.0298, -0.0412, -0.0081, -0.0048,  0.1712, -0.0187,  0.0505, -0.0319,\n",
       "        -0.1135,  0.0338,  0.0387,  0.1252, -0.0098, -0.0343,  0.0366,  0.0301,\n",
       "        -0.0936, -0.0094, -0.0410,  0.0050, -0.0102, -0.0326, -0.0331,  0.0222,\n",
       "        -0.0128,  0.0636,  0.0425, -0.0187, -0.0646, -0.0092, -0.0088,  0.0711,\n",
       "         0.0510,  0.1258,  0.0382, -0.0056, -0.0699, -0.0507, -0.0805,  0.0223,\n",
       "        -0.0419, -0.0431,  0.0306, -0.0111, -0.0133,  0.0602,  0.1137,  0.0863,\n",
       "        -0.0958, -0.0165, -0.0528, -0.0758,  0.0834, -0.0346,  0.0732, -0.0387,\n",
       "         0.0166,  0.1016,  0.0303, -0.0058,  0.0341, -0.0039,  0.0405,  0.1166,\n",
       "        -0.0583, -0.0895, -0.0294, -0.0682, -0.0676, -0.0493,  0.0354,  0.0412,\n",
       "         0.0090,  0.0371,  0.0195,  0.1304,  0.0658, -0.1209, -0.0101, -0.0223,\n",
       "        -0.0034, -0.0491, -0.0453,  0.0322, -0.0329, -0.0851,  0.0179,  0.0789,\n",
       "         0.0187, -0.0231,  0.1282, -0.0006, -0.0848, -0.0094, -0.0334,  0.0471,\n",
       "         0.0123, -0.0096,  0.0434, -0.0462,  0.0316,  0.0537, -0.0458,  0.0560,\n",
       "        -0.0383, -0.0103,  0.0358, -0.0126], grad_fn=<AddBackward0>)"
      ]
     },
     "metadata": {},
     "execution_count": 30
    }
   ],
   "source": [
    "dnn(encoded[0])"
   ]
  },
  {
   "cell_type": "code",
   "execution_count": null,
   "metadata": {},
   "outputs": [],
   "source": []
  }
 ]
}