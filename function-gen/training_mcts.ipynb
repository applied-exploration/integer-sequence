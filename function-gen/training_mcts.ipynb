{
 "cells": [
  {
   "cell_type": "code",
   "execution_count": 1,
   "source": [
    "import random\r\n",
    "from lang import load_data_int_seq\r\n",
    "from models.rl.env import IntegerSequenceEnv\r\n",
    "from models.rl.agents.agent_mcts.main import train_mcts\r\n",
    "\r\n",
    "%load_ext autoreload\r\n",
    "%autoreload 2\r\n",
    "\r\n",
    "MAX_PENALTY_MAGNITUDE = 999.0"
   ],
   "outputs": [],
   "metadata": {}
  },
  {
   "cell_type": "code",
   "execution_count": 2,
   "source": [
    "output_lang, input_lang, train, X_test, y_test = load_data_int_seq()\r\n",
    "train = train[:1]"
   ],
   "outputs": [],
   "metadata": {}
  },
  {
   "cell_type": "code",
   "execution_count": 3,
   "source": [
    "env = IntegerSequenceEnv({\"data\": train, \"output_length\": 9, \"input_lang\": input_lang, \"output_lang\": output_lang})"
   ],
   "outputs": [
    {
     "output_type": "stream",
     "name": "stdout",
     "text": [
      "self.state\n",
      "[-1, -1, -1, -1, -1, -1, -1, -1, -1, 2, 3, 4, 5, 6, 7, 8, 9, 10]\n"
     ]
    }
   ],
   "metadata": {}
  },
  {
   "cell_type": "code",
   "execution_count": 4,
   "source": [
    "env.action_space.n"
   ],
   "outputs": [
    {
     "output_type": "execute_result",
     "data": {
      "text/plain": [
       "14"
      ]
     },
     "metadata": {},
     "execution_count": 4
    }
   ],
   "metadata": {}
  },
  {
   "cell_type": "code",
   "execution_count": 5,
   "source": [
    "env.observation_space.shape[0]"
   ],
   "outputs": [
    {
     "output_type": "execute_result",
     "data": {
      "text/plain": [
       "18"
      ]
     },
     "metadata": {},
     "execution_count": 5
    }
   ],
   "metadata": {}
  },
  {
   "cell_type": "code",
   "execution_count": 18,
   "source": [
    "train_mcts(env)"
   ],
   "outputs": [
    {
     "output_type": "stream",
     "name": "stdout",
     "text": [
      "\n",
      "Training Episodes: 0\n",
      "[-1, -1, -1, -1, -1, -1, -1, -1, -1, 2, 3, 4, 5, 6, 7, 8, 9, 10]\n",
      "Step: 0\n",
      "Return: 0\n",
      "\n",
      "Training Episodes: 0\n",
      "[11, -1, -1, -1, -1, -1, -1, -1, -1, 2, 3, 4, 5, 6, 7, 8, 9, 10]\n",
      "Step: 1\n",
      "Return: -999.0\n",
      "ob\n",
      "[-1 -1 -1 -1 -1 -1 -1 -1 -1  2  3  4  5  6  7  8  9 10]\n",
      "ob\n",
      "[ 7 -1 -1 -1 -1 -1 -1 -1 -1  2  3  4  5  6  7  8  9 10]\n",
      "ob\n",
      "[ 7  6 -1 -1 -1 -1 -1 -1 -1  2  3  4  5  6  7  8  9 10]\n",
      "ob\n",
      "[ 7  6 11 -1 -1 -1 -1 -1 -1  2  3  4  5  6  7  8  9 10]\n",
      "ob\n",
      "[ 7  6 11  3 -1 -1 -1 -1 -1  2  3  4  5  6  7  8  9 10]\n",
      "ob\n",
      "[ 7  6 11  3  8 -1 -1 -1 -1  2  3  4  5  6  7  8  9 10]\n",
      "ob\n",
      "[ 7  6 11  3  8  6 -1 -1 -1  2  3  4  5  6  7  8  9 10]\n",
      "ob\n",
      "[ 7  6 11  3  8  6  8 -1 -1  2  3  4  5  6  7  8  9 10]\n",
      "ob\n",
      "[ 7  6 11  3  8  6  8  3 -1  2  3  4  5  6  7  8  9 10]\n",
      "ret\n",
      "[-999. -999. -999. -999. -999. -999. -999. -999. -999.]\n",
      "OBS\n",
      "[array([-1, -1, -1, -1, -1, -1, -1, -1, -1,  2,  3,  4,  5,  6,  7,  8,  9,\n",
      "       10]), array([ 7, -1, -1, -1, -1, -1, -1, -1, -1,  2,  3,  4,  5,  6,  7,  8,  9,\n",
      "       10], dtype=int64), array([ 7,  6, -1, -1, -1, -1, -1, -1, -1,  2,  3,  4,  5,  6,  7,  8,  9,\n",
      "       10], dtype=int64), array([ 7,  6, 11, -1, -1, -1, -1, -1, -1,  2,  3,  4,  5,  6,  7,  8,  9,\n",
      "       10], dtype=int64), array([ 7,  6, 11,  3, -1, -1, -1, -1, -1,  2,  3,  4,  5,  6,  7,  8,  9,\n",
      "       10], dtype=int64), array([ 7,  6, 11,  3,  8, -1, -1, -1, -1,  2,  3,  4,  5,  6,  7,  8,  9,\n",
      "       10], dtype=int64), array([ 7,  6, 11,  3,  8,  6, -1, -1, -1,  2,  3,  4,  5,  6,  7,  8,  9,\n",
      "       10], dtype=int64), array([ 7,  6, 11,  3,  8,  6,  8, -1, -1,  2,  3,  4,  5,  6,  7,  8,  9,\n",
      "       10], dtype=int64), array([ 7,  6, 11,  3,  8,  6,  8,  3, -1,  2,  3,  4,  5,  6,  7,  8,  9,\n",
      "       10], dtype=int64)]\n",
      "(162,)\n",
      "[array([0.04444445, 0.15555556, 0.08888889, 0.04444445, 0.04444445,\n",
      "       0.06666667, 0.06666667, 0.06666667, 0.06666667, 0.08888889,\n",
      "       0.06666667, 0.06666667, 0.06666667, 0.06666667], dtype=float32), array([0.02564103, 0.3846154 , 0.02564103, 0.2820513 , 0.05128205,\n",
      "       0.02564103, 0.02564103, 0.02564103, 0.02564103, 0.02564103,\n",
      "       0.02564103, 0.02564103, 0.02564103, 0.02564103], dtype=float32), array([0.0952381 , 0.02380952, 0.0952381 , 0.02380952, 0.02380952,\n",
      "       0.0952381 , 0.0952381 , 0.0952381 , 0.07142857, 0.0952381 ,\n",
      "       0.07142857, 0.07142857, 0.07142857, 0.07142857], dtype=float32), array([0.02325581, 0.27906978, 0.02325581, 0.18604651, 0.27906978,\n",
      "       0.02325581, 0.02325581, 0.02325581, 0.02325581, 0.02325581,\n",
      "       0.02325581, 0.02325581, 0.02325581, 0.02325581], dtype=float32), array([0.05660377, 0.03773585, 0.05660377, 0.03773585, 0.01886792,\n",
      "       0.05660377, 0.09433962, 0.05660377, 0.0754717 , 0.13207547,\n",
      "       0.09433962, 0.09433962, 0.09433962, 0.09433962], dtype=float32), array([0.02272727, 0.13636364, 0.02272727, 0.13636364, 0.47727272,\n",
      "       0.02272727, 0.02272727, 0.02272727, 0.02272727, 0.02272727,\n",
      "       0.02272727, 0.02272727, 0.02272727, 0.02272727], dtype=float32), array([0.05769231, 0.01923077, 0.05769231, 0.01923077, 0.01923077,\n",
      "       0.05769231, 0.09615385, 0.09615385, 0.09615385, 0.09615385,\n",
      "       0.09615385, 0.09615385, 0.09615385, 0.09615385], dtype=float32), array([0.06382979, 0.12765957, 0.06382979, 0.10638298, 0.10638298,\n",
      "       0.06382979, 0.06382979, 0.04255319, 0.06382979, 0.06382979,\n",
      "       0.06382979, 0.04255319, 0.06382979, 0.06382979], dtype=float32), array([0.08108108, 0.08108108, 0.05405406, 0.05405406, 0.05405406,\n",
      "       0.08108108, 0.08108108, 0.08108108, 0.05405406, 0.08108108,\n",
      "       0.08108108, 0.05405406, 0.08108108, 0.08108108], dtype=float32)]\n",
      "(9,)\n",
      "()\n"
     ]
    },
    {
     "output_type": "error",
     "ename": "AssertionError",
     "evalue": "",
     "traceback": [
      "\u001b[1;31m---------------------------------------------------------------------------\u001b[0m",
      "\u001b[1;31mAssertionError\u001b[0m                            Traceback (most recent call last)",
      "\u001b[1;32m<ipython-input-18-b4c5753391f7>\u001b[0m in \u001b[0;36m<module>\u001b[1;34m\u001b[0m\n\u001b[1;32m----> 1\u001b[1;33m \u001b[0mtrain_mcts\u001b[0m\u001b[1;33m(\u001b[0m\u001b[0menv\u001b[0m\u001b[1;33m)\u001b[0m\u001b[1;33m\u001b[0m\u001b[1;33m\u001b[0m\u001b[0m\n\u001b[0m",
      "\u001b[1;32mc:\\Users\\danie\\Code\\ai\\research company\\integer-sequence\\function-gen\\models\\rl\\agents\\agent_mcts\\main.py\u001b[0m in \u001b[0;36mtrain_mcts\u001b[1;34m(env)\u001b[0m\n\u001b[0;32m     93\u001b[0m                                                                     \u001b[1;36m32\u001b[0m\u001b[1;33m,\u001b[0m\u001b[1;33m\u001b[0m\u001b[1;33m\u001b[0m\u001b[0m\n\u001b[0;32m     94\u001b[0m                                                                     env)\n\u001b[1;32m---> 95\u001b[1;33m             \u001b[0mmem\u001b[0m\u001b[1;33m.\u001b[0m\u001b[0madd_all\u001b[0m\u001b[1;33m(\u001b[0m\u001b[1;33m{\u001b[0m\u001b[1;34m\"ob\"\u001b[0m\u001b[1;33m:\u001b[0m \u001b[0mobs\u001b[0m\u001b[1;33m,\u001b[0m \u001b[1;34m\"pi\"\u001b[0m\u001b[1;33m:\u001b[0m \u001b[0mpis\u001b[0m\u001b[1;33m,\u001b[0m \u001b[1;34m\"return\"\u001b[0m\u001b[1;33m:\u001b[0m \u001b[0mreturns\u001b[0m\u001b[1;33m}\u001b[0m\u001b[1;33m)\u001b[0m\u001b[1;33m\u001b[0m\u001b[1;33m\u001b[0m\u001b[0m\n\u001b[0m\u001b[0;32m     96\u001b[0m \u001b[1;33m\u001b[0m\u001b[0m\n\u001b[0;32m     97\u001b[0m             \u001b[0mbatch\u001b[0m \u001b[1;33m=\u001b[0m \u001b[0mmem\u001b[0m\u001b[1;33m.\u001b[0m\u001b[0mget_minibatch\u001b[0m\u001b[1;33m(\u001b[0m\u001b[1;33m)\u001b[0m\u001b[1;33m\u001b[0m\u001b[1;33m\u001b[0m\u001b[0m\n",
      "\u001b[1;32mc:\\Users\\danie\\Code\\ai\\research company\\integer-sequence\\function-gen\\models\\rl\\agents\\agent_mcts\\replay_memory.py\u001b[0m in \u001b[0;36madd_all\u001b[1;34m(self, rows)\u001b[0m\n\u001b[0;32m     63\u001b[0m         \u001b[1;31m# assert len(actions) == len(rewards) == len(obs) == len(values)\u001b[0m\u001b[1;33m\u001b[0m\u001b[1;33m\u001b[0m\u001b[1;33m\u001b[0m\u001b[0m\n\u001b[0;32m     64\u001b[0m         \u001b[0mnum\u001b[0m \u001b[1;33m=\u001b[0m \u001b[0mlen\u001b[0m\u001b[1;33m(\u001b[0m\u001b[0mlist\u001b[0m\u001b[1;33m(\u001b[0m\u001b[0mrows\u001b[0m\u001b[1;33m.\u001b[0m\u001b[0mvalues\u001b[0m\u001b[1;33m(\u001b[0m\u001b[1;33m)\u001b[0m\u001b[1;33m)\u001b[0m\u001b[1;33m[\u001b[0m\u001b[1;36m0\u001b[0m\u001b[1;33m]\u001b[0m\u001b[1;33m)\u001b[0m\u001b[1;33m\u001b[0m\u001b[1;33m\u001b[0m\u001b[0m\n\u001b[1;32m---> 65\u001b[1;33m         \u001b[1;32massert\u001b[0m \u001b[0mall\u001b[0m\u001b[1;33m(\u001b[0m\u001b[0mlen\u001b[0m\u001b[1;33m(\u001b[0m\u001b[0mx\u001b[0m\u001b[1;33m)\u001b[0m \u001b[1;33m==\u001b[0m \u001b[0mnum\u001b[0m \u001b[1;32mfor\u001b[0m \u001b[0mx\u001b[0m \u001b[1;32min\u001b[0m \u001b[0mrows\u001b[0m\u001b[1;33m.\u001b[0m\u001b[0mvalues\u001b[0m\u001b[1;33m(\u001b[0m\u001b[1;33m)\u001b[0m\u001b[1;33m)\u001b[0m\u001b[1;33m\u001b[0m\u001b[1;33m\u001b[0m\u001b[0m\n\u001b[0m\u001b[0;32m     66\u001b[0m \u001b[1;33m\u001b[0m\u001b[0m\n\u001b[0;32m     67\u001b[0m         \u001b[1;32mif\u001b[0m \u001b[0mself\u001b[0m\u001b[1;33m.\u001b[0m\u001b[0mcurrent\u001b[0m \u001b[1;33m+\u001b[0m \u001b[0mnum\u001b[0m \u001b[1;33m<=\u001b[0m \u001b[0mself\u001b[0m\u001b[1;33m.\u001b[0m\u001b[0msize\u001b[0m\u001b[1;33m:\u001b[0m\u001b[1;33m\u001b[0m\u001b[1;33m\u001b[0m\u001b[0m\n",
      "\u001b[1;31mAssertionError\u001b[0m: "
     ]
    }
   ],
   "metadata": {}
  },
  {
   "cell_type": "code",
   "execution_count": null,
   "source": [],
   "outputs": [],
   "metadata": {}
  }
 ],
 "metadata": {
  "orig_nbformat": 4,
  "language_info": {
   "name": "python",
   "version": "3.7.9",
   "mimetype": "text/x-python",
   "codemirror_mode": {
    "name": "ipython",
    "version": 3
   },
   "pygments_lexer": "ipython3",
   "nbconvert_exporter": "python",
   "file_extension": ".py"
  },
  "kernelspec": {
   "name": "python3",
   "display_name": "Python 3.7.9 64-bit ('base': conda)"
  },
  "interpreter": {
   "hash": "fb698bdeab99cfbf9e31cab566d99a06e057f2dec3dcc8097ebabb329e860e16"
  }
 },
 "nbformat": 4,
 "nbformat_minor": 2
}