{
 "cells": [
  {
   "cell_type": "code",
   "execution_count": 1,
   "source": [
    "from lang import load_data_int_seq\n",
    "from models.rl.env import IntegerSequenceEnv\n",
    "from models.rl.agents.agent_mcts.main import train_mcts\n",
    "\n",
    "\n",
    "%load_ext autoreload\n",
    "%autoreload 2\n",
    "\n",
    "MAX_PENALTY_MAGNITUDE = 999.0"
   ],
   "outputs": [],
   "metadata": {}
  },
  {
   "cell_type": "code",
   "execution_count": 2,
   "source": [
    "output_lang, input_lang, train, X_test, y_test = load_data_int_seq()\n",
    "train = train[:1]\n",
    "env = IntegerSequenceEnv({\"data\": train, \"output_length\": 9, \"input_lang\": input_lang, \"output_lang\": output_lang, \"penalty_at_end\": True})"
   ],
   "outputs": [],
   "metadata": {}
  },
  {
   "cell_type": "code",
   "execution_count": null,
   "source": [
    "train_mcts(env, num_epochs=200, policy=None)"
   ],
   "outputs": [
    {
     "output_type": "error",
     "ename": "TypeError",
     "evalue": "super(type, obj): obj must be an instance or subtype of type",
     "traceback": [
      "\u001b[0;31m---------------------------------------------------------------------------\u001b[0m",
      "\u001b[0;31mTypeError\u001b[0m                                 Traceback (most recent call last)",
      "\u001b[0;32m<ipython-input-4-a2f93cb78b42>\u001b[0m in \u001b[0;36m<module>\u001b[0;34m\u001b[0m\n\u001b[0;32m----> 1\u001b[0;31m \u001b[0mtrain_mcts\u001b[0m\u001b[0;34m(\u001b[0m\u001b[0menv\u001b[0m\u001b[0;34m,\u001b[0m \u001b[0mnum_epochs\u001b[0m\u001b[0;34m=\u001b[0m\u001b[0;36m200\u001b[0m\u001b[0;34m,\u001b[0m \u001b[0mpolicy\u001b[0m\u001b[0;34m=\u001b[0m\u001b[0;32mNone\u001b[0m\u001b[0;34m)\u001b[0m\u001b[0;34m\u001b[0m\u001b[0;34m\u001b[0m\u001b[0m\n\u001b[0m",
      "\u001b[0;32m~/Dev/integer-sequence/function-gen/models/rl/agents/agent_mcts/main.py\u001b[0m in \u001b[0;36mtrain_mcts\u001b[0;34m(env, num_epochs, policy)\u001b[0m\n\u001b[1;32m     37\u001b[0m     \u001b[0mn_obs\u001b[0m \u001b[0;34m=\u001b[0m \u001b[0menv\u001b[0m\u001b[0;34m.\u001b[0m\u001b[0mobservation_space\u001b[0m\u001b[0;34m.\u001b[0m\u001b[0mshape\u001b[0m\u001b[0;34m[\u001b[0m\u001b[0;36m0\u001b[0m\u001b[0;34m]\u001b[0m\u001b[0;34m\u001b[0m\u001b[0;34m\u001b[0m\u001b[0m\n\u001b[1;32m     38\u001b[0m \u001b[0;34m\u001b[0m\u001b[0m\n\u001b[0;32m---> 39\u001b[0;31m     \u001b[0mtrainer\u001b[0m \u001b[0;34m=\u001b[0m \u001b[0mTrainer\u001b[0m\u001b[0;34m(\u001b[0m\u001b[0;32mlambda\u001b[0m\u001b[0;34m:\u001b[0m \u001b[0mIntegerPolicy\u001b[0m\u001b[0;34m(\u001b[0m\u001b[0mn_obs\u001b[0m\u001b[0;34m,\u001b[0m \u001b[0;36m20\u001b[0m\u001b[0;34m,\u001b[0m \u001b[0mn_actions\u001b[0m\u001b[0;34m)\u001b[0m \u001b[0;32mif\u001b[0m \u001b[0mpolicy\u001b[0m \u001b[0;32mis\u001b[0m \u001b[0;32mNone\u001b[0m \u001b[0;32melse\u001b[0m \u001b[0mpolicy\u001b[0m\u001b[0;34m)\u001b[0m\u001b[0;34m\u001b[0m\u001b[0;34m\u001b[0m\u001b[0m\n\u001b[0m\u001b[1;32m     40\u001b[0m     \u001b[0mnetwork\u001b[0m \u001b[0;34m=\u001b[0m \u001b[0mtrainer\u001b[0m\u001b[0;34m.\u001b[0m\u001b[0mstep_model\u001b[0m\u001b[0;34m\u001b[0m\u001b[0;34m\u001b[0m\u001b[0m\n\u001b[1;32m     41\u001b[0m \u001b[0;34m\u001b[0m\u001b[0m\n",
      "\u001b[0;32m~/Dev/integer-sequence/function-gen/models/rl/agents/agent_mcts/trainer.py\u001b[0m in \u001b[0;36m__init__\u001b[0;34m(self, Policy, learning_rate)\u001b[0m\n\u001b[1;32m     14\u001b[0m     \u001b[0;32mdef\u001b[0m \u001b[0m__init__\u001b[0m\u001b[0;34m(\u001b[0m\u001b[0mself\u001b[0m\u001b[0;34m,\u001b[0m \u001b[0mPolicy\u001b[0m\u001b[0;34m,\u001b[0m \u001b[0mlearning_rate\u001b[0m\u001b[0;34m=\u001b[0m\u001b[0;36m0.1\u001b[0m\u001b[0;34m)\u001b[0m\u001b[0;34m:\u001b[0m\u001b[0;34m\u001b[0m\u001b[0;34m\u001b[0m\u001b[0m\n\u001b[1;32m     15\u001b[0m \u001b[0;34m\u001b[0m\u001b[0m\n\u001b[0;32m---> 16\u001b[0;31m         \u001b[0mself\u001b[0m\u001b[0;34m.\u001b[0m\u001b[0mstep_model\u001b[0m \u001b[0;34m=\u001b[0m \u001b[0mPolicy\u001b[0m\u001b[0;34m(\u001b[0m\u001b[0;34m)\u001b[0m\u001b[0;34m\u001b[0m\u001b[0;34m\u001b[0m\u001b[0m\n\u001b[0m\u001b[1;32m     17\u001b[0m \u001b[0;34m\u001b[0m\u001b[0m\n\u001b[1;32m     18\u001b[0m         \u001b[0mvalue_criterion\u001b[0m \u001b[0;34m=\u001b[0m \u001b[0mnn\u001b[0m\u001b[0;34m.\u001b[0m\u001b[0mMSELoss\u001b[0m\u001b[0;34m(\u001b[0m\u001b[0;34m)\u001b[0m\u001b[0;34m\u001b[0m\u001b[0;34m\u001b[0m\u001b[0m\n",
      "\u001b[0;32m~/Dev/integer-sequence/function-gen/models/rl/agents/agent_mcts/main.py\u001b[0m in \u001b[0;36m<lambda>\u001b[0;34m()\u001b[0m\n\u001b[1;32m     37\u001b[0m     \u001b[0mn_obs\u001b[0m \u001b[0;34m=\u001b[0m \u001b[0menv\u001b[0m\u001b[0;34m.\u001b[0m\u001b[0mobservation_space\u001b[0m\u001b[0;34m.\u001b[0m\u001b[0mshape\u001b[0m\u001b[0;34m[\u001b[0m\u001b[0;36m0\u001b[0m\u001b[0;34m]\u001b[0m\u001b[0;34m\u001b[0m\u001b[0;34m\u001b[0m\u001b[0m\n\u001b[1;32m     38\u001b[0m \u001b[0;34m\u001b[0m\u001b[0m\n\u001b[0;32m---> 39\u001b[0;31m     \u001b[0mtrainer\u001b[0m \u001b[0;34m=\u001b[0m \u001b[0mTrainer\u001b[0m\u001b[0;34m(\u001b[0m\u001b[0;32mlambda\u001b[0m\u001b[0;34m:\u001b[0m \u001b[0mIntegerPolicy\u001b[0m\u001b[0;34m(\u001b[0m\u001b[0mn_obs\u001b[0m\u001b[0;34m,\u001b[0m \u001b[0;36m20\u001b[0m\u001b[0;34m,\u001b[0m \u001b[0mn_actions\u001b[0m\u001b[0;34m)\u001b[0m \u001b[0;32mif\u001b[0m \u001b[0mpolicy\u001b[0m \u001b[0;32mis\u001b[0m \u001b[0;32mNone\u001b[0m \u001b[0;32melse\u001b[0m \u001b[0mpolicy\u001b[0m\u001b[0;34m)\u001b[0m\u001b[0;34m\u001b[0m\u001b[0;34m\u001b[0m\u001b[0m\n\u001b[0m\u001b[1;32m     40\u001b[0m     \u001b[0mnetwork\u001b[0m \u001b[0;34m=\u001b[0m \u001b[0mtrainer\u001b[0m\u001b[0;34m.\u001b[0m\u001b[0mstep_model\u001b[0m\u001b[0;34m\u001b[0m\u001b[0;34m\u001b[0m\u001b[0m\n\u001b[1;32m     41\u001b[0m \u001b[0;34m\u001b[0m\u001b[0m\n",
      "\u001b[0;32m~/Dev/integer-sequence/function-gen/models/rl/agents/agent_mcts/policy.py\u001b[0m in \u001b[0;36m__init__\u001b[0;34m(self, n_obs, n_hidden, n_actions)\u001b[0m\n\u001b[1;32m     17\u001b[0m \u001b[0;34m\u001b[0m\u001b[0m\n\u001b[1;32m     18\u001b[0m     \u001b[0;32mdef\u001b[0m \u001b[0m__init__\u001b[0m\u001b[0;34m(\u001b[0m\u001b[0mself\u001b[0m\u001b[0;34m,\u001b[0m \u001b[0mn_obs\u001b[0m\u001b[0;34m,\u001b[0m \u001b[0mn_hidden\u001b[0m\u001b[0;34m,\u001b[0m \u001b[0mn_actions\u001b[0m\u001b[0;34m)\u001b[0m\u001b[0;34m:\u001b[0m\u001b[0;34m\u001b[0m\u001b[0;34m\u001b[0m\u001b[0m\n\u001b[0;32m---> 19\u001b[0;31m         \u001b[0msuper\u001b[0m\u001b[0;34m(\u001b[0m\u001b[0mIntegerPolicy\u001b[0m\u001b[0;34m,\u001b[0m \u001b[0mself\u001b[0m\u001b[0;34m)\u001b[0m\u001b[0;34m.\u001b[0m\u001b[0m__init__\u001b[0m\u001b[0;34m(\u001b[0m\u001b[0;34m)\u001b[0m\u001b[0;34m\u001b[0m\u001b[0;34m\u001b[0m\u001b[0m\n\u001b[0m\u001b[1;32m     20\u001b[0m \u001b[0;34m\u001b[0m\u001b[0m\n\u001b[1;32m     21\u001b[0m         \u001b[0mself\u001b[0m\u001b[0;34m.\u001b[0m\u001b[0mn_obs\u001b[0m \u001b[0;34m=\u001b[0m \u001b[0mn_obs\u001b[0m\u001b[0;34m\u001b[0m\u001b[0;34m\u001b[0m\u001b[0m\n",
      "\u001b[0;31mTypeError\u001b[0m: super(type, obj): obj must be an instance or subtype of type"
     ]
    }
   ],
   "metadata": {}
  },
  {
   "cell_type": "markdown",
   "source": [
    "# HillClimbingEnv"
   ],
   "metadata": {}
  },
  {
   "cell_type": "code",
   "execution_count": 5,
   "source": [
    "import torch\n",
    "import torch.nn as nn\n",
    "import torch.nn.functional as F\n",
    "m = nn.Softmax(dim=1)\n",
    "input = torch.randn(2, 3)\n",
    "output = m(input)\n",
    "\n",
    "print(output)\n",
    "print(torch.sum(output, dim=1))"
   ],
   "outputs": [
    {
     "output_type": "stream",
     "name": "stdout",
     "text": [
      "tensor([[0.0529, 0.6313, 0.3158],\n",
      "        [0.2920, 0.6516, 0.0564]])\n",
      "tensor([1., 1.])\n"
     ]
    }
   ],
   "metadata": {}
  },
  {
   "cell_type": "code",
   "execution_count": 6,
   "source": [
    "from models.rl.agents.agent_mcts.env_archive.hill_climbing_env import HillClimbingEnv"
   ],
   "outputs": [],
   "metadata": {}
  },
  {
   "cell_type": "code",
   "execution_count": 7,
   "source": [
    "env = HillClimbingEnv()"
   ],
   "outputs": [],
   "metadata": {}
  },
  {
   "cell_type": "code",
   "execution_count": 8,
   "source": [
    "train_mcts(env, num_epochs=2)"
   ],
   "outputs": [
    {
     "output_type": "error",
     "ename": "NameError",
     "evalue": "name 'train_mcts' is not defined",
     "traceback": [
      "\u001b[0;31m---------------------------------------------------------------------------\u001b[0m",
      "\u001b[0;31mNameError\u001b[0m                                 Traceback (most recent call last)",
      "\u001b[0;32m<ipython-input-8-4a3e64a06154>\u001b[0m in \u001b[0;36m<module>\u001b[0;34m\u001b[0m\n\u001b[0;32m----> 1\u001b[0;31m \u001b[0mtrain_mcts\u001b[0m\u001b[0;34m(\u001b[0m\u001b[0menv\u001b[0m\u001b[0;34m,\u001b[0m \u001b[0mnum_epochs\u001b[0m\u001b[0;34m=\u001b[0m\u001b[0;36m2\u001b[0m\u001b[0;34m)\u001b[0m\u001b[0;34m\u001b[0m\u001b[0;34m\u001b[0m\u001b[0m\n\u001b[0m",
      "\u001b[0;31mNameError\u001b[0m: name 'train_mcts' is not defined"
     ]
    }
   ],
   "metadata": {}
  },
  {
   "cell_type": "code",
   "execution_count": null,
   "source": [],
   "outputs": [],
   "metadata": {}
  },
  {
   "cell_type": "code",
   "execution_count": 36,
   "source": [
    "import matplotlib.pyplot as plt\n",
    "value_losses = [8.120367050170898, 0.0, 1.0, 9.726750373840332, 7.819188117980957, 6.215205669403076, 4.929923057556152, 3.938908815383911, 3.1917002201080322, 2.631671667098999, 2.209272623062134, 1.8863438367843628, 1.6352969408035278, 1.4366923570632935, 1.276902198791504, 1.1463127136230469, 1.0380536317825317, 0.9471443295478821, 0.869920551776886, 0.8036395907402039, 0.7462201118469238, 0.6960629224777222, 0.6519147753715515, 0.6127952933311462, 0.5779146552085876, 0.5466380715370178, 0.5184493660926819, 0.4929257035255432, 0.4697134792804718, 0.4485212564468384, 0.42909908294677734, 0.41124123334884644, 0.39476874470710754, 0.37952926754951477, 0.36539238691329956, 0.35224491357803345, 0.33998775482177734, 0.3285349905490875, 0.31781110167503357, 0.30774909257888794, 0.2982923686504364, 0.289387047290802, 0.2809865176677704, 0.27305158972740173, 0.26554322242736816, 0.25843000411987305, 0.25168073177337646, 0.24526852369308472, 0.23916971683502197, 0.23336268961429596, 0.22782453894615173, 0.2225402295589447, 0.21749117970466614, 0.21266265213489532, 0.20803986489772797, 0.20361250638961792, 0.1993662416934967, 0.195291206240654, 0.19137634336948395, 0.18761339783668518, 0.1839941442012787, 0.18051081895828247, 0.17715393006801605, 0.17391857504844666, 0.1707974672317505, 0.16778506338596344, 0.1648758202791214, 0.16206586360931396, 0.15934786200523376, 0.15671849250793457, 0.15417328476905823, 0.15170888602733612, 0.14932137727737427, 0.14700622856616974, 32.23725128173828, 1.0, 30.925750732421875, 0.24039007723331451, 0.23451849818229675, 0.22892242670059204, 0.2235817015171051, 27.73172378540039, 23.82838249206543, 0.6066253185272217, 0.5720002055168152, 0.5409716367721558, 0.5130198001861572, 0.48772090673446655, 0.46472227573394775, 0.443731427192688, 0.42449864745140076, 0.406821072101593, 0.390516459941864, 0.37543758749961853, 0.3614499568939209, 0.3484443426132202, 0.33632004261016846, 0.32499343156814575, 0.31438958644866943, 0.3044406771659851]\n",
    "policy_losses = [8.120367050170898, 0.0, 2.0, 9.726750373840332, 7.819188117980957, 6.215205669403076, 4.929923057556152, 3.938908815383911, 3.1917002201080322, 2.631671667098999, 2.209272623062134, 1.8863438367843628, 1.6352969408035278, 1.4366923570632935, 1.276902198791504, 1.1463127136230469, 1.0380536317825317, 0.9471443295478821, 0.869920551776886, 0.8036395907402039, 0.7462201118469238, 0.6960629224777222, 0.6519147753715515, 0.6127952933311462, 0.5779146552085876, 0.5466380715370178, 0.5184493660926819, 0.4929257035255432, 0.4697134792804718, 0.4485212564468384, 0.42909908294677734, 0.41124123334884644, 0.39476874470710754, 0.37952926754951477, 0.36539238691329956, 0.35224491357803345, 0.33998775482177734, 0.3285349905490875, 0.31781110167503357, 0.30774909257888794, 0.2982923686504364, 0.289387047290802, 0.2809865176677704, 0.27305158972740173, 0.26554322242736816, 0.25843000411987305, 0.25168073177337646, 0.24526852369308472, 0.23916971683502197, 0.23336268961429596, 0.22782453894615173, 0.2225402295589447, 0.21749117970466614, 0.21266265213489532, 0.20803986489772797, 0.20361250638961792, 0.1993662416934967, 0.195291206240654, 0.19137634336948395, 0.18761339783668518, 0.1839941442012787, 0.18051081895828247, 0.17715393006801605, 0.17391857504844666, 0.1707974672317505, 0.16778506338596344, 0.1648758202791214, 0.16206586360931396, 0.15934786200523376, 0.15671849250793457, 0.15417328476905823, 0.15170888602733612, 0.14932137727737427, 0.14700622856616974, 32.23725128173828, 1.0, 30.925750732421875, 0.24039007723331451, 0.23451849818229675, 0.22892242670059204, 0.2235817015171051, 27.73172378540039, 23.82838249206543, 0.6066253185272217, 0.5720002055168152, 0.5409716367721558, 0.5130198001861572, 0.48772090673446655, 0.46472227573394775, 0.443731427192688, 0.42449864745140076, 0.406821072101593, 0.390516459941864, 0.37543758749961853, 0.3614499568939209, 0.3484443426132202, 0.33632004261016846, 0.32499343156814575, 0.31438958644866943, 0.3044406771659851]\n",
    "\n",
    "# plt.plot(policy_losses)\n",
    "\n",
    "fig, axs = plt.subplots(3, 1)\n",
    "            \n",
    "\n",
    "axs[0].plot(policy_losses)\n",
    "\n",
    "# axs[0].plot(value_losses)\n",
    "# axs[0].set_xlabel(\"epochs\")\n",
    "# axs[0].set_ylabel(\"value loss\")\n",
    "\n",
    "# axs[1].plot(policy_losses)\n",
    "# axs[1].set_xlabel(\"epochs\")\n",
    "# axs[1].set_ylabel(\"policy loss\")\n",
    "\n",
    "\n",
    "# axs[2].plot(total_rews)\n",
    "# axs[2].set_xlabel(\"epochs\")\n",
    "# axs[2].set_ylabel(\"testing loss\")\n",
    "\n",
    "fig.savefig(\"training_{}.jpg\".format(\"testing numbers2\"))"
   ],
   "outputs": [],
   "metadata": {}
  },
  {
   "cell_type": "code",
   "execution_count": 28,
   "source": [
    "fig, axs = plt.subplots(1, 2, constrained_layout=True)"
   ],
   "outputs": [],
   "metadata": {}
  },
  {
   "cell_type": "code",
   "execution_count": 29,
   "source": [
    "ax = axs[0]\n",
    "ax.plot(range(10))"
   ],
   "outputs": [
    {
     "output_type": "execute_result",
     "data": {
      "text/plain": [
       "[<matplotlib.lines.Line2D at 0x1fd22f97e48>]"
      ]
     },
     "metadata": {},
     "execution_count": 29
    }
   ],
   "metadata": {}
  },
  {
   "cell_type": "code",
   "execution_count": 31,
   "source": [
    "ax.show()"
   ],
   "outputs": [
    {
     "output_type": "error",
     "ename": "AttributeError",
     "evalue": "'AxesSubplot' object has no attribute 'show'",
     "traceback": [
      "\u001b[1;31m---------------------------------------------------------------------------\u001b[0m",
      "\u001b[1;31mAttributeError\u001b[0m                            Traceback (most recent call last)",
      "\u001b[1;32m<ipython-input-31-ece30bd5e827>\u001b[0m in \u001b[0;36m<module>\u001b[1;34m\u001b[0m\n\u001b[1;32m----> 1\u001b[1;33m \u001b[0max\u001b[0m\u001b[1;33m.\u001b[0m\u001b[0mshow\u001b[0m\u001b[1;33m(\u001b[0m\u001b[1;33m)\u001b[0m\u001b[1;33m\u001b[0m\u001b[1;33m\u001b[0m\u001b[0m\n\u001b[0m",
      "\u001b[1;31mAttributeError\u001b[0m: 'AxesSubplot' object has no attribute 'show'"
     ]
    }
   ],
   "metadata": {}
  },
  {
   "cell_type": "code",
   "execution_count": null,
   "source": [],
   "outputs": [],
   "metadata": {}
  }
 ],
 "metadata": {
  "orig_nbformat": 4,
  "language_info": {
   "name": "python",
   "version": "3.9.2",
   "mimetype": "text/x-python",
   "codemirror_mode": {
    "name": "ipython",
    "version": 3
   },
   "pygments_lexer": "ipython3",
   "nbconvert_exporter": "python",
   "file_extension": ".py"
  },
  "kernelspec": {
   "name": "python3",
   "display_name": "Python 3.9.2 64-bit ('deeplearning': conda)"
  },
  "interpreter": {
   "hash": "a630840cc17be2676cbce8189d2083744dc2f6895f9cfddc5644aa2e06831cd0"
  }
 },
 "nbformat": 4,
 "nbformat_minor": 2
}