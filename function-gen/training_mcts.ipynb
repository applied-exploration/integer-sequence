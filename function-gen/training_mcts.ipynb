{
 "cells": [
  {
   "cell_type": "code",
   "execution_count": 1,
   "source": [
    "import random\r\n",
    "from lang import load_data_int_seq\r\n",
    "from utils import eq_encoder, is_eq_valid, normalize_0_1\r\n",
    "from typing import List\r\n",
    "from models.rl.env import IntegerSequenceEnv, get_current_position, encode_with_lang, decode_with_lang, eq_to_seq\r\n",
    "\r\n",
    "import gym\r\n",
    "import numpy as np\r\n",
    "\r\n",
    "%load_ext autoreload\r\n",
    "%autoreload 2\r\n",
    "\r\n",
    "MAX_PENALTY_MAGNITUDE = 999.0"
   ],
   "outputs": [],
   "metadata": {}
  },
  {
   "cell_type": "code",
   "execution_count": null,
   "source": [
    "output_lang, input_lang, train, X_test, y_test = load_data_int_seq()\r\n",
    "train = train[:1]"
   ],
   "outputs": [],
   "metadata": {}
  },
  {
   "cell_type": "code",
   "execution_count": null,
   "source": [
    "def compare_sequences(output_sequence: List[int], target_sequence: List[int]) -> float:\r\n",
    "\r\n",
    "    if len(output_sequence) != len(target_sequence):\r\n",
    "        raise AssertionError(\"sequence size don't match: \" + ','.join(str(e) for e in output_sequence)\r\n",
    " + \" | \" + ','.join(str(e) for e in target_sequence))\r\n",
    "\r\n",
    "    magnitude: float = 0.0\r\n",
    "\r\n",
    "    combined_seq = np.vstack([output_sequence, target_sequence]) \r\n",
    "    norm_comb_seq = normalize_0_1(combined_seq)\r\n",
    "\r\n",
    "    norm_output_seq = norm_comb_seq[0]\r\n",
    "    norm_target_seq = norm_comb_seq[1]\r\n",
    "\r\n",
    "    \r\n",
    "    for x, y in zip(norm_target_seq, norm_output_seq):\r\n",
    "        magnitude += abs(x - y)#**2\r\n",
    "\r\n",
    "    # magnitude /= len(norm_target_seq)\r\n",
    "\r\n",
    "    return 10 - (magnitude * 100)\r\n",
    "\r\n"
   ],
   "outputs": [],
   "metadata": {}
  },
  {
   "cell_type": "code",
   "execution_count": null,
   "source": [
    "def evaluate_candidate_eq(candidate: str, int_seq: List[int]) -> float:\r\n",
    "    if is_eq_valid(candidate) == False:\r\n",
    "        return -MAX_PENALTY_MAGNITUDE\r\n",
    "\r\n",
    "    output_sequence = eq_to_seq(candidate, 9)\r\n",
    "\r\n",
    "    if np.count_nonzero(output_sequence) < 1:\r\n",
    "        return -MAX_PENALTY_MAGNITUDE\r\n",
    "\r\n",
    "    return compare_sequences(output_sequence, int_seq)"
   ],
   "outputs": [],
   "metadata": {}
  },
  {
   "cell_type": "code",
   "execution_count": null,
   "source": [
    "env = IntegerSequenceEnv({\"data\": train, \"output_length\": 9, \"input_lang\": input_lang, \"output_lang\": output_lang, \"evaluate\": evaluate_candidate_eq})"
   ],
   "outputs": [],
   "metadata": {}
  }
 ],
 "metadata": {
  "orig_nbformat": 4,
  "language_info": {
   "name": "python",
   "version": "3.7.9",
   "mimetype": "text/x-python",
   "codemirror_mode": {
    "name": "ipython",
    "version": 3
   },
   "pygments_lexer": "ipython3",
   "nbconvert_exporter": "python",
   "file_extension": ".py"
  },
  "kernelspec": {
   "name": "python3",
   "display_name": "Python 3.7.9 64-bit ('base': conda)"
  },
  "interpreter": {
   "hash": "fb698bdeab99cfbf9e31cab566d99a06e057f2dec3dcc8097ebabb329e860e16"
  }
 },
 "nbformat": 4,
 "nbformat_minor": 2
}