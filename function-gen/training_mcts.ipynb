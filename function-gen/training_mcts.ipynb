{
 "cells": [
  {
   "cell_type": "code",
   "execution_count": 1,
   "source": [
    "from lang import load_data_int_seq\r\n",
    "from models.rl.env import IntegerSequenceEnv\r\n",
    "from models.rl.agents.agent_mcts.main import train_mcts\r\n",
    "\r\n",
    "\r\n",
    "%load_ext autoreload\r\n",
    "%autoreload 2\r\n",
    "\r\n",
    "MAX_PENALTY_MAGNITUDE = 999.0"
   ],
   "outputs": [],
   "metadata": {}
  },
  {
   "cell_type": "code",
   "execution_count": 2,
   "source": [
    "output_lang, input_lang, train, X_test, y_test = load_data_int_seq()\r\n",
    "train = train[:1]\r\n",
    "env = IntegerSequenceEnv({\"data\": train, \"output_length\": 9, \"input_lang\": input_lang, \"output_lang\": output_lang, \"penalty_at_end\": True})"
   ],
   "outputs": [
    {
     "output_type": "stream",
     "name": "stdout",
     "text": [
      "self.state\n",
      "[-1, -1, -1, -1, -1, -1, -1, -1, -1, 0, 1, 2, 3, 4, 5, 6, 7, 8]\n"
     ]
    }
   ],
   "metadata": {}
  },
  {
   "cell_type": "code",
   "execution_count": 31,
   "source": [
    "train_mcts(env, num_epochs=500, policy=None, test=False)"
   ],
   "outputs": [
    {
     "output_type": "stream",
     "name": "stdout",
     "text": [
      "Testing Agent\n",
      "\n",
      "Training Episodes: 0\n",
      "Action: 2\n",
      "State:\n",
      "[[-1 -1 -1 -1 -1 -1 -1 -1 -1  0  1  2  3  4  5  6  7  8]\n",
      " [ 9 -1 -1 -1 -1 -1 -1 -1 -1  0  1  2  3  4  5  6  7  8]\n",
      " [ 9  4 -1 -1 -1 -1 -1 -1 -1  0  1  2  3  4  5  6  7  8]\n",
      " [ 9  4  5 -1 -1 -1 -1 -1 -1  0  1  2  3  4  5  6  7  8]\n",
      " [ 9  4  5  4 -1 -1 -1 -1 -1  0  1  2  3  4  5  6  7  8]\n",
      " [ 9  4  5  4  2 -1 -1 -1 -1  0  1  2  3  4  5  6  7  8]\n",
      " [ 9  4  5  4  2  4 -1 -1 -1  0  1  2  3  4  5  6  7  8]\n",
      " [ 9  4  5  4  2  4  2 -1 -1  0  1  2  3  4  5  6  7  8]\n",
      " [ 9  4  5  4  2  4  2  1 -1  0  1  2  3  4  5  6  7  8]\n",
      " [ 9  4  5  4  2  4  2  1  2  0  1  2  3  4  5  6  7  8]]\n",
      "['9', '-', '1', '-', '3', '-', '3', '+', '3']\n",
      "Step: 9\n",
      "Return: -100.0\n"
     ]
    }
   ],
   "metadata": {}
  },
  {
   "cell_type": "markdown",
   "source": [
    "# HillClimbingEnv"
   ],
   "metadata": {}
  },
  {
   "cell_type": "code",
   "execution_count": null,
   "source": [
    "from models.rl.agents.agent_mcts.env_archive.hill_climbing_env import HillClimbingEnv"
   ],
   "outputs": [],
   "metadata": {}
  },
  {
   "cell_type": "code",
   "execution_count": null,
   "source": [
    "env = HillClimbingEnv()"
   ],
   "outputs": [],
   "metadata": {}
  },
  {
   "cell_type": "code",
   "execution_count": null,
   "source": [
    "train_mcts(env, num_epochs=2, policy=policy)"
   ],
   "outputs": [],
   "metadata": {}
  },
  {
   "cell_type": "code",
   "execution_count": null,
   "source": [],
   "outputs": [],
   "metadata": {}
  }
 ],
 "metadata": {
  "orig_nbformat": 4,
  "language_info": {
   "name": "python",
   "version": "3.7.9",
   "mimetype": "text/x-python",
   "codemirror_mode": {
    "name": "ipython",
    "version": 3
   },
   "pygments_lexer": "ipython3",
   "nbconvert_exporter": "python",
   "file_extension": ".py"
  },
  "kernelspec": {
   "name": "python3",
   "display_name": "Python 3.7.9 64-bit ('base': conda)"
  },
  "interpreter": {
   "hash": "fb698bdeab99cfbf9e31cab566d99a06e057f2dec3dcc8097ebabb329e860e16"
  }
 },
 "nbformat": 4,
 "nbformat_minor": 2
}