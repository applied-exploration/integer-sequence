{
 "cells": [
  {
   "cell_type": "code",
   "execution_count": 1,
   "source": [
    "from lang import load_data_int_seq\r\n",
    "from models.rl.env import IntegerSequenceEnv\r\n",
    "from models.rl.agents.agent_mcts.main import train_mcts\r\n",
    "\r\n",
    "\r\n",
    "%load_ext autoreload\r\n",
    "%autoreload 2\r\n"
   ],
   "outputs": [],
   "metadata": {}
  },
  {
   "cell_type": "code",
   "execution_count": 2,
   "source": [
    "output_lang, input_lang, train, X_test, y_test = load_data_int_seq()\r\n",
    "train = train[1:2]\r\n",
    "env = IntegerSequenceEnv({\"data\": train, \"output_length\": 9, \"input_lang\": input_lang, \"output_lang\": output_lang, \"penalty_at_end\": True})"
   ],
   "outputs": [
    {
     "output_type": "stream",
     "name": "stdout",
     "text": [
      "self.state\n",
      "[-1, -1, -1, -1, -1, -1, -1, -1, -1, 9, 3, 10, 7, 11, 12, 13, 14, 15]\n"
     ]
    }
   ],
   "metadata": {}
  },
  {
   "cell_type": "code",
   "execution_count": 3,
   "source": [
    "train_mcts(env, num_epochs=101, policy=None, test=False)"
   ],
   "outputs": [
    {
     "output_type": "stream",
     "name": "stdout",
     "text": [
      "Testing Agent\n",
      "\u001b[94m|Node: action=None   | N=1.0\u001b[0m\n",
      "\u001b[94m|Node: action=5   | N=6.0\u001b[0m\n",
      "\u001b[94m|----Node: action=1   | N=1.0\u001b[0m\n",
      "\u001b[94m|----Node: action=3   | N=2.0\u001b[0m\n",
      "\u001b[94m|--------Node: action=7   | N=1.0\u001b[0m\n",
      "\u001b[94m|----Node: action=4   | N=2.0\u001b[0m\n",
      "\u001b[94m|--------Node: action=7   | N=1.0\u001b[0m\n",
      "\u001b[94m|Node: action=3   | N=26.0\u001b[0m\n",
      "\u001b[94m|----Node: action=0   | N=3.0\u001b[0m\n",
      "\u001b[94m|--------Node: action=3   | N=1.0\u001b[0m\n",
      "\u001b[94m|--------Node: action=4   | N=1.0\u001b[0m\n",
      "\u001b[94m|----Node: action=2   | N=2.0\u001b[0m\n",
      "\u001b[94m|--------Node: action=4   | N=1.0\u001b[0m\n",
      "\u001b[94m|----Node: action=5   | N=2.0\u001b[0m\n",
      "\u001b[94m|--------Node: action=4   | N=1.0\u001b[0m\n",
      "\u001b[94m|----Node: action=6   | N=2.0\u001b[0m\n",
      "\u001b[94m|--------Node: action=4   | N=1.0\u001b[0m\n",
      "\u001b[94m|----Node: action=7   | N=3.0\u001b[0m\n",
      "\u001b[94m|--------Node: action=3   | N=1.0\u001b[0m\n",
      "\u001b[94m|--------Node: action=4   | N=1.0\u001b[0m\n",
      "\u001b[94m|----Node: action=8   | N=2.0\u001b[0m\n",
      "\u001b[94m|--------Node: action=4   | N=1.0\u001b[0m\n",
      "\u001b[94m|----Node: action=9   | N=2.0\u001b[0m\n",
      "\u001b[94m|--------Node: action=4   | N=1.0\u001b[0m\n",
      "\u001b[94m|----Node: action=10   | N=2.0\u001b[0m\n",
      "\u001b[94m|--------Node: action=4   | N=1.0\u001b[0m\n",
      "\u001b[94m|----Node: action=11   | N=2.0\u001b[0m\n",
      "\u001b[94m|--------Node: action=4   | N=1.0\u001b[0m\n",
      "\u001b[94m|----Node: action=12   | N=2.0\u001b[0m\n",
      "\u001b[94m|--------Node: action=4   | N=1.0\u001b[0m\n",
      "\u001b[94m|----Node: action=13   | N=3.0\u001b[0m\n",
      "\u001b[94m|--------Node: action=3   | N=1.0\u001b[0m\n",
      "\u001b[94m|--------Node: action=4   | N=1.0\u001b[0m\n",
      "\u001b[94m|Node: action=9   | N=8.0\u001b[0m\n",
      "\u001b[94m|----Node: action=1   | N=2.0\u001b[0m\n",
      "\u001b[94m|--------Node: action=7   | N=1.0\u001b[0m\n",
      "\u001b[94m|----Node: action=3   | N=2.0\u001b[0m\n",
      "\u001b[94m|--------Node: action=7   | N=1.0\u001b[0m\n",
      "\u001b[94m|----Node: action=4   | N=3.0\u001b[0m\n",
      "\u001b[94m|--------Node: action=0   | N=1.0\u001b[0m\n",
      "\u001b[94m|--------Node: action=7   | N=1.0\u001b[0m\n",
      "\u001b[94m|Node: action=4   | N=27.0\u001b[0m\n",
      "\u001b[94m|----Node: action=0   | N=3.0\u001b[0m\n",
      "\u001b[94m|--------Node: action=3   | N=1.0\u001b[0m\n",
      "\u001b[94m|--------Node: action=4   | N=1.0\u001b[0m\n",
      "\u001b[94m|----Node: action=2   | N=2.0\u001b[0m\n",
      "\u001b[94m|--------Node: action=4   | N=1.0\u001b[0m\n",
      "\u001b[94m|----Node: action=5   | N=3.0\u001b[0m\n",
      "\u001b[94m|--------Node: action=3   | N=1.0\u001b[0m\n",
      "\u001b[94m|--------Node: action=4   | N=1.0\u001b[0m\n",
      "\u001b[94m|----Node: action=6   | N=2.0\u001b[0m\n",
      "\u001b[94m|--------Node: action=4   | N=1.0\u001b[0m\n",
      "\u001b[94m|----Node: action=7   | N=3.0\u001b[0m\n",
      "\u001b[94m|--------Node: action=3   | N=1.0\u001b[0m\n",
      "\u001b[94m|--------Node: action=4   | N=1.0\u001b[0m\n",
      "\u001b[94m|----Node: action=8   | N=2.0\u001b[0m\n",
      "\u001b[94m|--------Node: action=4   | N=1.0\u001b[0m\n",
      "\u001b[94m|----Node: action=9   | N=2.0\u001b[0m\n",
      "\u001b[94m|--------Node: action=4   | N=1.0\u001b[0m\n",
      "\u001b[94m|----Node: action=10   | N=2.0\u001b[0m\n",
      "\u001b[94m|--------Node: action=4   | N=1.0\u001b[0m\n",
      "\u001b[94m|----Node: action=11   | N=2.0\u001b[0m\n",
      "\u001b[94m|--------Node: action=4   | N=1.0\u001b[0m\n",
      "\u001b[94m|----Node: action=12   | N=2.0\u001b[0m\n",
      "\u001b[94m|--------Node: action=4   | N=1.0\u001b[0m\n",
      "\u001b[94m|----Node: action=13   | N=3.0\u001b[0m\n",
      "\u001b[94m|--------Node: action=3   | N=1.0\u001b[0m\n",
      "\u001b[94m|--------Node: action=4   | N=1.0\u001b[0m\n",
      "\u001b[94m|Node: action=7   | N=10.0\u001b[0m\n",
      "\u001b[94m|----Node: action=1   | N=3.0\u001b[0m\n",
      "\u001b[94m|--------Node: action=0   | N=1.0\u001b[0m\n",
      "\u001b[94m|--------Node: action=7   | N=1.0\u001b[0m\n",
      "\u001b[94m|----Node: action=3   | N=3.0\u001b[0m\n",
      "\u001b[94m|--------Node: action=0   | N=1.0\u001b[0m\n",
      "\u001b[94m|--------Node: action=7   | N=1.0\u001b[0m\n",
      "\u001b[94m|----Node: action=4   | N=3.0\u001b[0m\n",
      "\u001b[94m|--------Node: action=0   | N=1.0\u001b[0m\n",
      "\u001b[94m|--------Node: action=7   | N=1.0\u001b[0m\n",
      "\u001b[94m|Node: action=3   | N=19.0\u001b[0m\n",
      "\u001b[94m|----Node: action=0   | N=2.0\u001b[0m\n",
      "\u001b[94m|--------Node: action=4   | N=1.0\u001b[0m\n",
      "\u001b[94m|----Node: action=2   | N=1.0\u001b[0m\n",
      "\u001b[94m|----Node: action=5   | N=2.0\u001b[0m\n",
      "\u001b[94m|--------Node: action=4   | N=1.0\u001b[0m\n",
      "\u001b[94m|----Node: action=6   | N=1.0\u001b[0m\n",
      "\u001b[94m|----Node: action=7   | N=2.0\u001b[0m\n",
      "\u001b[94m|--------Node: action=4   | N=1.0\u001b[0m\n",
      "\u001b[94m|----Node: action=8   | N=2.0\u001b[0m\n",
      "\u001b[94m|--------Node: action=4   | N=1.0\u001b[0m\n",
      "\u001b[94m|----Node: action=9   | N=2.0\u001b[0m\n",
      "\u001b[94m|--------Node: action=4   | N=1.0\u001b[0m\n",
      "\u001b[94m|----Node: action=10   | N=2.0\u001b[0m\n",
      "\u001b[94m|--------Node: action=4   | N=1.0\u001b[0m\n",
      "\u001b[94m|----Node: action=11   | N=1.0\u001b[0m\n",
      "\u001b[94m|----Node: action=12   | N=1.0\u001b[0m\n",
      "\u001b[94m|----Node: action=13   | N=2.0\u001b[0m\n",
      "\u001b[94m|--------Node: action=4   | N=1.0\u001b[0m\n",
      "\u001b[94m|Node: action=8   | N=25.0\u001b[0m\n",
      "\u001b[94m|----Node: action=1   | N=8.0\u001b[0m\n",
      "\u001b[94m|--------Node: action=0   | N=1.0\u001b[0m\n",
      "\u001b[94m|--------Node: action=5   | N=1.0\u001b[0m\n",
      "\u001b[94m|--------Node: action=6   | N=1.0\u001b[0m\n",
      "\u001b[94m|--------Node: action=7   | N=1.0\u001b[0m\n",
      "\u001b[94m|--------Node: action=8   | N=1.0\u001b[0m\n",
      "\u001b[94m|--------Node: action=10   | N=1.0\u001b[0m\n",
      "\u001b[94m|--------Node: action=13   | N=1.0\u001b[0m\n",
      "\u001b[94m|----Node: action=3   | N=13.0\u001b[0m\n",
      "\u001b[94m|--------Node: action=0   | N=1.0\u001b[0m\n",
      "\u001b[94m|--------Node: action=2   | N=1.0\u001b[0m\n",
      "\u001b[94m|--------Node: action=5   | N=1.0\u001b[0m\n",
      "\u001b[94m|--------Node: action=6   | N=1.0\u001b[0m\n",
      "\u001b[94m|--------Node: action=7   | N=2.0\u001b[0m\n",
      "\u001b[94m|--------Node: action=8   | N=1.0\u001b[0m\n",
      "\u001b[94m|--------Node: action=9   | N=1.0\u001b[0m\n",
      "\u001b[94m|--------Node: action=10   | N=1.0\u001b[0m\n",
      "\u001b[94m|--------Node: action=11   | N=1.0\u001b[0m\n",
      "\u001b[94m|--------Node: action=12   | N=1.0\u001b[0m\n",
      "\u001b[94m|--------Node: action=13   | N=1.0\u001b[0m\n",
      "\u001b[94m|----Node: action=4   | N=3.0\u001b[0m\n",
      "\u001b[94m|--------Node: action=0   | N=1.0\u001b[0m\n",
      "\u001b[94m|--------Node: action=7   | N=1.0\u001b[0m\n",
      "\u001b[94m|Node: action=3   | N=76.0\u001b[0m\n",
      "\u001b[94m|----Node: action=0   | N=7.0\u001b[0m\n",
      "\u001b[94m|----Node: action=2   | N=7.0\u001b[0m\n",
      "\u001b[94m|----Node: action=5   | N=7.0\u001b[0m\n",
      "\u001b[94m|----Node: action=6   | N=7.0\u001b[0m\n",
      "\u001b[94m|----Node: action=7   | N=7.0\u001b[0m\n",
      "\u001b[94m|----Node: action=8   | N=7.0\u001b[0m\n",
      "\u001b[94m|----Node: action=9   | N=7.0\u001b[0m\n",
      "\u001b[94m|----Node: action=10   | N=7.0\u001b[0m\n",
      "\u001b[94m|----Node: action=11   | N=6.0\u001b[0m\n",
      "\u001b[94m|----Node: action=12   | N=6.0\u001b[0m\n",
      "\u001b[94m|----Node: action=13   | N=7.0\u001b[0m\n"
     ]
    },
    {
     "output_type": "stream",
     "name": "stderr",
     "text": [
      "c:\\Users\\danie\\Code\\ai\\research company\\integer-sequence\\function-gen\\models\\rl\\agents\\agent_mcts\\MCTS_node.py:263: RuntimeWarning: invalid value encountered in true_divide\n",
      "  return probs / np.sum(probs)\n"
     ]
    },
    {
     "output_type": "stream",
     "name": "stdout",
     "text": [
      "\n",
      "Training Episodes: 0\n",
      "Action: 0\n",
      "State:\n",
      "[ 5  3  9  4  7  3  8  3  0  9  3 10  7 11 12 13 14 15]\n",
      "['1', '*', '9', '-', '6', '*', '0', '*', 't']\n",
      "Step: 9\n",
      "Return: -231.66666666666666\n"
     ]
    },
    {
     "output_type": "stream",
     "name": "stderr",
     "text": [
      "C:\\Users\\danie\\anaconda3\\lib\\site-packages\\torch\\autograd\\__init__.py:132: UserWarning: CUDA initialization: CUDA unknown error - this may be due to an incorrectly set up environment, e.g. changing env variable CUDA_VISIBLE_DEVICES after program start. Setting the available devices to be zero. (Triggered internally at  ..\\c10\\cuda\\CUDAFunctions.cpp:100.)\n",
      "  allow_unreachable=True)  # allow_unreachable flag\n"
     ]
    },
    {
     "output_type": "stream",
     "name": "stdout",
     "text": [
      "Testing Agent\n",
      "\u001b[94m|Node: action=None   | N=1.0\u001b[0m\n",
      "\u001b[94m|Node: action=0   | N=72.0\u001b[0m\n",
      "\u001b[94m|----Node: action=1   | N=71.0\u001b[0m\n",
      "\u001b[94m|--------Node: action=0   | N=70.0\u001b[0m\n",
      "\u001b[94m|------------Node: action=1   | N=69.0\u001b[0m\n",
      "\u001b[94m|----------------Node: action=0   | N=68.0\u001b[0m\n",
      "\u001b[94m|--------------------Node: action=1   | N=67.0\u001b[0m\n",
      "\u001b[94m|------------------------Node: action=0   | N=66.0\u001b[0m\n",
      "\u001b[94m|----------------------------Node: action=1   | N=65.0\u001b[0m\n",
      "\u001b[94m|--------------------------------Node: action=0   | N=64.0\u001b[0m\n",
      "\u001b[94m|Node: action=1   | N=135.0\u001b[0m\n",
      "\u001b[94m|----Node: action=0   | N=134.0\u001b[0m\n",
      "\u001b[94m|--------Node: action=1   | N=133.0\u001b[0m\n",
      "\u001b[94m|------------Node: action=0   | N=132.0\u001b[0m\n",
      "\u001b[94m|----------------Node: action=1   | N=131.0\u001b[0m\n",
      "\u001b[94m|--------------------Node: action=0   | N=130.0\u001b[0m\n",
      "\u001b[94m|------------------------Node: action=1   | N=129.0\u001b[0m\n",
      "\u001b[94m|----------------------------Node: action=0   | N=128.0\u001b[0m\n",
      "\u001b[94m|Node: action=0   | N=198.0\u001b[0m\n",
      "\u001b[94m|----Node: action=1   | N=197.0\u001b[0m\n",
      "\u001b[94m|--------Node: action=0   | N=196.0\u001b[0m\n",
      "\u001b[94m|------------Node: action=1   | N=195.0\u001b[0m\n",
      "\u001b[94m|----------------Node: action=0   | N=194.0\u001b[0m\n",
      "\u001b[94m|--------------------Node: action=1   | N=193.0\u001b[0m\n",
      "\u001b[94m|------------------------Node: action=0   | N=192.0\u001b[0m\n",
      "\u001b[94m|Node: action=1   | N=261.0\u001b[0m\n",
      "\u001b[94m|----Node: action=0   | N=260.0\u001b[0m\n",
      "\u001b[94m|--------Node: action=1   | N=259.0\u001b[0m\n",
      "\u001b[94m|------------Node: action=0   | N=258.0\u001b[0m\n",
      "\u001b[94m|----------------Node: action=1   | N=257.0\u001b[0m\n",
      "\u001b[94m|--------------------Node: action=0   | N=256.0\u001b[0m\n",
      "\u001b[94m|Node: action=0   | N=324.0\u001b[0m\n",
      "\u001b[94m|----Node: action=1   | N=323.0\u001b[0m\n",
      "\u001b[94m|--------Node: action=0   | N=322.0\u001b[0m\n",
      "\u001b[94m|------------Node: action=1   | N=321.0\u001b[0m\n",
      "\u001b[94m|----------------Node: action=0   | N=320.0\u001b[0m\n",
      "\u001b[94m|Node: action=1   | N=387.0\u001b[0m\n",
      "\u001b[94m|----Node: action=0   | N=386.0\u001b[0m\n",
      "\u001b[94m|--------Node: action=1   | N=385.0\u001b[0m\n",
      "\u001b[94m|------------Node: action=0   | N=384.0\u001b[0m\n",
      "\u001b[94m|Node: action=0   | N=450.0\u001b[0m\n",
      "\u001b[94m|----Node: action=1   | N=449.0\u001b[0m\n",
      "\u001b[94m|--------Node: action=0   | N=448.0\u001b[0m\n",
      "\u001b[94m|Node: action=1   | N=513.0\u001b[0m\n",
      "\u001b[94m|----Node: action=0   | N=512.0\u001b[0m\n",
      "\n",
      "Training Episodes: 50\n",
      "Action: 0\n",
      "State:\n",
      "[ 0  1  0  1  0  1  0  1  0  9  3 10  7 11 12 13 14 15]\n",
      "['t', '+', 't', '+', 't', '+', 't', '+', 't']\n",
      "Step: 9\n",
      "Return: -320.9523809523809\n"
     ]
    }
   ],
   "metadata": {}
  },
  {
   "cell_type": "markdown",
   "source": [
    "# HillClimbingEnv"
   ],
   "metadata": {}
  },
  {
   "cell_type": "code",
   "execution_count": null,
   "source": [
    "from models.rl.agents.agent_mcts.env_archive.hill_climbing_env import HillClimbingEnv"
   ],
   "outputs": [],
   "metadata": {}
  },
  {
   "cell_type": "code",
   "execution_count": null,
   "source": [
    "env = HillClimbingEnv()"
   ],
   "outputs": [],
   "metadata": {}
  },
  {
   "cell_type": "code",
   "execution_count": null,
   "source": [
    "train_mcts(env, num_epochs=2, policy=policy)"
   ],
   "outputs": [],
   "metadata": {}
  },
  {
   "cell_type": "code",
   "execution_count": null,
   "source": [],
   "outputs": [],
   "metadata": {}
  }
 ],
 "metadata": {
  "orig_nbformat": 4,
  "language_info": {
   "name": "python",
   "version": "3.7.9",
   "mimetype": "text/x-python",
   "codemirror_mode": {
    "name": "ipython",
    "version": 3
   },
   "pygments_lexer": "ipython3",
   "nbconvert_exporter": "python",
   "file_extension": ".py"
  },
  "kernelspec": {
   "name": "python3",
   "display_name": "Python 3.7.9 64-bit ('base': conda)"
  },
  "interpreter": {
   "hash": "fb698bdeab99cfbf9e31cab566d99a06e057f2dec3dcc8097ebabb329e860e16"
  }
 },
 "nbformat": 4,
 "nbformat_minor": 2
}