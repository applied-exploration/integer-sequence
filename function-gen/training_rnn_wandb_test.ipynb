{
 "cells": [
  {
   "cell_type": "code",
   "execution_count": 1,
   "source": [
    "import rnn_sweep"
   ],
   "outputs": [
    {
     "output_type": "stream",
     "name": "stderr",
     "text": [
      "Failed to detect the name of this notebook, you can set it manually with the WANDB_NOTEBOOK_NAME environment variable to enable code saving.\n",
      "\u001b[34m\u001b[1mwandb\u001b[0m: Currently logged in as: \u001b[33maexplore\u001b[0m (use `wandb login --relogin` to force relogin)\n"
     ]
    },
    {
     "output_type": "display_data",
     "data": {
      "text/plain": [
       "<IPython.core.display.HTML object>"
      ],
      "text/html": [
       "\n",
       "                Tracking run with wandb version 0.10.33<br/>\n",
       "                Syncing run <strong style=\"color:#cdcd00\">golden-wave-249</strong> to <a href=\"https://wandb.ai\" target=\"_blank\">Weights & Biases</a> <a href=\"https://docs.wandb.com/integrations/jupyter.html\" target=\"_blank\">(Documentation)</a>.<br/>\n",
       "                Project page: <a href=\"https://wandb.ai/aexplore/integer-sequence\" target=\"_blank\">https://wandb.ai/aexplore/integer-sequence</a><br/>\n",
       "                Run page: <a href=\"https://wandb.ai/aexplore/integer-sequence/runs/dhzamenj\" target=\"_blank\">https://wandb.ai/aexplore/integer-sequence/runs/dhzamenj</a><br/>\n",
       "                Run data is saved locally in <code>/home/azureuser/integer-sequence/function-gen/wandb/run-20210714_121220-dhzamenj</code><br/><br/>\n",
       "            "
      ]
     },
     "metadata": {}
    },
    {
     "output_type": "stream",
     "name": "stdout",
     "text": [
      "Experiment: Training size: 100, Batch size: 32, Epochs: 2500, Dropout: 0.0\n",
      "Num_batch:  32\n",
      "EncoderRNN(\n",
      "  (embedding): Embedding(4300, 256)\n",
      "  (gru): GRU(256, 256)\n",
      ")\n",
      "DecoderRNN(\n",
      "  (embedding): Embedding(16, 256)\n",
      "  (gru): GRU(256, 256)\n",
      "  (out): Linear(in_features=256, out_features=16, bias=True)\n",
      "  (softmax): LogSoftmax(dim=1)\n",
      ")\n",
      "0m 4s (- 0m 38s) (250 10%) 1.4928\n",
      "0m 8s (- 0m 34s) (500 20%) 0.8083\n",
      "0m 12s (- 0m 30s) (750 30%) 0.3014\n",
      "0m 17s (- 0m 25s) (1000 40%) 0.0913\n",
      "0m 21s (- 0m 21s) (1250 50%) 0.0384\n",
      "0m 25s (- 0m 17s) (1500 60%) 0.0218\n",
      "0m 29s (- 0m 12s) (1750 70%) 0.0146\n",
      "0m 34s (- 0m 8s) (2000 80%) 0.0108\n",
      "0m 38s (- 0m 4s) (2250 90%) 0.0084\n",
      "0m 42s (- 0m 0s) (2500 100%) 0.0068\n"
     ]
    },
    {
     "output_type": "display_data",
     "data": {
      "text/plain": [
       "<IPython.core.display.HTML object>"
      ],
      "text/html": [
       "<br/>Waiting for W&B process to finish, PID 127400<br/>Program ended successfully."
      ]
     },
     "metadata": {}
    },
    {
     "output_type": "display_data",
     "data": {
      "text/plain": [
       "VBox(children=(Label(value=' 0.00MB of 0.00MB uploaded (0.00MB deduped)\\r'), FloatProgress(value=1.0, max=1.0)…"
      ],
      "application/vnd.jupyter.widget-view+json": {
       "version_major": 2,
       "version_minor": 0,
       "model_id": "359aef3f284040039c5a1d74085187a9"
      }
     },
     "metadata": {}
    },
    {
     "output_type": "display_data",
     "data": {
      "text/plain": [
       "<IPython.core.display.HTML object>"
      ],
      "text/html": [
       "Find user logs for this run at: <code>/home/azureuser/integer-sequence/function-gen/wandb/run-20210714_121220-dhzamenj/logs/debug.log</code>"
      ]
     },
     "metadata": {}
    },
    {
     "output_type": "display_data",
     "data": {
      "text/plain": [
       "<IPython.core.display.HTML object>"
      ],
      "text/html": [
       "Find internal logs for this run at: <code>/home/azureuser/integer-sequence/function-gen/wandb/run-20210714_121220-dhzamenj/logs/debug-internal.log</code>"
      ]
     },
     "metadata": {}
    },
    {
     "output_type": "display_data",
     "data": {
      "text/plain": [
       "<IPython.core.display.HTML object>"
      ],
      "text/html": [
       "<h3>Run summary:</h3><br/><style>\n",
       "    table.wandb td:nth-child(1) { padding: 0 10px; text-align: right }\n",
       "    </style><table class=\"wandb\">\n",
       "<tr><td>loss</td><td>0.00685</td></tr><tr><td>epoch</td><td>2500</td></tr><tr><td>_runtime</td><td>53</td></tr><tr><td>_timestamp</td><td>1626264793</td></tr><tr><td>_step</td><td>11</td></tr><tr><td>accuracy_train</td><td>0.29</td></tr><tr><td>accuracy</td><td>0.03</td></tr></table>"
      ]
     },
     "metadata": {}
    },
    {
     "output_type": "display_data",
     "data": {
      "text/plain": [
       "<IPython.core.display.HTML object>"
      ],
      "text/html": [
       "<h3>Run history:</h3><br/><style>\n",
       "    table.wandb td:nth-child(1) { padding: 0 10px; text-align: right }\n",
       "    </style><table class=\"wandb\">\n",
       "<tr><td>loss</td><td>█▅▂▁▁▁▁▁▁▁</td></tr><tr><td>epoch</td><td>▁▂▃▃▄▅▆▆▇█</td></tr><tr><td>_runtime</td><td>▁▂▃▃▄▅▅▆▇▇██</td></tr><tr><td>_timestamp</td><td>▁▂▃▃▄▅▅▆▇▇██</td></tr><tr><td>_step</td><td>▁▂▂▃▄▄▅▅▆▇▇█</td></tr><tr><td>accuracy_train</td><td>▁</td></tr><tr><td>accuracy</td><td>▁</td></tr></table><br/>"
      ]
     },
     "metadata": {}
    },
    {
     "output_type": "display_data",
     "data": {
      "text/plain": [
       "<IPython.core.display.HTML object>"
      ],
      "text/html": [
       "Synced 6 W&B file(s), 2 media file(s), 0 artifact file(s) and 0 other file(s)"
      ]
     },
     "metadata": {}
    },
    {
     "output_type": "display_data",
     "data": {
      "text/plain": [
       "<IPython.core.display.HTML object>"
      ],
      "text/html": [
       "\n",
       "                    <br/>Synced <strong style=\"color:#cdcd00\">golden-wave-249</strong>: <a href=\"https://wandb.ai/aexplore/integer-sequence/runs/dhzamenj\" target=\"_blank\">https://wandb.ai/aexplore/integer-sequence/runs/dhzamenj</a><br/>\n",
       "                "
      ]
     },
     "metadata": {}
    }
   ],
   "metadata": {}
  }
 ],
 "metadata": {
  "interpreter": {
   "hash": "21b14e6ae810b98687c42101764fbc6ed2f749f10b37141b42930ea65db4f89b"
  },
  "kernelspec": {
   "display_name": "Python 3.6.12 64-bit ('drlnd': conda)",
   "name": "python3"
  },
  "language_info": {
   "codemirror_mode": {
    "name": "ipython",
    "version": 3
   },
   "file_extension": ".py",
   "mimetype": "text/x-python",
   "name": "python",
   "nbconvert_exporter": "python",
   "pygments_lexer": "ipython3",
   "version": "3.6.12"
  },
  "orig_nbformat": 4
 },
 "nbformat": 4,
 "nbformat_minor": 2
}