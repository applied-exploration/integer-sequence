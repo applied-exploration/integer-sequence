{
 "cells": [
  {
   "cell_type": "code",
   "execution_count": null,
   "source": [
    "import rnn_sweep"
   ],
   "outputs": [],
   "metadata": {}
  },
  {
   "cell_type": "code",
   "execution_count": 2,
   "source": [
    "import test_rnn_plain"
   ],
   "outputs": [
    {
     "output_type": "stream",
     "name": "stderr",
     "text": [
      "C:\\Users\\danie\\anaconda3\\lib\\site-packages\\torch\\cuda\\__init__.py:52: UserWarning: CUDA initialization: CUDA unknown error - this may be due to an incorrectly set up environment, e.g. changing env variable CUDA_VISIBLE_DEVICES after program start. Setting the available devices to be zero. (Triggered internally at  ..\\c10\\cuda\\CUDAFunctions.cpp:100.)\n",
      "  return torch._C._cuda_getDeviceCount() > 0\n"
     ]
    },
    {
     "output_type": "stream",
     "name": "stdout",
     "text": [
      "Experiment: Training size: 100, Batch size: 32, Epochs: 2500, Dropout: 0.0\n",
      "Num_batch:  32\n",
      "EncoderRNN(\n",
      "  (embedding): Embedding(4300, 256)\n",
      "  (cnn): Conv1d(256, 128, kernel_size=(3,), stride=(1,), padding=(1,))\n",
      "  (gru): GRU(128, 256)\n",
      ")\n",
      "DecoderRNN(\n",
      "  (embedding): Embedding(16, 256)\n",
      "  (gru): GRU(256, 256)\n",
      "  (out): Linear(in_features=256, out_features=16, bias=True)\n",
      "  (softmax): LogSoftmax(dim=1)\n",
      ")\n",
      "0m 20s (- 3m 2s) (250 10%) 1.7838\n",
      "0m 41s (- 2m 46s) (500 20%) 1.4963\n",
      "1m 1s (- 2m 24s) (750 30%) 1.3880\n",
      "1m 22s (- 2m 3s) (1000 40%) 1.2570\n",
      "1m 42s (- 1m 42s) (1250 50%) 1.0545\n",
      "2m 2s (- 1m 21s) (1500 60%) 0.8615\n",
      "2m 23s (- 1m 1s) (1750 70%) 0.6325\n",
      "2m 43s (- 0m 40s) (2000 80%) 0.3760\n",
      "3m 4s (- 0m 20s) (2250 90%) 0.2233\n",
      "3m 24s (- 0m 0s) (2500 100%) 0.1308\n",
      "Accuracy score on training set:  1.0\n",
      "MAE on the test set:  1346.969\n"
     ]
    }
   ],
   "metadata": {}
  },
  {
   "cell_type": "code",
   "execution_count": null,
   "source": [],
   "outputs": [],
   "metadata": {}
  }
 ],
 "metadata": {
  "interpreter": {
   "hash": "fb698bdeab99cfbf9e31cab566d99a06e057f2dec3dcc8097ebabb329e860e16"
  },
  "kernelspec": {
   "name": "python3",
   "display_name": "Python 3.7.9 64-bit ('base': conda)"
  },
  "language_info": {
   "codemirror_mode": {
    "name": "ipython",
    "version": 3
   },
   "file_extension": ".py",
   "mimetype": "text/x-python",
   "name": "python",
   "nbconvert_exporter": "python",
   "pygments_lexer": "ipython3",
   "version": "3.7.9"
  },
  "orig_nbformat": 4
 },
 "nbformat": 4,
 "nbformat_minor": 2
}