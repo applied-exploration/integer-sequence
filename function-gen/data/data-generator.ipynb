{
 "metadata": {
  "language_info": {
   "codemirror_mode": {
    "name": "ipython",
    "version": 3
   },
   "file_extension": ".py",
   "mimetype": "text/x-python",
   "name": "python",
   "nbconvert_exporter": "python",
   "pygments_lexer": "ipython3",
   "version": "3.9.2"
  },
  "orig_nbformat": 4,
  "kernelspec": {
   "name": "python3",
   "display_name": "Python 3.9.2 64-bit ('deeplearning': conda)"
  },
  "interpreter": {
   "hash": "a630840cc17be2676cbce8189d2083744dc2f6895f9cfddc5644aa2e06831cd0"
  }
 },
 "nbformat": 4,
 "nbformat_minor": 2,
 "cells": [
  {
   "cell_type": "code",
   "execution_count": 212,
   "metadata": {},
   "outputs": [
    {
     "output_type": "stream",
     "name": "stdout",
     "text": [
      "The autoreload extension is already loaded. To reload it, use:\n  %reload_ext autoreload\n"
     ]
    }
   ],
   "source": [
    "from sympy import *\n",
    "from random import choice, randrange\n",
    "import numpy as np\n",
    "import pandas as pd\n",
    "from typing import List\n",
    "from utils import generate_random_eq, is_eq_valid\n",
    "\n",
    "%load_ext autoreload\n",
    "%autoreload 2"
   ]
  },
  {
   "cell_type": "code",
   "execution_count": 213,
   "metadata": {},
   "outputs": [
    {
     "output_type": "execute_result",
     "data": {
      "text/plain": [
       "'2*t*0*6+t'"
      ]
     },
     "metadata": {},
     "execution_count": 213
    }
   ],
   "source": [
    "\n",
    "generate_random_eq(9)"
   ]
  },
  {
   "cell_type": "code",
   "execution_count": 214,
   "metadata": {},
   "outputs": [
    {
     "output_type": "execute_result",
     "data": {
      "text/plain": [
       "9971"
      ]
     },
     "metadata": {},
     "execution_count": 214
    }
   ],
   "source": [
    "eqs = list(set([generate_random_eq(9) for i in range(0, 10000)]))\n",
    "len(eqs)"
   ]
  },
  {
   "cell_type": "code",
   "execution_count": 215,
   "metadata": {
    "tags": []
   },
   "outputs": [
    {
     "output_type": "execute_result",
     "data": {
      "text/plain": [
       "7258"
      ]
     },
     "metadata": {},
     "execution_count": 215
    }
   ],
   "source": [
    "ts = [1,2,3,5,10]\n",
    "\n",
    "\n",
    "\n",
    "\n",
    "eqs = [eq for eq in eqs if is_eq_valid(eq, ts) == True]\n",
    "len(eqs)"
   ]
  },
  {
   "cell_type": "code",
   "execution_count": 216,
   "metadata": {},
   "outputs": [
    {
     "output_type": "execute_result",
     "data": {
      "text/plain": [
       "'t+t-7+2*t'"
      ]
     },
     "metadata": {},
     "execution_count": 216
    }
   ],
   "source": [
    "eqs[1]"
   ]
  },
  {
   "cell_type": "code",
   "execution_count": 217,
   "metadata": {},
   "outputs": [
    {
     "output_type": "execute_result",
     "data": {
      "text/plain": [
       "7258"
      ]
     },
     "metadata": {},
     "execution_count": 217
    }
   ],
   "source": [
    "# because we need to wrap int casting into a try-catch block, we can't use array comprehensionran\n",
    "X = []\n",
    "for fun in eqs:\n",
    "    int_seq = []\n",
    "    for i in range(1, 10):\n",
    "        try:\n",
    "            int_seq.append(int(parse_expr(fun, local_dict = {'t': i})))\n",
    "        except:\n",
    "            pass\n",
    "    X.append(int_seq)\n",
    "X = [x for x in X if len(x) == 9]\n",
    "len(X)"
   ]
  },
  {
   "cell_type": "code",
   "execution_count": 218,
   "metadata": {},
   "outputs": [
    {
     "output_type": "execute_result",
     "data": {
      "text/plain": [
       "       0   1   2    3    4    5    6    7    8        eqs\n",
       "0      6   7   8    9   10   11   12   13   14  0+t+5+5-5\n",
       "1     -3   1   5    9   13   17   21   25   29  t+t-7+2*t\n",
       "2     41  68  95  122  149  176  203  230  257  t*9*3+8+6\n",
       "3     13  18  23   28   33   38   43   48   53  t*5+7*1+1\n",
       "4      1   2   3    4    5    6    7    8    9  2+1+t-2-1\n",
       "...   ..  ..  ..  ...  ...  ...  ...  ...  ...        ...\n",
       "7253  36  40  44   48   52   56   60   64   68  t+t*3+4*8\n",
       "7254   9  10  11   12   13   14   15   16   17  1*9+2+t-3\n",
       "7255  14  11   8    5    2   -1   -4   -7  -10  8-2*t-t+9\n",
       "7256  -2   3   8   13   18   23   28   33   38  3-1+5*t-9\n",
       "7257   5  -2  -9  -16  -23  -30  -37  -44  -51  9+3-8*t+t\n",
       "\n",
       "[7258 rows x 10 columns]"
      ],
      "text/html": "<div>\n<style scoped>\n    .dataframe tbody tr th:only-of-type {\n        vertical-align: middle;\n    }\n\n    .dataframe tbody tr th {\n        vertical-align: top;\n    }\n\n    .dataframe thead th {\n        text-align: right;\n    }\n</style>\n<table border=\"1\" class=\"dataframe\">\n  <thead>\n    <tr style=\"text-align: right;\">\n      <th></th>\n      <th>0</th>\n      <th>1</th>\n      <th>2</th>\n      <th>3</th>\n      <th>4</th>\n      <th>5</th>\n      <th>6</th>\n      <th>7</th>\n      <th>8</th>\n      <th>eqs</th>\n    </tr>\n  </thead>\n  <tbody>\n    <tr>\n      <th>0</th>\n      <td>6</td>\n      <td>7</td>\n      <td>8</td>\n      <td>9</td>\n      <td>10</td>\n      <td>11</td>\n      <td>12</td>\n      <td>13</td>\n      <td>14</td>\n      <td>0+t+5+5-5</td>\n    </tr>\n    <tr>\n      <th>1</th>\n      <td>-3</td>\n      <td>1</td>\n      <td>5</td>\n      <td>9</td>\n      <td>13</td>\n      <td>17</td>\n      <td>21</td>\n      <td>25</td>\n      <td>29</td>\n      <td>t+t-7+2*t</td>\n    </tr>\n    <tr>\n      <th>2</th>\n      <td>41</td>\n      <td>68</td>\n      <td>95</td>\n      <td>122</td>\n      <td>149</td>\n      <td>176</td>\n      <td>203</td>\n      <td>230</td>\n      <td>257</td>\n      <td>t*9*3+8+6</td>\n    </tr>\n    <tr>\n      <th>3</th>\n      <td>13</td>\n      <td>18</td>\n      <td>23</td>\n      <td>28</td>\n      <td>33</td>\n      <td>38</td>\n      <td>43</td>\n      <td>48</td>\n      <td>53</td>\n      <td>t*5+7*1+1</td>\n    </tr>\n    <tr>\n      <th>4</th>\n      <td>1</td>\n      <td>2</td>\n      <td>3</td>\n      <td>4</td>\n      <td>5</td>\n      <td>6</td>\n      <td>7</td>\n      <td>8</td>\n      <td>9</td>\n      <td>2+1+t-2-1</td>\n    </tr>\n    <tr>\n      <th>...</th>\n      <td>...</td>\n      <td>...</td>\n      <td>...</td>\n      <td>...</td>\n      <td>...</td>\n      <td>...</td>\n      <td>...</td>\n      <td>...</td>\n      <td>...</td>\n      <td>...</td>\n    </tr>\n    <tr>\n      <th>7253</th>\n      <td>36</td>\n      <td>40</td>\n      <td>44</td>\n      <td>48</td>\n      <td>52</td>\n      <td>56</td>\n      <td>60</td>\n      <td>64</td>\n      <td>68</td>\n      <td>t+t*3+4*8</td>\n    </tr>\n    <tr>\n      <th>7254</th>\n      <td>9</td>\n      <td>10</td>\n      <td>11</td>\n      <td>12</td>\n      <td>13</td>\n      <td>14</td>\n      <td>15</td>\n      <td>16</td>\n      <td>17</td>\n      <td>1*9+2+t-3</td>\n    </tr>\n    <tr>\n      <th>7255</th>\n      <td>14</td>\n      <td>11</td>\n      <td>8</td>\n      <td>5</td>\n      <td>2</td>\n      <td>-1</td>\n      <td>-4</td>\n      <td>-7</td>\n      <td>-10</td>\n      <td>8-2*t-t+9</td>\n    </tr>\n    <tr>\n      <th>7256</th>\n      <td>-2</td>\n      <td>3</td>\n      <td>8</td>\n      <td>13</td>\n      <td>18</td>\n      <td>23</td>\n      <td>28</td>\n      <td>33</td>\n      <td>38</td>\n      <td>3-1+5*t-9</td>\n    </tr>\n    <tr>\n      <th>7257</th>\n      <td>5</td>\n      <td>-2</td>\n      <td>-9</td>\n      <td>-16</td>\n      <td>-23</td>\n      <td>-30</td>\n      <td>-37</td>\n      <td>-44</td>\n      <td>-51</td>\n      <td>9+3-8*t+t</td>\n    </tr>\n  </tbody>\n</table>\n<p>7258 rows × 10 columns</p>\n</div>"
     },
     "metadata": {},
     "execution_count": 218
    }
   ],
   "source": [
    "data = pd.DataFrame(X)\n",
    "data['eqs'] = eqs\n",
    "data"
   ]
  },
  {
   "cell_type": "code",
   "execution_count": 219,
   "metadata": {},
   "outputs": [],
   "source": [
    "data.to_csv('data.csv')"
   ]
  },
  {
   "cell_type": "code",
   "execution_count": null,
   "metadata": {},
   "outputs": [],
   "source": []
  }
 ]
}