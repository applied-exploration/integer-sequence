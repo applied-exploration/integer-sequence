{
 "metadata": {
  "language_info": {
   "codemirror_mode": {
    "name": "ipython",
    "version": 3
   },
   "file_extension": ".py",
   "mimetype": "text/x-python",
   "name": "python",
   "nbconvert_exporter": "python",
   "pygments_lexer": "ipython3",
   "version": "3.9.2"
  },
  "orig_nbformat": 4,
  "kernelspec": {
   "name": "python3",
   "display_name": "Python 3.9.2 64-bit ('deeplearning': conda)"
  },
  "interpreter": {
   "hash": "a630840cc17be2676cbce8189d2083744dc2f6895f9cfddc5644aa2e06831cd0"
  }
 },
 "nbformat": 4,
 "nbformat_minor": 2,
 "cells": [
  {
   "cell_type": "code",
   "execution_count": 73,
   "metadata": {},
   "outputs": [],
   "source": [
    "import torch\n",
    "import torch.nn as nn\n",
    "import torch.nn.functional as F\n",
    "from torch.distributions import Categorical\n",
    "import numpy as np\n",
    "import pandas as pd\n",
    "import ast\n",
    "import math\n",
    "from binary_utils import bin_decoder, bin_encoder, int_to_binary_str, binary_str_to_int"
   ]
  },
  {
   "cell_type": "code",
   "execution_count": 88,
   "metadata": {},
   "outputs": [],
   "source": [
    "data = pd.read_csv('./data/eqs.csv')"
   ]
  },
  {
   "cell_type": "code",
   "execution_count": 89,
   "metadata": {},
   "outputs": [],
   "source": [
    "y = data[\"eqs\"]"
   ]
  },
  {
   "cell_type": "code",
   "execution_count": 90,
   "metadata": {},
   "outputs": [],
   "source": [
    "X = data.drop('eqs', axis = 1)"
   ]
  },
  {
   "cell_type": "code",
   "execution_count": 59,
   "metadata": {},
   "outputs": [],
   "source": []
  },
  {
   "cell_type": "code",
   "execution_count": 91,
   "metadata": {},
   "outputs": [],
   "source": [
    "eq = y[0]"
   ]
  },
  {
   "cell_type": "code",
   "execution_count": 92,
   "metadata": {},
   "outputs": [
    {
     "output_type": "execute_result",
     "data": {
      "text/plain": [
       "['0000000',\n",
       " '0011000',\n",
       " '0011100',\n",
       " '0100000',\n",
       " '0100100',\n",
       " '0101000',\n",
       " '0101100',\n",
       " '0110000',\n",
       " '0110100',\n",
       " '0111000']"
      ]
     },
     "metadata": {},
     "execution_count": 92
    }
   ],
   "source": [
    "[int_to_binary_str(x, 6) for x in X.head(1).to_numpy()[0]]"
   ]
  },
  {
   "cell_type": "code",
   "execution_count": 95,
   "metadata": {},
   "outputs": [],
   "source": [
    "seq = [torch.Tensor(bin_encoder(int_to_binary_str(x, 6))) for x in X.head(1).to_numpy()[0]]"
   ]
  },
  {
   "cell_type": "code",
   "execution_count": 96,
   "metadata": {},
   "outputs": [
    {
     "output_type": "execute_result",
     "data": {
      "text/plain": [
       "[tensor([0., 0., 0., 0., 0., 0., 0.]),\n",
       " tensor([0., 0., 1., 1., 0., 0., 0.]),\n",
       " tensor([0., 0., 1., 1., 1., 0., 0.]),\n",
       " tensor([0., 1., 0., 0., 0., 0., 0.]),\n",
       " tensor([0., 1., 0., 0., 1., 0., 0.]),\n",
       " tensor([0., 1., 0., 1., 0., 0., 0.]),\n",
       " tensor([0., 1., 0., 1., 1., 0., 0.]),\n",
       " tensor([0., 1., 1., 0., 0., 0., 0.]),\n",
       " tensor([0., 1., 1., 0., 1., 0., 0.]),\n",
       " tensor([0., 1., 1., 1., 0., 0., 0.])]"
      ]
     },
     "metadata": {},
     "execution_count": 96
    }
   ],
   "source": [
    "seq"
   ]
  },
  {
   "cell_type": "code",
   "execution_count": null,
   "metadata": {},
   "outputs": [],
   "source": []
  },
  {
   "cell_type": "code",
   "execution_count": null,
   "metadata": {},
   "outputs": [],
   "source": []
  }
 ]
}