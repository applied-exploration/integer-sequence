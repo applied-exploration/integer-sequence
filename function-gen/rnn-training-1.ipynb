{
 "metadata": {
  "language_info": {
   "codemirror_mode": {
    "name": "ipython",
    "version": 3
   },
   "file_extension": ".py",
   "mimetype": "text/x-python",
   "name": "python",
   "nbconvert_exporter": "python",
   "pygments_lexer": "ipython3",
   "version": "3.9.2"
  },
  "orig_nbformat": 4,
  "kernelspec": {
   "name": "python3",
   "display_name": "Python 3.9.2 64-bit ('deeplearning': conda)"
  },
  "interpreter": {
   "hash": "a630840cc17be2676cbce8189d2083744dc2f6895f9cfddc5644aa2e06831cd0"
  }
 },
 "nbformat": 4,
 "nbformat_minor": 2,
 "cells": [
  {
   "cell_type": "code",
   "execution_count": 19,
   "metadata": {},
   "outputs": [],
   "source": [
    "import torch\n",
    "import torch.nn as nn\n",
    "import torch.nn.functional as F\n",
    "from torch.distributions import Categorical\n",
    "import numpy as np\n",
    "import pandas as pd\n",
    "import ast\n",
    "import math"
   ]
  },
  {
   "cell_type": "code",
   "execution_count": 20,
   "metadata": {},
   "outputs": [],
   "source": [
    "class RNN(nn.Module):\n",
    "    def __init__(self, input_size, output_size, hidden_size, num_layers):\n",
    "        super(RNN, self).__init__()\n",
    "        self.embedding = nn.Embedding(input_size, input_size)\n",
    "        self.rnn = nn.LSTM(input_size=input_size, hidden_size=hidden_size, num_layers=num_layers)\n",
    "        self.decoder = nn.Linear(hidden_size, output_size)\n",
    "    \n",
    "    def forward(self, input_seq, hidden_state):\n",
    "        embedding = self.embedding(input_seq)\n",
    "        output, hidden_state = self.rnn(embedding, hidden_state)\n",
    "        output = self.decoder(output)\n",
    "        return output, (hidden_state[0].detach(), hidden_state[1].detach())\n",
    "    "
   ]
  },
  {
   "cell_type": "code",
   "execution_count": 21,
   "metadata": {},
   "outputs": [],
   "source": [
    "data = pd.read_csv('./data/eqs.csv')"
   ]
  },
  {
   "cell_type": "code",
   "execution_count": 22,
   "metadata": {},
   "outputs": [],
   "source": [
    "y = data[\"eqs\"]"
   ]
  },
  {
   "cell_type": "code",
   "execution_count": 23,
   "metadata": {},
   "outputs": [],
   "source": [
    "X = data.drop('eqs', axis = 1)"
   ]
  },
  {
   "cell_type": "code",
   "execution_count": 43,
   "metadata": {},
   "outputs": [],
   "source": [
    "def int_to_binary(num, width):\n",
    "    if num >= 0:\n",
    "        binary = bin(num)[2:].zfill(width)\n",
    "        return int(\"0\" + binary) \n",
    "    else:\n",
    "        binary = bin(abs(num))[2:].zfill(width)\n",
    "        return int(\"1\" + binary)\n",
    "\n",
    "def binary_to_int(str, width):\n",
    "    sign = str[0]\n",
    "    num = str[1:]\n",
    "    num = int(num, 2)\n",
    "\n",
    "    if sign == \"0\":\n",
    "        return num\n",
    "    else:\n",
    "        return num * - 1"
   ]
  },
  {
   "cell_type": "code",
   "execution_count": 46,
   "metadata": {},
   "outputs": [],
   "source": [
    "eq = y[0]"
   ]
  },
  {
   "cell_type": "code",
   "execution_count": 47,
   "metadata": {},
   "outputs": [
    {
     "output_type": "execute_result",
     "data": {
      "text/plain": [
       "[0, 11000, 11100, 100000, 100100, 101000, 101100, 110000, 110100, 111000]"
      ]
     },
     "metadata": {},
     "execution_count": 47
    }
   ],
   "source": [
    "[int_to_binary(x, 6) for x in X.head(1).to_numpy()[0]]"
   ]
  },
  {
   "cell_type": "code",
   "execution_count": 44,
   "metadata": {},
   "outputs": [],
   "source": [
    "seq = [torch.Tensor(int_to_binary(x, 6)) for x in X.head(1).to_numpy()[0]]"
   ]
  },
  {
   "cell_type": "code",
   "execution_count": 45,
   "metadata": {},
   "outputs": [
    {
     "output_type": "execute_result",
     "data": {
      "text/plain": [
       "[tensor([]),\n",
       " tensor([0., 0., 0.,  ..., 0., 0., 0.]),\n",
       " tensor([0., 0., 0.,  ..., 0., 0., 0.]),\n",
       " tensor([0.0000e+00, 0.0000e+00, 1.0377e-31,  ..., 1.8315e+25, 4.7415e+16,\n",
       "         1.3497e+28]),\n",
       " tensor([0.0000e+00, 0.0000e+00, 1.0377e-31,  ..., 6.1897e-04, 2.5204e-12,\n",
       "         1.8376e+37]),\n",
       " tensor([0.0000e+00, 0.0000e+00, 1.0377e-31,  ..., 0.0000e+00, 0.0000e+00,\n",
       "         0.0000e+00]),\n",
       " tensor([0.0000e+00, 0.0000e+00, 1.0377e-31,  ..., 2.9388e-39, 2.9388e-39,\n",
       "         7.0714e-39]),\n",
       " tensor([0., 0., 0.,  ..., 0., 0., 0.]),\n",
       " tensor([0., 0., 0.,  ..., 0., 0., 0.]),\n",
       " tensor([0., 0., 0.,  ..., 0., 0., 0.])]"
      ]
     },
     "metadata": {},
     "execution_count": 45
    }
   ],
   "source": [
    "seq"
   ]
  },
  {
   "cell_type": "code",
   "execution_count": null,
   "metadata": {},
   "outputs": [],
   "source": []
  }
 ]
}