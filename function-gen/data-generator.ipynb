{
 "metadata": {
  "language_info": {
   "codemirror_mode": {
    "name": "ipython",
    "version": 3
   },
   "file_extension": ".py",
   "mimetype": "text/x-python",
   "name": "python",
   "nbconvert_exporter": "python",
   "pygments_lexer": "ipython3",
   "version": "3.9.2"
  },
  "orig_nbformat": 4,
  "kernelspec": {
   "name": "python3",
   "display_name": "Python 3.9.2 64-bit ('deeplearning': conda)"
  },
  "interpreter": {
   "hash": "a630840cc17be2676cbce8189d2083744dc2f6895f9cfddc5644aa2e06831cd0"
  }
 },
 "nbformat": 4,
 "nbformat_minor": 2,
 "cells": [
  {
   "cell_type": "code",
   "execution_count": 21,
   "metadata": {},
   "outputs": [
    {
     "output_type": "stream",
     "name": "stdout",
     "text": [
      "The autoreload extension is already loaded. To reload it, use:\n  %reload_ext autoreload\n"
     ]
    }
   ],
   "source": [
    "from sympy import *\n",
    "from random import choice, randrange\n",
    "import numpy as np\n",
    "import pandas as pd\n",
    "from typing import List\n",
    "from utils import generate_random_eq, is_eq_valid, generate_random_eq_valid, eq_to_seq\n",
    "\n",
    "%load_ext autoreload\n",
    "%autoreload 2"
   ]
  },
  {
   "cell_type": "code",
   "execution_count": 22,
   "metadata": {},
   "outputs": [
    {
     "output_type": "execute_result",
     "data": {
      "text/plain": [
       "'y+0+4*t*y'"
      ]
     },
     "metadata": {},
     "execution_count": 22
    }
   ],
   "source": [
    "\n",
    "generate_random_eq(9)"
   ]
  },
  {
   "cell_type": "code",
   "execution_count": 29,
   "metadata": {},
   "outputs": [
    {
     "output_type": "execute_result",
     "data": {
      "text/plain": [
       "98462"
      ]
     },
     "metadata": {},
     "execution_count": 29
    }
   ],
   "source": [
    "eqs = list(set([generate_random_eq(9) for i in range(0, 100000)]))\n",
    "len(eqs)"
   ]
  },
  {
   "cell_type": "code",
   "execution_count": 30,
   "metadata": {
    "tags": []
   },
   "outputs": [
    {
     "output_type": "execute_result",
     "data": {
      "text/plain": [
       "57122"
      ]
     },
     "metadata": {},
     "execution_count": 30
    }
   ],
   "source": [
    "ts = [1,2,3,5,10]\n",
    "\n",
    "\n",
    "eqs = [eq for eq in eqs if is_eq_valid(eq, ts) == True]\n",
    "len(eqs)"
   ]
  },
  {
   "cell_type": "code",
   "execution_count": 31,
   "metadata": {},
   "outputs": [
    {
     "output_type": "execute_result",
     "data": {
      "text/plain": [
       "57122"
      ]
     },
     "metadata": {},
     "execution_count": 31
    }
   ],
   "source": [
    "# because we need to wrap int casting into a try-catch block, we can't use array comprehensionran\n",
    "X = []\n",
    "for fun in eqs:\n",
    "    int_seq = []\n",
    "    for i in range(1, 10):\n",
    "        try:\n",
    "            int_seq.append(int(parse_expr(fun, local_dict = {'t': i})))\n",
    "        except:\n",
    "            pass\n",
    "    X.append(int_seq)\n",
    "len(X)"
   ]
  },
  {
   "cell_type": "code",
   "execution_count": 32,
   "metadata": {},
   "outputs": [
    {
     "output_type": "execute_result",
     "data": {
      "text/plain": [
       "10120"
      ]
     },
     "metadata": {},
     "execution_count": 32
    }
   ],
   "source": [
    "data = pd.DataFrame(X)\n",
    "data['eqs'] = eqs\n",
    "data.dropna(inplace = True)\n",
    "data.shape[0]"
   ]
  },
  {
   "cell_type": "code",
   "execution_count": 33,
   "metadata": {},
   "outputs": [],
   "source": [
    "data.to_csv('./data/eqs-test.csv')"
   ]
  },
  {
   "cell_type": "code",
   "execution_count": null,
   "metadata": {},
   "outputs": [],
   "source": [
    "eq_to_seq('1232*t', length = 9)"
   ]
  },
  {
   "cell_type": "code",
   "execution_count": 21,
   "metadata": {},
   "outputs": [
    {
     "output_type": "execute_result",
     "data": {
      "text/plain": [
       "True"
      ]
     },
     "metadata": {},
     "execution_count": 21
    }
   ],
   "source": [
    "is_eq_valid('1232*t')"
   ]
  },
  {
   "cell_type": "code",
   "execution_count": 36,
   "metadata": {},
   "outputs": [
    {
     "output_type": "execute_result",
     "data": {
      "text/plain": [
       "[1232, 2464, 3696, 4928, 6160, 7392, 8624, 9856, 11088]"
      ]
     },
     "metadata": {},
     "execution_count": 36
    }
   ],
   "source": [
    "eq_to_seq('1232*t', 9)"
   ]
  },
  {
   "cell_type": "code",
   "execution_count": null,
   "metadata": {},
   "outputs": [],
   "source": []
  }
 ]
}