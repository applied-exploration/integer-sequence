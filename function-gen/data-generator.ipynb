{
 "metadata": {
  "language_info": {
   "codemirror_mode": {
    "name": "ipython",
    "version": 3
   },
   "file_extension": ".py",
   "mimetype": "text/x-python",
   "name": "python",
   "nbconvert_exporter": "python",
   "pygments_lexer": "ipython3",
   "version": "3.9.2"
  },
  "orig_nbformat": 4,
  "kernelspec": {
   "name": "python3",
   "display_name": "Python 3.9.2 64-bit ('deeplearning': conda)"
  },
  "interpreter": {
   "hash": "a630840cc17be2676cbce8189d2083744dc2f6895f9cfddc5644aa2e06831cd0"
  }
 },
 "nbformat": 4,
 "nbformat_minor": 2,
 "cells": [
  {
   "cell_type": "code",
   "execution_count": 2,
   "source": [
    "from sympy import *\n",
    "from random import choice, randrange\n",
    "import numpy as np\n",
    "import pandas as pd\n",
    "from typing import List\n",
    "from utils import generate_random_eq, is_eq_valid, generate_random_eq_valid, eq_to_seq\n",
    "\n",
    "%load_ext autoreload\n",
    "%autoreload 2"
   ],
   "outputs": [],
   "metadata": {}
  },
  {
   "cell_type": "code",
   "execution_count": 3,
   "source": [
    "\n",
    "generate_random_eq(5)"
   ],
   "outputs": [
    {
     "output_type": "execute_result",
     "data": {
      "text/plain": [
       "'4^5*5'"
      ]
     },
     "metadata": {},
     "execution_count": 3
    }
   ],
   "metadata": {}
  },
  {
   "cell_type": "code",
   "execution_count": 29,
   "source": [
    "eqs = list(set([generate_random_eq(5) for _ in range(0, 1000000)]))\n",
    "len(eqs)"
   ],
   "outputs": [
    {
     "output_type": "execute_result",
     "data": {
      "text/plain": [
       "21296"
      ]
     },
     "metadata": {},
     "execution_count": 29
    }
   ],
   "metadata": {}
  },
  {
   "cell_type": "code",
   "execution_count": 31,
   "source": [
    "ts = [1,2,3,5,10]\n",
    "\n",
    "eqs = [eq for eq in eqs if is_eq_valid(eq, ts) == True]\n",
    "len(eqs)"
   ],
   "outputs": [
    {
     "output_type": "execute_result",
     "data": {
      "text/plain": [
       "3610"
      ]
     },
     "metadata": {},
     "execution_count": 31
    }
   ],
   "metadata": {
    "tags": []
   }
  },
  {
   "cell_type": "code",
   "execution_count": 33,
   "source": [
    "eqs[:10]"
   ],
   "outputs": [
    {
     "output_type": "execute_result",
     "data": {
      "text/plain": [
       "['4*t+9',\n",
       " '9+5^t',\n",
       " '2+t*1',\n",
       " 't*3-t',\n",
       " '7*t+5',\n",
       " 't+8^3',\n",
       " 't^6-3',\n",
       " '0^1+t',\n",
       " 't*3-8',\n",
       " 't*1+7']"
      ]
     },
     "metadata": {},
     "execution_count": 33
    }
   ],
   "metadata": {}
  },
  {
   "cell_type": "code",
   "execution_count": 43,
   "source": [
    "# because we need to wrap int casting into a try-catch block, we can't use array comprehensionran\n",
    "X = []\n",
    "for fun in eqs:\n",
    "    fun_correct = fun.replace('^', '**')\n",
    "    int_seq = []\n",
    "    for i in range(1, 10):\n",
    "        try:\n",
    "            int_seq.append(int(eval(fun_correct.replace('t', str(i)))))\n",
    "        except:\n",
    "            pass\n",
    "    X.append(int_seq)\n",
    "len(X)"
   ],
   "outputs": [
    {
     "output_type": "execute_result",
     "data": {
      "text/plain": [
       "3610"
      ]
     },
     "metadata": {},
     "execution_count": 43
    }
   ],
   "metadata": {}
  },
  {
   "cell_type": "code",
   "execution_count": 44,
   "source": [
    "X[:10]"
   ],
   "outputs": [
    {
     "output_type": "execute_result",
     "data": {
      "text/plain": [
       "[[13, 17, 21, 25, 29, 33, 37, 41, 45],\n",
       " [14, 34, 134, 634, 3134, 15634, 78134, 390634, 1953134],\n",
       " [3, 4, 5, 6, 7, 8, 9, 10, 11],\n",
       " [2, 4, 6, 8, 10, 12, 14, 16, 18],\n",
       " [12, 19, 26, 33, 40, 47, 54, 61, 68],\n",
       " [513, 514, 515, 516, 517, 518, 519, 520, 521],\n",
       " [-2, 61, 726, 4093, 15622, 46653, 117646, 262141, 531438],\n",
       " [1, 2, 3, 4, 5, 6, 7, 8, 9],\n",
       " [-5, -2, 1, 4, 7, 10, 13, 16, 19],\n",
       " [8, 9, 10, 11, 12, 13, 14, 15, 16]]"
      ]
     },
     "metadata": {},
     "execution_count": 44
    }
   ],
   "metadata": {}
  },
  {
   "cell_type": "code",
   "execution_count": 45,
   "source": [
    "data = pd.DataFrame(X)\n",
    "data['eqs'] = eqs\n",
    "data.dropna(inplace = True)\n",
    "data[0] = data[0].astype(int)\n",
    "data[1] = data[1].astype(int)\n",
    "data[2] = data[2].astype(int)\n",
    "data[3] = data[3].astype(int)\n",
    "data[4] = data[4].astype(int)\n",
    "data[5] = data[5].astype(int)\n",
    "data[6] = data[6].astype(int)\n",
    "data[7] = data[7].astype(int)\n",
    "data[8] = data[8].astype(int)\n",
    "\n",
    "data.shape[0]"
   ],
   "outputs": [
    {
     "output_type": "execute_result",
     "data": {
      "text/plain": [
       "3610"
      ]
     },
     "metadata": {},
     "execution_count": 45
    }
   ],
   "metadata": {}
  },
  {
   "cell_type": "code",
   "execution_count": 46,
   "source": [
    "data"
   ],
   "outputs": [
    {
     "output_type": "execute_result",
     "data": {
      "text/plain": [
       "       0   1    2     3      4       5        6         7          8    eqs\n",
       "0     13  17   21    25     29      33       37        41         45  4*t+9\n",
       "1     14  34  134   634   3134   15634    78134    390634    1953134  9+5^t\n",
       "2      3   4    5     6      7       8        9        10         11  2+t*1\n",
       "3      2   4    6     8     10      12       14        16         18  t*3-t\n",
       "4     12  19   26    33     40      47       54        61         68  7*t+5\n",
       "...   ..  ..  ...   ...    ...     ...      ...       ...        ...    ...\n",
       "3605   6  48  162   384    750    1296     2058      3072       4374  6*t^3\n",
       "3606  -3   1    5     9     13      17       21        25         29  t*4-7\n",
       "3607   4  10   28    82    244     730     2188      6562      19684  3^t+1\n",
       "3608  16  32   64   128    256     512     1024      2048       4096  8*2^t\n",
       "3609  10  83  732  6565  59054  531447  4782976  43046729  387420498  9^t+t\n",
       "\n",
       "[3610 rows x 10 columns]"
      ],
      "text/html": [
       "<div>\n",
       "<style scoped>\n",
       "    .dataframe tbody tr th:only-of-type {\n",
       "        vertical-align: middle;\n",
       "    }\n",
       "\n",
       "    .dataframe tbody tr th {\n",
       "        vertical-align: top;\n",
       "    }\n",
       "\n",
       "    .dataframe thead th {\n",
       "        text-align: right;\n",
       "    }\n",
       "</style>\n",
       "<table border=\"1\" class=\"dataframe\">\n",
       "  <thead>\n",
       "    <tr style=\"text-align: right;\">\n",
       "      <th></th>\n",
       "      <th>0</th>\n",
       "      <th>1</th>\n",
       "      <th>2</th>\n",
       "      <th>3</th>\n",
       "      <th>4</th>\n",
       "      <th>5</th>\n",
       "      <th>6</th>\n",
       "      <th>7</th>\n",
       "      <th>8</th>\n",
       "      <th>eqs</th>\n",
       "    </tr>\n",
       "  </thead>\n",
       "  <tbody>\n",
       "    <tr>\n",
       "      <th>0</th>\n",
       "      <td>13</td>\n",
       "      <td>17</td>\n",
       "      <td>21</td>\n",
       "      <td>25</td>\n",
       "      <td>29</td>\n",
       "      <td>33</td>\n",
       "      <td>37</td>\n",
       "      <td>41</td>\n",
       "      <td>45</td>\n",
       "      <td>4*t+9</td>\n",
       "    </tr>\n",
       "    <tr>\n",
       "      <th>1</th>\n",
       "      <td>14</td>\n",
       "      <td>34</td>\n",
       "      <td>134</td>\n",
       "      <td>634</td>\n",
       "      <td>3134</td>\n",
       "      <td>15634</td>\n",
       "      <td>78134</td>\n",
       "      <td>390634</td>\n",
       "      <td>1953134</td>\n",
       "      <td>9+5^t</td>\n",
       "    </tr>\n",
       "    <tr>\n",
       "      <th>2</th>\n",
       "      <td>3</td>\n",
       "      <td>4</td>\n",
       "      <td>5</td>\n",
       "      <td>6</td>\n",
       "      <td>7</td>\n",
       "      <td>8</td>\n",
       "      <td>9</td>\n",
       "      <td>10</td>\n",
       "      <td>11</td>\n",
       "      <td>2+t*1</td>\n",
       "    </tr>\n",
       "    <tr>\n",
       "      <th>3</th>\n",
       "      <td>2</td>\n",
       "      <td>4</td>\n",
       "      <td>6</td>\n",
       "      <td>8</td>\n",
       "      <td>10</td>\n",
       "      <td>12</td>\n",
       "      <td>14</td>\n",
       "      <td>16</td>\n",
       "      <td>18</td>\n",
       "      <td>t*3-t</td>\n",
       "    </tr>\n",
       "    <tr>\n",
       "      <th>4</th>\n",
       "      <td>12</td>\n",
       "      <td>19</td>\n",
       "      <td>26</td>\n",
       "      <td>33</td>\n",
       "      <td>40</td>\n",
       "      <td>47</td>\n",
       "      <td>54</td>\n",
       "      <td>61</td>\n",
       "      <td>68</td>\n",
       "      <td>7*t+5</td>\n",
       "    </tr>\n",
       "    <tr>\n",
       "      <th>...</th>\n",
       "      <td>...</td>\n",
       "      <td>...</td>\n",
       "      <td>...</td>\n",
       "      <td>...</td>\n",
       "      <td>...</td>\n",
       "      <td>...</td>\n",
       "      <td>...</td>\n",
       "      <td>...</td>\n",
       "      <td>...</td>\n",
       "      <td>...</td>\n",
       "    </tr>\n",
       "    <tr>\n",
       "      <th>3605</th>\n",
       "      <td>6</td>\n",
       "      <td>48</td>\n",
       "      <td>162</td>\n",
       "      <td>384</td>\n",
       "      <td>750</td>\n",
       "      <td>1296</td>\n",
       "      <td>2058</td>\n",
       "      <td>3072</td>\n",
       "      <td>4374</td>\n",
       "      <td>6*t^3</td>\n",
       "    </tr>\n",
       "    <tr>\n",
       "      <th>3606</th>\n",
       "      <td>-3</td>\n",
       "      <td>1</td>\n",
       "      <td>5</td>\n",
       "      <td>9</td>\n",
       "      <td>13</td>\n",
       "      <td>17</td>\n",
       "      <td>21</td>\n",
       "      <td>25</td>\n",
       "      <td>29</td>\n",
       "      <td>t*4-7</td>\n",
       "    </tr>\n",
       "    <tr>\n",
       "      <th>3607</th>\n",
       "      <td>4</td>\n",
       "      <td>10</td>\n",
       "      <td>28</td>\n",
       "      <td>82</td>\n",
       "      <td>244</td>\n",
       "      <td>730</td>\n",
       "      <td>2188</td>\n",
       "      <td>6562</td>\n",
       "      <td>19684</td>\n",
       "      <td>3^t+1</td>\n",
       "    </tr>\n",
       "    <tr>\n",
       "      <th>3608</th>\n",
       "      <td>16</td>\n",
       "      <td>32</td>\n",
       "      <td>64</td>\n",
       "      <td>128</td>\n",
       "      <td>256</td>\n",
       "      <td>512</td>\n",
       "      <td>1024</td>\n",
       "      <td>2048</td>\n",
       "      <td>4096</td>\n",
       "      <td>8*2^t</td>\n",
       "    </tr>\n",
       "    <tr>\n",
       "      <th>3609</th>\n",
       "      <td>10</td>\n",
       "      <td>83</td>\n",
       "      <td>732</td>\n",
       "      <td>6565</td>\n",
       "      <td>59054</td>\n",
       "      <td>531447</td>\n",
       "      <td>4782976</td>\n",
       "      <td>43046729</td>\n",
       "      <td>387420498</td>\n",
       "      <td>9^t+t</td>\n",
       "    </tr>\n",
       "  </tbody>\n",
       "</table>\n",
       "<p>3610 rows × 10 columns</p>\n",
       "</div>"
      ]
     },
     "metadata": {},
     "execution_count": 46
    }
   ],
   "metadata": {}
  },
  {
   "cell_type": "code",
   "execution_count": 50,
   "source": [
    "from sklearn.model_selection import train_test_split\n",
    "\n",
    "train, test = train_test_split(data, test_size=0.6)"
   ],
   "outputs": [],
   "metadata": {}
  },
  {
   "cell_type": "code",
   "execution_count": 51,
   "source": [
    "test.info()"
   ],
   "outputs": [
    {
     "output_type": "stream",
     "name": "stdout",
     "text": [
      "<class 'pandas.core.frame.DataFrame'>\n",
      "Int64Index: 2166 entries, 2327 to 1656\n",
      "Data columns (total 10 columns):\n",
      " #   Column  Non-Null Count  Dtype \n",
      "---  ------  --------------  ----- \n",
      " 0   0       2166 non-null   int64 \n",
      " 1   1       2166 non-null   int64 \n",
      " 2   2       2166 non-null   int64 \n",
      " 3   3       2166 non-null   int64 \n",
      " 4   4       2166 non-null   int64 \n",
      " 5   5       2166 non-null   int64 \n",
      " 6   6       2166 non-null   int64 \n",
      " 7   7       2166 non-null   int64 \n",
      " 8   8       2166 non-null   int64 \n",
      " 9   eqs     2166 non-null   object\n",
      "dtypes: int64(9), object(1)\n",
      "memory usage: 186.1+ KB\n"
     ]
    }
   ],
   "metadata": {}
  },
  {
   "cell_type": "code",
   "execution_count": 18,
   "source": [
    "test.to_csv('./data/eqs-test.csv')"
   ],
   "outputs": [],
   "metadata": {}
  },
  {
   "cell_type": "code",
   "execution_count": null,
   "source": [
    "train.to_csv('./data/eqs.csv')"
   ],
   "outputs": [],
   "metadata": {}
  },
  {
   "cell_type": "code",
   "execution_count": null,
   "source": [],
   "outputs": [],
   "metadata": {}
  }
 ]
}