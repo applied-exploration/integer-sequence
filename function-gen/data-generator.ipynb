{
 "metadata": {
  "language_info": {
   "codemirror_mode": {
    "name": "ipython",
    "version": 3
   },
   "file_extension": ".py",
   "mimetype": "text/x-python",
   "name": "python",
   "nbconvert_exporter": "python",
   "pygments_lexer": "ipython3",
   "version": "3.9.2"
  },
  "orig_nbformat": 4,
  "kernelspec": {
   "name": "python3",
   "display_name": "Python 3.9.2 64-bit ('deeplearning': conda)"
  },
  "interpreter": {
   "hash": "a630840cc17be2676cbce8189d2083744dc2f6895f9cfddc5644aa2e06831cd0"
  }
 },
 "nbformat": 4,
 "nbformat_minor": 2,
 "cells": [
  {
   "cell_type": "code",
   "execution_count": 1,
   "metadata": {},
   "outputs": [],
   "source": [
    "from sympy import *\n",
    "from random import choice, randrange\n",
    "import numpy as np\n",
    "import pandas as pd\n",
    "from typing import List\n",
    "from utils import generate_random_eq, is_eq_valid\n",
    "\n",
    "%load_ext autoreload\n",
    "%autoreload 2"
   ]
  },
  {
   "cell_type": "code",
   "execution_count": 2,
   "metadata": {},
   "outputs": [
    {
     "output_type": "execute_result",
     "data": {
      "text/plain": [
       "'5+t*9-9-7'"
      ]
     },
     "metadata": {},
     "execution_count": 2
    }
   ],
   "source": [
    "\n",
    "generate_random_eq(9)"
   ]
  },
  {
   "cell_type": "code",
   "execution_count": 3,
   "metadata": {},
   "outputs": [
    {
     "output_type": "execute_result",
     "data": {
      "text/plain": [
       "9967"
      ]
     },
     "metadata": {},
     "execution_count": 3
    }
   ],
   "source": [
    "eqs = list(set([generate_random_eq(9) for i in range(0, 10000)]))\n",
    "len(eqs)"
   ]
  },
  {
   "cell_type": "code",
   "execution_count": 4,
   "metadata": {
    "tags": []
   },
   "outputs": [
    {
     "output_type": "execute_result",
     "data": {
      "text/plain": [
       "7183"
      ]
     },
     "metadata": {},
     "execution_count": 4
    }
   ],
   "source": [
    "ts = [1,2,3,5,10]\n",
    "\n",
    "\n",
    "\n",
    "\n",
    "eqs = [eq for eq in eqs if is_eq_valid(eq, ts) == True]\n",
    "len(eqs)"
   ]
  },
  {
   "cell_type": "code",
   "execution_count": 5,
   "metadata": {},
   "outputs": [
    {
     "output_type": "execute_result",
     "data": {
      "text/plain": [
       "'5*t*1+t*4'"
      ]
     },
     "metadata": {},
     "execution_count": 5
    }
   ],
   "source": [
    "eqs[1]"
   ]
  },
  {
   "cell_type": "code",
   "execution_count": 6,
   "metadata": {},
   "outputs": [
    {
     "output_type": "execute_result",
     "data": {
      "text/plain": [
       "7183"
      ]
     },
     "metadata": {},
     "execution_count": 6
    }
   ],
   "source": [
    "# because we need to wrap int casting into a try-catch block, we can't use array comprehensionran\n",
    "X = []\n",
    "for fun in eqs:\n",
    "    int_seq = []\n",
    "    for i in range(1, 10):\n",
    "        try:\n",
    "            int_seq.append(int(parse_expr(fun, local_dict = {'t': i})))\n",
    "        except:\n",
    "            pass\n",
    "    X.append(int_seq)\n",
    "X = [x for x in X if len(x) == 9]\n",
    "len(X)"
   ]
  },
  {
   "cell_type": "code",
   "execution_count": 7,
   "metadata": {},
   "outputs": [
    {
     "output_type": "execute_result",
     "data": {
      "text/plain": [
       "       0   1    2    3    4    5    6    7    8        eqs\n",
       "0      5  10   15   20   25   30   35   40   45  0*3*3+5*t\n",
       "1      9  18   27   36   45   54   63   72   81  5*t*1+t*4\n",
       "2    -30 -69 -108 -147 -186 -225 -264 -303 -342  9+t-t*8*5\n",
       "3      6  14   22   30   38   46   54   62   70  1+7*t-3+t\n",
       "4     27  36   45   54   63   72   81   90   99  2*6+6+t*9\n",
       "...   ..  ..  ...  ...  ...  ...  ...  ...  ...        ...\n",
       "7178  13  12   11   10    9    8    7    6    5  7+4-t-0+3\n",
       "7179   7  14   21   28   35   42   49   56   63  2+1-3+7*t\n",
       "7180   4   6   10   16   24   34   46   60   76  4-t+t*t*1\n",
       "7181  -7 -13  -19  -25  -31  -37  -43  -49  -55  t-1-t*8+t\n",
       "7182   6   0   -6  -12  -18  -24  -30  -36  -42  6-6*t*1+6\n",
       "\n",
       "[7183 rows x 10 columns]"
      ],
      "text/html": "<div>\n<style scoped>\n    .dataframe tbody tr th:only-of-type {\n        vertical-align: middle;\n    }\n\n    .dataframe tbody tr th {\n        vertical-align: top;\n    }\n\n    .dataframe thead th {\n        text-align: right;\n    }\n</style>\n<table border=\"1\" class=\"dataframe\">\n  <thead>\n    <tr style=\"text-align: right;\">\n      <th></th>\n      <th>0</th>\n      <th>1</th>\n      <th>2</th>\n      <th>3</th>\n      <th>4</th>\n      <th>5</th>\n      <th>6</th>\n      <th>7</th>\n      <th>8</th>\n      <th>eqs</th>\n    </tr>\n  </thead>\n  <tbody>\n    <tr>\n      <th>0</th>\n      <td>5</td>\n      <td>10</td>\n      <td>15</td>\n      <td>20</td>\n      <td>25</td>\n      <td>30</td>\n      <td>35</td>\n      <td>40</td>\n      <td>45</td>\n      <td>0*3*3+5*t</td>\n    </tr>\n    <tr>\n      <th>1</th>\n      <td>9</td>\n      <td>18</td>\n      <td>27</td>\n      <td>36</td>\n      <td>45</td>\n      <td>54</td>\n      <td>63</td>\n      <td>72</td>\n      <td>81</td>\n      <td>5*t*1+t*4</td>\n    </tr>\n    <tr>\n      <th>2</th>\n      <td>-30</td>\n      <td>-69</td>\n      <td>-108</td>\n      <td>-147</td>\n      <td>-186</td>\n      <td>-225</td>\n      <td>-264</td>\n      <td>-303</td>\n      <td>-342</td>\n      <td>9+t-t*8*5</td>\n    </tr>\n    <tr>\n      <th>3</th>\n      <td>6</td>\n      <td>14</td>\n      <td>22</td>\n      <td>30</td>\n      <td>38</td>\n      <td>46</td>\n      <td>54</td>\n      <td>62</td>\n      <td>70</td>\n      <td>1+7*t-3+t</td>\n    </tr>\n    <tr>\n      <th>4</th>\n      <td>27</td>\n      <td>36</td>\n      <td>45</td>\n      <td>54</td>\n      <td>63</td>\n      <td>72</td>\n      <td>81</td>\n      <td>90</td>\n      <td>99</td>\n      <td>2*6+6+t*9</td>\n    </tr>\n    <tr>\n      <th>...</th>\n      <td>...</td>\n      <td>...</td>\n      <td>...</td>\n      <td>...</td>\n      <td>...</td>\n      <td>...</td>\n      <td>...</td>\n      <td>...</td>\n      <td>...</td>\n      <td>...</td>\n    </tr>\n    <tr>\n      <th>7178</th>\n      <td>13</td>\n      <td>12</td>\n      <td>11</td>\n      <td>10</td>\n      <td>9</td>\n      <td>8</td>\n      <td>7</td>\n      <td>6</td>\n      <td>5</td>\n      <td>7+4-t-0+3</td>\n    </tr>\n    <tr>\n      <th>7179</th>\n      <td>7</td>\n      <td>14</td>\n      <td>21</td>\n      <td>28</td>\n      <td>35</td>\n      <td>42</td>\n      <td>49</td>\n      <td>56</td>\n      <td>63</td>\n      <td>2+1-3+7*t</td>\n    </tr>\n    <tr>\n      <th>7180</th>\n      <td>4</td>\n      <td>6</td>\n      <td>10</td>\n      <td>16</td>\n      <td>24</td>\n      <td>34</td>\n      <td>46</td>\n      <td>60</td>\n      <td>76</td>\n      <td>4-t+t*t*1</td>\n    </tr>\n    <tr>\n      <th>7181</th>\n      <td>-7</td>\n      <td>-13</td>\n      <td>-19</td>\n      <td>-25</td>\n      <td>-31</td>\n      <td>-37</td>\n      <td>-43</td>\n      <td>-49</td>\n      <td>-55</td>\n      <td>t-1-t*8+t</td>\n    </tr>\n    <tr>\n      <th>7182</th>\n      <td>6</td>\n      <td>0</td>\n      <td>-6</td>\n      <td>-12</td>\n      <td>-18</td>\n      <td>-24</td>\n      <td>-30</td>\n      <td>-36</td>\n      <td>-42</td>\n      <td>6-6*t*1+6</td>\n    </tr>\n  </tbody>\n</table>\n<p>7183 rows × 10 columns</p>\n</div>"
     },
     "metadata": {},
     "execution_count": 7
    }
   ],
   "source": [
    "data = pd.DataFrame(X)\n",
    "data['eqs'] = eqs\n",
    "data"
   ]
  },
  {
   "cell_type": "code",
   "execution_count": 8,
   "metadata": {},
   "outputs": [],
   "source": [
    "data.to_csv('./data/eqs.csv')"
   ]
  },
  {
   "cell_type": "code",
   "execution_count": null,
   "metadata": {},
   "outputs": [],
   "source": []
  },
  {
   "cell_type": "code",
   "execution_count": 10,
   "metadata": {},
   "outputs": [
    {
     "output_type": "execute_result",
     "data": {
      "text/plain": [
       "'5*t*1+t*4'"
      ]
     },
     "metadata": {},
     "execution_count": 10
    }
   ],
   "source": [
    "eqs[1]"
   ]
  },
  {
   "cell_type": "code",
   "execution_count": 19,
   "metadata": {},
   "outputs": [
    {
     "output_type": "execute_result",
     "data": {
      "text/plain": [
       "['1', '*', '2', '3', 't', '+', '2', '3']"
      ]
     },
     "metadata": {},
     "execution_count": 19
    }
   ],
   "source": []
  },
  {
   "cell_type": "code",
   "execution_count": null,
   "metadata": {},
   "outputs": [],
   "source": []
  }
 ]
}