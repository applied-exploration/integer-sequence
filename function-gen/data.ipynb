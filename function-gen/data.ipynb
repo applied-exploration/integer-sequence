{
 "metadata": {
  "language_info": {
   "codemirror_mode": {
    "name": "ipython",
    "version": 3
   },
   "file_extension": ".py",
   "mimetype": "text/x-python",
   "name": "python",
   "nbconvert_exporter": "python",
   "pygments_lexer": "ipython3",
   "version": "3.9.2"
  },
  "orig_nbformat": 4,
  "kernelspec": {
   "name": "python3",
   "display_name": "Python 3.9.2 64-bit ('deeplearning': conda)"
  },
  "interpreter": {
   "hash": "a630840cc17be2676cbce8189d2083744dc2f6895f9cfddc5644aa2e06831cd0"
  }
 },
 "nbformat": 4,
 "nbformat_minor": 2,
 "cells": [
  {
   "cell_type": "code",
   "execution_count": 27,
   "metadata": {},
   "outputs": [
    {
     "output_type": "stream",
     "name": "stdout",
     "text": [
      "The autoreload extension is already loaded. To reload it, use:\n  %reload_ext autoreload\n"
     ]
    }
   ],
   "source": [
    "import torch\n",
    "import torch.nn as nn\n",
    "import torch.nn.functional as F\n",
    "from torch.distributions import Categorical\n",
    "import numpy as np\n",
    "import pandas as pd\n",
    "import ast\n",
    "import math\n",
    "from lang import Lang\n",
    "\n",
    "%load_ext autoreload\n",
    "%autoreload 2"
   ]
  },
  {
   "cell_type": "code",
   "execution_count": 28,
   "metadata": {},
   "outputs": [],
   "source": [
    "data = pd.read_csv('./data/eqs.csv')\n",
    "y = data[\"eqs\"]\n",
    "X = data.drop('eqs', axis = 1)\n",
    "X = X[[\"0\", \"1\", \"2\", \"3\", \"4\", \"5\", \"6\", \"7\"]].to_numpy()"
   ]
  },
  {
   "cell_type": "code",
   "execution_count": 29,
   "metadata": {},
   "outputs": [
    {
     "output_type": "execute_result",
     "data": {
      "text/plain": [
       "array([[24, 28, 32, ..., 44, 48, 52],\n",
       "       [36, 37, 38, ..., 41, 42, 43],\n",
       "       [10, 11, 12, ..., 15, 16, 17],\n",
       "       ...,\n",
       "       [ 4,  8, 12, ..., 24, 28, 32],\n",
       "       [ 1,  7, 13, ..., 31, 37, 43],\n",
       "       [ 6, 15, 24, ..., 51, 60, 69]])"
      ]
     },
     "metadata": {},
     "execution_count": 29
    }
   ],
   "source": [
    "X"
   ]
  },
  {
   "cell_type": "code",
   "execution_count": 30,
   "metadata": {},
   "outputs": [],
   "source": [
    "from lang import load_data"
   ]
  },
  {
   "cell_type": "code",
   "execution_count": 34,
   "metadata": {},
   "outputs": [],
   "source": [
    "eq, seq, pairs = load_data()"
   ]
  },
  {
   "cell_type": "code",
   "execution_count": 36,
   "metadata": {},
   "outputs": [
    {
     "output_type": "execute_result",
     "data": {
      "text/plain": [
       "{'4': 2,\n",
       " '*': 3,\n",
       " 't': 4,\n",
       " '+': 5,\n",
       " '2': 6,\n",
       " '8': 7,\n",
       " '0': 8,\n",
       " '5': 9,\n",
       " '-': 10,\n",
       " '1': 11,\n",
       " '9': 12,\n",
       " '6': 13,\n",
       " '3': 14,\n",
       " '7': 15}"
      ]
     },
     "metadata": {},
     "execution_count": 36
    }
   ],
   "source": [
    "eq.word2index"
   ]
  },
  {
   "cell_type": "code",
   "execution_count": null,
   "metadata": {},
   "outputs": [],
   "source": []
  },
  {
   "cell_type": "code",
   "execution_count": null,
   "metadata": {},
   "outputs": [],
   "source": []
  }
 ]
}