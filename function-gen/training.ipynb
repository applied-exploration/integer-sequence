{
 "metadata": {
  "language_info": {
   "codemirror_mode": {
    "name": "ipython",
    "version": 3
   },
   "file_extension": ".py",
   "mimetype": "text/x-python",
   "name": "python",
   "nbconvert_exporter": "python",
   "pygments_lexer": "ipython3",
   "version": "3.9.2"
  },
  "orig_nbformat": 4,
  "kernelspec": {
   "name": "python3",
   "display_name": "Python 3.9.2 64-bit ('deeplearning': conda)"
  },
  "interpreter": {
   "hash": "a630840cc17be2676cbce8189d2083744dc2f6895f9cfddc5644aa2e06831cd0"
  }
 },
 "nbformat": 4,
 "nbformat_minor": 2,
 "cells": [
  {
   "cell_type": "code",
   "execution_count": 1,
   "metadata": {},
   "outputs": [],
   "source": [
    "from models.ga.ga_plain import GA_Plain\n",
    "from lang import load_data_int_seq\n",
    "from utils import accuracy_score\n",
    "%load_ext autoreload\n",
    "%autoreload 2"
   ]
  },
  {
   "cell_type": "code",
   "execution_count": 2,
   "metadata": {},
   "outputs": [],
   "source": [
    "algo = GA_Plain(symbols = \"+*-0123456789t\", output_sequence_length = 9, encoded_seq_length = 9, mutation_rate = 5, num_epochs= 500, population_size= 100)"
   ]
  },
  {
   "cell_type": "code",
   "execution_count": 3,
   "metadata": {},
   "outputs": [],
   "source": [
    "output_lang, input_lang, train, X_test, y_test = load_data_int_seq()"
   ]
  },
  {
   "cell_type": "code",
   "execution_count": 4,
   "metadata": {},
   "outputs": [],
   "source": [
    "algo.train(input_lang, output_lang, train)"
   ]
  },
  {
   "cell_type": "code",
   "execution_count": 5,
   "metadata": {},
   "outputs": [
    {
     "output_type": "execute_result",
     "data": {
      "text/plain": [
       "array([1, 2, 3, 4, 5, 6, 7, 8])"
      ]
     },
     "metadata": {},
     "execution_count": 5
    }
   ],
   "source": [
    "X_test[0]"
   ]
  },
  {
   "cell_type": "code",
   "execution_count": 9,
   "metadata": {},
   "outputs": [
    {
     "output_type": "stream",
     "name": "stdout",
     "text": [
      "-1.0\n",
      "-791.25\n",
      "-1.0\n",
      "-662.125\n",
      "-1.0\n",
      "-654.25\n",
      "-1.0\n",
      "-637.75\n",
      "-1.0\n",
      "-630.625\n",
      "-1.0\n",
      "-581.25\n",
      "-1.0\n",
      "-539.25\n",
      "-1.0\n",
      "-536.0\n",
      "-1.0\n",
      "-874.0\n",
      "-1.0\n",
      "-530.5\n",
      "-1.0\n",
      "-526.0\n",
      "-1.0\n",
      "-469.125\n",
      "-1.0\n",
      "-468.75\n",
      "-1.0\n",
      "-464.75\n",
      "-1.0\n",
      "-1000.0\n",
      "-1.0\n",
      "-452.625\n",
      "-1.0\n",
      "-446.875\n",
      "-1.0\n",
      "-442.5\n",
      "-1.0\n",
      "-425.625\n",
      "-1.0\n",
      "-419.75\n",
      "-1.0\n",
      "-419.75\n",
      "-1.0\n",
      "-419.5\n",
      "-1.0\n",
      "-411.25\n",
      "-1.0\n",
      "-410.625\n",
      "-1.0\n",
      "-526.0\n",
      "-1.0\n",
      "-405.375\n",
      "-1.0\n",
      "-394.375\n",
      "-1.0\n",
      "-389.125\n",
      "-1.0\n",
      "-386.0\n",
      "-1.0\n",
      "-992.0\n",
      "-1.0\n",
      "-1000.0\n",
      "-1.0\n",
      "-381.375\n",
      "-1.0\n",
      "-539.25\n",
      "-1.0\n",
      "-373.625\n",
      "-1.0\n",
      "-451.0\n",
      "-1.0\n",
      "-370.625\n",
      "-1.0\n",
      "-640.25\n",
      "-1.0\n",
      "-353.625\n",
      "-1.0\n",
      "-350.5\n",
      "-1.0\n",
      "-348.25\n",
      "-1.0\n",
      "-343.5\n",
      "-1.0\n",
      "-330.125\n",
      "-1.0\n",
      "-318.25\n",
      "-1.0\n",
      "-282.0\n",
      "-1.0\n",
      "-345.0\n",
      "-1.0\n",
      "-281.25\n",
      "-1.0\n",
      "-272.0\n",
      "-1.0\n",
      "-1000.0\n",
      "-1.0\n",
      "-265.5\n",
      "-1.0\n",
      "-257.625\n",
      "-1.0\n",
      "-415.875\n",
      "-1.0\n",
      "-243.5\n",
      "-1.0\n",
      "-240.875\n",
      "-1.0\n",
      "-233.0\n",
      "-1.0\n",
      "-452.5\n",
      "-1.0\n",
      "-875.25\n",
      "-1.0\n",
      "-232.5\n",
      "-1.0\n",
      "-231.125\n",
      "-1.0\n",
      "-562.0\n",
      "-1.0\n",
      "-457.125\n",
      "-1.0\n",
      "-436.75\n",
      "-1.0\n",
      "-209.5\n",
      "-1.0\n",
      "-594.75\n",
      "-1.0\n",
      "-208.25\n",
      "-1.0\n",
      "-198.75\n",
      "-1.0\n",
      "-196.375\n",
      "-1.0\n",
      "-178.25\n",
      "-1.0\n",
      "-173.0\n",
      "-1.0\n",
      "-157.5\n",
      "-1.0\n",
      "-157.25\n",
      "-1.0\n",
      "-151.625\n",
      "-1.0\n",
      "-136.0\n",
      "-1.0\n",
      "-130.0\n",
      "-1.0\n",
      "-127.75\n",
      "-1.0\n",
      "-109.25\n",
      "-1.0\n",
      "-96.0\n",
      "-0.125\n",
      "-78.25\n",
      "-0.125\n",
      "-74.875\n",
      "-0.125\n",
      "-66.75\n",
      "-0.125\n",
      "-63.125\n",
      "-0.125\n",
      "-58.625\n",
      "-0.125\n",
      "-52.875\n",
      "-0.125\n",
      "-51.0\n",
      "-0.125\n",
      "-1000.0\n",
      "-0.125\n",
      "-312.0\n",
      "-0.125\n",
      "-50.125\n",
      "-0.125\n",
      "-46.875\n",
      "-0.125\n",
      "-46.5\n",
      "-0.125\n",
      "-46.25\n",
      "-0.125\n",
      "-44.0\n",
      "-0.125\n",
      "-43.625\n",
      "-0.125\n",
      "-41.0\n",
      "-0.125\n",
      "-38.375\n",
      "-0.125\n",
      "-59.0\n",
      "-0.125\n",
      "-36.0\n",
      "0.0\n",
      "-34.0\n",
      "output_equation  t---1-5+6\n"
     ]
    }
   ],
   "source": [
    "pred = algo.infer(input_lang, output_lang, X_test[0:5])"
   ]
  },
  {
   "cell_type": "code",
   "execution_count": 7,
   "metadata": {},
   "outputs": [
    {
     "output_type": "error",
     "ename": "NameError",
     "evalue": "name 'test' is not defined",
     "traceback": [
      "\u001b[0;31m---------------------------------------------------------------------------\u001b[0m",
      "\u001b[0;31mNameError\u001b[0m                                 Traceback (most recent call last)",
      "\u001b[0;32m<ipython-input-7-bc4bdd9185c8>\u001b[0m in \u001b[0;36m<module>\u001b[0;34m\u001b[0m\n\u001b[0;32m----> 1\u001b[0;31m \u001b[0maccuracy_score\u001b[0m\u001b[0;34m(\u001b[0m\u001b[0mpred\u001b[0m\u001b[0;34m,\u001b[0m \u001b[0mtest\u001b[0m\u001b[0;34m)\u001b[0m\u001b[0;34m\u001b[0m\u001b[0;34m\u001b[0m\u001b[0m\n\u001b[0m",
      "\u001b[0;31mNameError\u001b[0m: name 'test' is not defined"
     ]
    }
   ],
   "source": [
    "accuracy_score(pred, y_test[0:5])"
   ]
  },
  {
   "cell_type": "code",
   "execution_count": null,
   "metadata": {},
   "outputs": [],
   "source": []
  }
 ]
}