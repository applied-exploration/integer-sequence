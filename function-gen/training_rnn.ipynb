{
 "metadata": {
  "language_info": {
   "codemirror_mode": {
    "name": "ipython",
    "version": 3
   },
   "file_extension": ".py",
   "mimetype": "text/x-python",
   "name": "python",
   "nbconvert_exporter": "python",
   "pygments_lexer": "ipython3",
   "version": "3.6.12"
  },
  "orig_nbformat": 4,
  "kernelspec": {
   "name": "python3",
   "display_name": "Python 3.6.12 64-bit ('drlnd': conda)"
  },
  "interpreter": {
   "hash": "21b14e6ae810b98687c42101764fbc6ed2f749f10b37141b42930ea65db4f89b"
  }
 },
 "nbformat": 4,
 "nbformat_minor": 2,
 "cells": [
  {
   "cell_type": "code",
   "execution_count": 3,
   "metadata": {},
   "outputs": [],
   "source": [
    "from models.rnn.rnn_plain import RNN_Plain\n",
    "from lang import load_data_int_seq\n",
    "from utils import accuracy_score\n",
    "%load_ext autoreload\n",
    "%autoreload 2"
   ]
  },
  {
   "cell_type": "code",
   "execution_count": 4,
   "metadata": {},
   "outputs": [],
   "source": [
    "output_lang, input_lang, train, X_test, y_test = load_data_int_seq()"
   ]
  },
  {
   "cell_type": "code",
   "execution_count": 15,
   "metadata": {},
   "outputs": [],
   "source": [
    "algo = RNN_Plain(symbols = \"+*-0123456789t\", output_sequence_length = 9, encoded_seq_length = 9, num_epochs= 500, input_size=input_lang.n_words, hidden_size=256, output_size=output_lang.n_words, calc_magnitude_on=True)"
   ]
  },
  {
   "cell_type": "code",
   "execution_count": 16,
   "metadata": {
    "tags": []
   },
   "outputs": [
    {
     "output_type": "stream",
     "name": "stdout",
     "text": [
      "0m 3s (- 0m 34s) (50 10%) 325.1573\n",
      "0m 7s (- 0m 28s) (100 20%) 371.6379\n",
      "0m 10s (- 0m 24s) (150 30%) 309.6889\n",
      "0m 13s (- 0m 19s) (200 40%) 364.5098\n",
      "0m 16s (- 0m 16s) (250 50%) 322.1586\n",
      "0m 18s (- 0m 12s) (300 60%) 315.6999\n",
      "0m 21s (- 0m 9s) (350 70%) 322.3224\n",
      "0m 25s (- 0m 6s) (400 80%) 284.2743\n",
      "0m 28s (- 0m 3s) (450 90%) 282.8959\n",
      "0m 31s (- 0m 0s) (500 100%) 324.5329\n"
     ]
    }
   ],
   "source": [
    "algo.train(train, input_lang, output_lang)"
   ]
  },
  {
   "cell_type": "code",
   "execution_count": 9,
   "metadata": {},
   "outputs": [],
   "source": [
    "test=X_test[1]"
   ]
  },
  {
   "cell_type": "code",
   "execution_count": 13,
   "metadata": {},
   "outputs": [
    {
     "output_type": "stream",
     "name": "stdout",
     "text": [
      "['t*t*t*t-t', 't*t*t*t-t', 't*t*t*t-t', 't*t*t*t-t', 't*t*t*t-t']\n"
     ]
    }
   ],
   "source": [
    "pred = algo.infer(X_test[:5], input_lang, output_lang)\n",
    "print(pred)"
   ]
  },
  {
   "cell_type": "code",
   "execution_count": 14,
   "metadata": {},
   "outputs": [
    {
     "output_type": "execute_result",
     "data": {
      "text/plain": [
       "0.0"
      ]
     },
     "metadata": {},
     "execution_count": 14
    }
   ],
   "source": [
    "accuracy_score(pred, test[:5])"
   ]
  },
  {
   "cell_type": "code",
   "execution_count": null,
   "metadata": {},
   "outputs": [],
   "source": []
  }
 ]
}