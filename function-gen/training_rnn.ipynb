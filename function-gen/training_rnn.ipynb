{
 "metadata": {
  "orig_nbformat": 4,
  "kernelspec": {
   "name": "python3",
   "display_name": "Python 3.6.12 64-bit ('azureml_py36_pytorch': conda)"
  },
  "interpreter": {
   "hash": "65a6fb21403324a4fcc575fcf3a617b24a3f83af0989a5df72c2c959c953fd10"
  }
 },
 "nbformat": 4,
 "nbformat_minor": 2,
 "cells": [
  {
   "cell_type": "code",
   "execution_count": 3,
   "metadata": {},
   "outputs": [
    {
     "output_type": "stream",
     "name": "stderr",
     "text": [
      "Matplotlib is building the font cache; this may take a moment.\n"
     ]
    }
   ],
   "source": [
    "from models.rnn.rnn_plain import RNN_Plain\n",
    "from models.rnn.rnn_attention import RNN_Attention\n",
    "\n",
    "from lang import load_data_int_seq\n",
    "from utils import accuracy_score\n",
    "%load_ext autoreload\n",
    "%autoreload 2"
   ]
  },
  {
   "cell_type": "code",
   "execution_count": 4,
   "metadata": {},
   "outputs": [],
   "source": [
    "output_lang, input_lang, train, X_test, y_test = load_data_int_seq()"
   ]
  },
  {
   "source": [
    "## Plain RNN"
   ],
   "cell_type": "markdown",
   "metadata": {}
  },
  {
   "cell_type": "code",
   "execution_count": 8,
   "metadata": {},
   "outputs": [
    {
     "output_type": "stream",
     "name": "stdout",
     "text": [
      "1m 9s (- 10m 25s) (2500 10%) 1.6035\n",
      "2m 16s (- 9m 5s) (5000 20%) 1.5055\n",
      "3m 22s (- 7m 52s) (7500 30%) 1.4828\n",
      "4m 28s (- 6m 43s) (10000 40%) 1.4618\n",
      "5m 35s (- 5m 35s) (12500 50%) 1.4529\n",
      "6m 43s (- 4m 28s) (15000 60%) 1.4416\n",
      "7m 48s (- 3m 20s) (17500 70%) 1.4403\n",
      "8m 56s (- 2m 14s) (20000 80%) 1.4327\n",
      "10m 4s (- 1m 7s) (22500 90%) 1.4185\n",
      "11m 11s (- 0m 0s) (25000 100%) 1.4163\n"
     ]
    }
   ],
   "source": [
    "algo = RNN_Plain(symbols = \"+*-0123456789t\", output_sequence_length = 9, encoded_seq_length = 9, num_epochs=250000, input_size=input_lang.n_words, hidden_size=512, output_size=output_lang.n_words, calc_magnitude_on=False)\n",
    "algo.train(train, input_lang, output_lang)"
   ]
  },
  {
   "cell_type": "code",
   "execution_count": 9,
   "metadata": {
    "tags": []
   },
   "outputs": [
    {
     "output_type": "execute_result",
     "data": {
      "text/plain": [
       "['t*t-t*t-t',\n",
       " '1-t*t*t*t',\n",
       " 't+t-t-t*t',\n",
       " 't*t-t-t*t',\n",
       " '6*t*4*t*t',\n",
       " 't-t*t-t-t',\n",
       " '6-t-t-t+t',\n",
       " '9-t*9-t-t',\n",
       " 't+t-t-t*t',\n",
       " 't-t-t-t-t',\n",
       " 't*t*t+t*t',\n",
       " 't*t+t+t+t',\n",
       " '8+t*t+t*t',\n",
       " 't+t*t*t-t',\n",
       " 't+t+t+t+t',\n",
       " '5*t+t*t+t',\n",
       " 't-t-t+t-t',\n",
       " 't-t+t+t+t',\n",
       " 't+t*t-t+t',\n",
       " 't+t+t+t+t',\n",
       " 't+t+t+t+t',\n",
       " 't+t-7-t+t',\n",
       " 't-t-t-t*t',\n",
       " 't-t*t-t-t',\n",
       " 't-t-t-t*t']"
      ]
     },
     "metadata": {},
     "execution_count": 9
    }
   ],
   "source": [
    "pred = algo.infer(X_test[:10000], input_lang, output_lang)\n",
    "pred[:25]"
   ]
  },
  {
   "cell_type": "code",
   "execution_count": 1,
   "metadata": {},
   "outputs": [
    {
     "output_type": "error",
     "ename": "NameError",
     "evalue": "name 'accuracy_score' is not defined",
     "traceback": [
      "\u001b[0;31m---------------------------------------------------------------------------\u001b[0m",
      "\u001b[0;31mNameError\u001b[0m                                 Traceback (most recent call last)",
      "\u001b[0;32m<ipython-input-1-2abcaa7ba06d>\u001b[0m in \u001b[0;36m<module>\u001b[0;34m\u001b[0m\n\u001b[0;32m----> 1\u001b[0;31m \u001b[0maccuracy_score\u001b[0m\u001b[0;34m(\u001b[0m\u001b[0mpred\u001b[0m\u001b[0;34m,\u001b[0m \u001b[0my_test\u001b[0m\u001b[0;34m[\u001b[0m\u001b[0;34m:\u001b[0m\u001b[0;36m10000\u001b[0m\u001b[0;34m]\u001b[0m\u001b[0;34m)\u001b[0m\u001b[0;34m\u001b[0m\u001b[0;34m\u001b[0m\u001b[0m\n\u001b[0m",
      "\u001b[0;31mNameError\u001b[0m: name 'accuracy_score' is not defined"
     ]
    }
   ],
   "source": [
    "accuracy_score(pred, y_test[:10000])"
   ]
  },
  {
   "source": [
    "### Plain RNN with Magnitude loss"
   ],
   "cell_type": "markdown",
   "metadata": {}
  },
  {
   "cell_type": "code",
   "execution_count": 11,
   "metadata": {},
   "outputs": [
    {
     "output_type": "stream",
     "name": "stdout",
     "text": [
      "1m 48s (- 16m 16s) (2500 10%) 752.0585\n",
      "2m 55s (- 11m 43s) (5000 20%) 730.2344\n",
      "4m 1s (- 9m 24s) (7500 30%) 713.8552\n",
      "5m 8s (- 7m 42s) (10000 40%) 703.1895\n",
      "6m 13s (- 6m 13s) (12500 50%) 694.4093\n",
      "7m 20s (- 4m 53s) (15000 60%) 661.3889\n",
      "8m 25s (- 3m 36s) (17500 70%) 692.1754\n",
      "9m 30s (- 2m 22s) (20000 80%) 693.5832\n",
      "10m 35s (- 1m 10s) (22500 90%) 707.9101\n",
      "11m 40s (- 0m 0s) (25000 100%) 702.4095\n"
     ]
    }
   ],
   "source": [
    "magn_algo = RNN_Plain(symbols = \"+*-0123456789t\", output_sequence_length = 9, encoded_seq_length = 9, num_epochs=250000, input_size=input_lang.n_words, hidden_size=512, output_size=output_lang.n_words, calc_magnitude_on=True)\n",
    "magn_algo.train(train, input_lang, output_lang)"
   ]
  },
  {
   "cell_type": "code",
   "execution_count": 12,
   "metadata": {},
   "outputs": [
    {
     "output_type": "execute_result",
     "data": {
      "text/plain": [
       "['t-0-0-0-0',\n",
       " '8',\n",
       " '0-0-0-0-0',\n",
       " '8-5-5-5-5',\n",
       " '0',\n",
       " 't-t-t-t-t',\n",
       " '0-0-0-0-0',\n",
       " '7',\n",
       " '0-0-0-0-0',\n",
       " '7-7-7-7-7',\n",
       " '0',\n",
       " '',\n",
       " '7-5-5-5-5',\n",
       " '8-8-8-8-8',\n",
       " '8+7+7+7+7',\n",
       " '8',\n",
       " '8-0-0-0-0',\n",
       " '8-5-5-5-5',\n",
       " '8-5-5-5-5',\n",
       " '5',\n",
       " '7',\n",
       " '0-0-0-0-0',\n",
       " '5-5-5-5-5',\n",
       " '7-7-7-7-7',\n",
       " '5-5-5-5-5']"
      ]
     },
     "metadata": {},
     "execution_count": 12
    }
   ],
   "source": [
    "pred = magn_algo.infer(X_test[:1000], input_lang, output_lang)\n",
    "pred[:25]"
   ]
  },
  {
   "cell_type": "code",
   "execution_count": 13,
   "metadata": {},
   "outputs": [
    {
     "output_type": "execute_result",
     "data": {
      "text/plain": [
       "0.039"
      ]
     },
     "metadata": {},
     "execution_count": 13
    }
   ],
   "source": [
    "accuracy_score(pred, y_test[:1000])"
   ]
  },
  {
   "source": [
    "##  Attention-based"
   ],
   "cell_type": "markdown",
   "metadata": {}
  },
  {
   "cell_type": "code",
   "execution_count": 14,
   "metadata": {},
   "outputs": [
    {
     "output_type": "stream",
     "name": "stdout",
     "text": [
      "1m 25s (- 12m 48s) (2500 10%) 1.5911\n",
      "2m 48s (- 11m 15s) (5000 20%) 1.5001\n",
      "4m 10s (- 9m 45s) (7500 30%) 1.4662\n",
      "5m 33s (- 8m 20s) (10000 40%) 1.4493\n",
      "6m 56s (- 6m 56s) (12500 50%) 1.4401\n",
      "8m 19s (- 5m 32s) (15000 60%) 1.4280\n",
      "9m 41s (- 4m 9s) (17500 70%) 1.4201\n",
      "11m 4s (- 2m 46s) (20000 80%) 1.4053\n",
      "12m 27s (- 1m 23s) (22500 90%) 1.3929\n",
      "13m 50s (- 0m 0s) (25000 100%) 1.3835\n"
     ]
    }
   ],
   "source": [
    "algo_attn = RNN_Attention(symbols = \"+*-0123456789t\", output_sequence_length = 9, encoded_seq_length = 9, num_epochs=25000, input_size=input_lang.n_words, hidden_size=512, output_size=output_lang.n_words, calc_magnitude_on=False)\n",
    "algo_attn.train(train, input_lang, output_lang)"
   ]
  },
  {
   "cell_type": "code",
   "execution_count": 15,
   "metadata": {},
   "outputs": [
    {
     "output_type": "execute_result",
     "data": {
      "text/plain": [
       "['t+t*t-t*t',\n",
       " 't*t*t*t-t',\n",
       " '1-t-t+t-t',\n",
       " 't*t-t+t-t',\n",
       " '4*6*t+t*t',\n",
       " 't*3-7-t-t',\n",
       " '9-t+t+t-t',\n",
       " '6+t+7+t+t',\n",
       " '1-t-t+t-t',\n",
       " '7-t-t-t-t',\n",
       " 't-t*t*t*t',\n",
       " '6+t+t+t+t',\n",
       " 't*t*t*t+t',\n",
       " 't*t+t+t+t',\n",
       " 't+t+t+t+t',\n",
       " '7*t+3+t+t',\n",
       " 't-t+t-t+t',\n",
       " 't+t+t+t+t',\n",
       " '4*4+t+t+t',\n",
       " '9+t+t+t+t',\n",
       " 't+t+t+t+t',\n",
       " 't+t-t+t-t',\n",
       " 't-t-t-t-t',\n",
       " 't-t-t-t-t',\n",
       " 't*t-t-t-t']"
      ]
     },
     "metadata": {},
     "execution_count": 15
    }
   ],
   "source": [
    "pred = algo_attn.infer(X_test[:1000], input_lang, output_lang)\n",
    "pred[:25]"
   ]
  },
  {
   "cell_type": "code",
   "execution_count": 16,
   "metadata": {},
   "outputs": [
    {
     "output_type": "execute_result",
     "data": {
      "text/plain": [
       "0.039"
      ]
     },
     "metadata": {},
     "execution_count": 16
    }
   ],
   "source": [
    "accuracy_score(pred, y_test[:1000])"
   ]
  },
  {
   "source": [
    "### Attention with magnitude loss"
   ],
   "cell_type": "markdown",
   "metadata": {}
  },
  {
   "cell_type": "code",
   "execution_count": 17,
   "metadata": {},
   "outputs": [
    {
     "output_type": "stream",
     "name": "stdout",
     "text": [
      "1m 26s (- 12m 54s) (2500 10%) 829.4295\n",
      "2m 49s (- 11m 18s) (5000 20%) 864.1495\n",
      "4m 14s (- 9m 52s) (7500 30%) 1014.5353\n",
      "5m 38s (- 8m 28s) (10000 40%) 934.3488\n",
      "7m 2s (- 7m 2s) (12500 50%) 843.0542\n",
      "8m 25s (- 5m 37s) (15000 60%) 865.7938\n",
      "9m 49s (- 4m 12s) (17500 70%) 761.3123\n",
      "11m 12s (- 2m 48s) (20000 80%) 746.8409\n",
      "12m 34s (- 1m 23s) (22500 90%) 743.2927\n",
      "13m 57s (- 0m 0s) (25000 100%) 753.5601\n"
     ]
    }
   ],
   "source": [
    "algo_attn_magn = RNN_Attention(symbols = \"+*-0123456789t\", output_sequence_length = 9, encoded_seq_length = 9, num_epochs=25000, input_size=input_lang.n_words, hidden_size=512, output_size=output_lang.n_words, calc_magnitude_on=True)\n",
    "algo_attn_magn.train(train, input_lang, output_lang)"
   ]
  },
  {
   "cell_type": "code",
   "execution_count": 18,
   "metadata": {},
   "outputs": [
    {
     "output_type": "execute_result",
     "data": {
      "text/plain": [
       "['t+t+t+t+t',\n",
       " 't+t+t+t+t',\n",
       " 't-t*t+t+t',\n",
       " 't+t+t+t+t',\n",
       " 't+t+t+t+t',\n",
       " 't+t+t+t+t',\n",
       " 't+t+t-t*t',\n",
       " 't+60+0+0+',\n",
       " 't-t*t+t+t',\n",
       " 't+t+t+t+t',\n",
       " 't+t+t+t+t',\n",
       " 't+t+t+t+t',\n",
       " 't+t+t+t+t',\n",
       " '0-0+0+0+0',\n",
       " 't+t+t+t+t',\n",
       " 't+t+t+t+t',\n",
       " 't+t+t+t+t',\n",
       " 't+t+t+t+t',\n",
       " 't*t+t+t+t',\n",
       " 't+t+t+t+t',\n",
       " '0+0+0+0+0',\n",
       " 't+t+t+t+t',\n",
       " '0+0+00+0-',\n",
       " '0-0+0+0-0',\n",
       " '0+0+0+0+0']"
      ]
     },
     "metadata": {},
     "execution_count": 18
    }
   ],
   "source": [
    "pred = algo_attn_magn.infer(X_test[:1000], input_lang, output_lang)\n",
    "pred[:25]"
   ]
  },
  {
   "cell_type": "code",
   "execution_count": 19,
   "metadata": {},
   "outputs": [
    {
     "output_type": "execute_result",
     "data": {
      "text/plain": [
       "0.002"
      ]
     },
     "metadata": {},
     "execution_count": 19
    }
   ],
   "source": [
    "accuracy_score(pred, y_test[:1000])"
   ]
  },
  {
   "cell_type": "code",
   "execution_count": null,
   "metadata": {},
   "outputs": [],
   "source": []
  }
 ]
}