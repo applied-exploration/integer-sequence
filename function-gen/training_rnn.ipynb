{
 "metadata": {
  "language_info": {
   "codemirror_mode": {
    "name": "ipython",
    "version": 3
   },
   "file_extension": ".py",
   "mimetype": "text/x-python",
   "name": "python",
   "nbconvert_exporter": "python",
   "pygments_lexer": "ipython3",
   "version": "3.6.12"
  },
  "orig_nbformat": 4,
  "kernelspec": {
   "name": "python3",
   "display_name": "Python 3.6.12 64-bit ('drlnd': conda)"
  },
  "interpreter": {
   "hash": "21b14e6ae810b98687c42101764fbc6ed2f749f10b37141b42930ea65db4f89b"
  }
 },
 "nbformat": 4,
 "nbformat_minor": 2,
 "cells": [
  {
   "cell_type": "code",
   "execution_count": 8,
   "metadata": {},
   "outputs": [
    {
     "output_type": "stream",
     "name": "stdout",
     "text": [
      "The autoreload extension is already loaded. To reload it, use:\n  %reload_ext autoreload\n"
     ]
    }
   ],
   "source": [
    "from models.rnn.rnn_plain import RNN_Plain\n",
    "from lang import load_data_int_seq\n",
    "from utils import accuracy_score\n",
    "%load_ext autoreload\n",
    "%autoreload 2"
   ]
  },
  {
   "cell_type": "code",
   "execution_count": 9,
   "metadata": {},
   "outputs": [],
   "source": [
    "output_lang, input_lang, train, X_test, y_test = load_data_int_seq()"
   ]
  },
  {
   "cell_type": "code",
   "execution_count": 10,
   "metadata": {},
   "outputs": [],
   "source": [
    "algo = RNN_Plain(symbols = \"+*-0123456789t\", output_sequence_length = 9, encoded_seq_length = 9, num_epochs= 2500, input_size=input_lang.n_words, hidden_size=512, output_size=output_lang.n_words, calc_magnitude_on=False)"
   ]
  },
  {
   "cell_type": "code",
   "execution_count": 14,
   "metadata": {
    "tags": []
   },
   "outputs": [
    {
     "output_type": "stream",
     "name": "stdout",
     "text": [
      "0m 26s (- 3m 55s) (250 10%) 1.5326\n",
      "0m 52s (- 3m 31s) (500 20%) 1.5043\n",
      "1m 13s (- 2m 51s) (750 30%) 1.5223\n",
      "1m 39s (- 2m 29s) (1000 40%) 1.5135\n",
      "1m 56s (- 1m 56s) (1250 50%) 1.4970\n",
      "2m 25s (- 1m 36s) (1500 60%) 1.5175\n",
      "2m 54s (- 1m 14s) (1750 70%) 1.5037\n",
      "3m 26s (- 0m 51s) (2000 80%) 1.4854\n",
      "3m 46s (- 0m 25s) (2250 90%) 1.4875\n",
      "4m 5s (- 0m 0s) (2500 100%) 1.5063\n"
     ]
    }
   ],
   "source": [
    "algo.train(train, input_lang, output_lang)"
   ]
  },
  {
   "cell_type": "code",
   "execution_count": 15,
   "metadata": {},
   "outputs": [],
   "source": [
    "test=X_test[1]"
   ]
  },
  {
   "cell_type": "code",
   "execution_count": 27,
   "metadata": {},
   "outputs": [
    {
     "output_type": "stream",
     "name": "stdout",
     "text": [
      "['t+t+t+t-t', 't*t*t*t*t', 't+t+t+t', 't+t+t+t+t', 't+t+t+t+t', 't-t-t-t-t', 't+t+t+t', 't+t+t+t+t', 't+t+t+t', 't-t+t-t-0', 't*t*t-t-t', 't+t+t+t+t', 't*t*t+t+t', 't+t+t+t+t', 't+t+t+t+t', 't+t+t+t+t', 't+t+t-t-t', 't+t+t+t+t', 't+t+t+t+t', 't+t+t+t+t', 't+t+t+t+t', 't+t+t+t-t', 't-t+t-t-t', 't-t*t-t-t', 't-t+t-t-t', 't-t*t-t-t', 't*t+t-t-t', 't+t+t+t+t', 't+t+t+t+0', 't+t+t+t+t', 't+t+t+t+t', 't-t*t-t-t', 't+t+t+t+t', 't-t*t-t-t', 't*t*t*t+t', 't-t+t-t-0', 't+t+t-t-t', 't+t+t+t+t', 't+t+t+t+t', 't-t+t-t-t', 't-t*t-t-t', 't*t+t+t+t', 't-t-t-t-t', 't-t+t-t-t', 't+t+t+t+t', 't+t+t-t-t', 't-t-t-t-t', 't*t*t+t+t', 't-t-t-t-t', 't*t*t*t+t', 't+t+t+t+t', 't+t+t+t+t', 't+t+t+t+t', 't+t+t+t+t', 't+t+t+t+t', 't+t+t+t+t', 't-t*t-t-t', 't+t+t+t+t', 't-t-t-t-t', 't+t+t+t+t', 't+t+t-t-t', 't-t-t-t-t', 't+t+t+t+t', 't+t+t+t', 't-t-t-t-t', 't+t+t+t+t', 't-t-t-t-t', 't+t+t+t+t', 't-t-t+t-t', 't-t+t+t-t', 't+t+t+t+t', 't+t+t+t', 't+t+t+t-0', 't+t+t+t+t', 't+t+t+t+t', 't+t+t+t+t', 't-t-t-t-t', 't+t+t+t+t', 't-t-t-t-t', 't+t+t+t+t', 't-t-t+t-t', 't+t+t+t+t', 't-t-t-t-t', 't+t+t+t+t', 't+t+t+t+0', 't*t*t*t-t', 't-t-t-t-t', 't-t-t-t-t', 't+t+t+t+t', 't*t+t+t-t', 't+t+t+t+t', 't+t+t+t+t', 't+t+t+t+t', 't-t+t-t-t', 't+t+t+t+t', 't+t+t+t+t', 't+t+t+t+t', 't+t+t+t+t', 't+t+t+t+t', 't+t+t+t+t']\n"
     ]
    }
   ],
   "source": [
    "pred = algo.infer(X_test[:100], input_lang, output_lang)\n",
    "print(pred)"
   ]
  },
  {
   "cell_type": "code",
   "execution_count": 28,
   "metadata": {},
   "outputs": [
    {
     "output_type": "execute_result",
     "data": {
      "text/plain": [
       "0.0"
      ]
     },
     "metadata": {},
     "execution_count": 28
    }
   ],
   "source": [
    "accuracy_score(pred, test[:100])"
   ]
  },
  {
   "cell_type": "code",
   "execution_count": 18,
   "metadata": {},
   "outputs": [],
   "source": [
    "magn_algo = RNN_Plain(symbols = \"+*-0123456789t\", output_sequence_length = 9, encoded_seq_length = 9, num_epochs= 2500, input_size=input_lang.n_words, hidden_size=512, output_size=output_lang.n_words, calc_magnitude_on=True)"
   ]
  },
  {
   "cell_type": "code",
   "execution_count": 26,
   "metadata": {},
   "outputs": [
    {
     "output_type": "stream",
     "name": "stdout",
     "text": [
      "0m 28s (- 4m 16s) (250 10%) 689.5411\n",
      "0m 57s (- 3m 50s) (500 20%) 690.3261\n",
      "1m 22s (- 3m 13s) (750 30%) 632.2151\n",
      "1m 41s (- 2m 32s) (1000 40%) 664.3531\n",
      "1m 57s (- 1m 57s) (1250 50%) 668.0902\n",
      "2m 12s (- 1m 28s) (1500 60%) 638.1254\n",
      "2m 37s (- 1m 7s) (1750 70%) 686.7845\n",
      "3m 9s (- 0m 47s) (2000 80%) 680.5296\n",
      "3m 34s (- 0m 23s) (2250 90%) 650.3012\n",
      "4m 8s (- 0m 0s) (2500 100%) 712.0950\n"
     ]
    }
   ],
   "source": [
    "magn_algo.train(train, input_lang, output_lang)"
   ]
  },
  {
   "cell_type": "code",
   "execution_count": 31,
   "metadata": {},
   "outputs": [],
   "source": [
    "pred = magn_algo.infer(X_test[:1000], input_lang, output_lang)\n",
    "#print(pred)"
   ]
  },
  {
   "cell_type": "code",
   "execution_count": 32,
   "metadata": {},
   "outputs": [
    {
     "output_type": "execute_result",
     "data": {
      "text/plain": [
       "0.25"
      ]
     },
     "metadata": {},
     "execution_count": 32
    }
   ],
   "source": [
    "accuracy_score(pred, test[:1000])"
   ]
  },
  {
   "cell_type": "code",
   "execution_count": null,
   "metadata": {},
   "outputs": [],
   "source": []
  }
 ]
}