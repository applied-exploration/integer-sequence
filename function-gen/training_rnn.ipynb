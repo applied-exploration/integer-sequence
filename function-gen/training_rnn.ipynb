{
 "cells": [
  {
   "cell_type": "code",
   "execution_count": 1,
   "metadata": {},
   "outputs": [],
   "source": [
    "from models.rnn.rnn_plain import RNN_Plain\n",
    "from models.rnn.rnn_attention import RNN_Attention\n",
    "\n",
    "from lang import load_data_int_seq\n",
    "from utils import accuracy_score\n",
    "%load_ext autoreload\n",
    "%autoreload 2"
   ]
  },
  {
   "cell_type": "code",
   "execution_count": 2,
   "metadata": {},
   "outputs": [],
   "source": [
    "output_lang, input_lang, train, X_test, y_test = load_data_int_seq()"
   ]
  },
  {
   "cell_type": "markdown",
   "metadata": {},
   "source": [
    "## Plain RNN"
   ]
  },
  {
   "cell_type": "code",
   "execution_count": 11,
   "metadata": {},
   "outputs": [
    {
     "output_type": "stream",
     "name": "stdout",
     "text": [
      "0m 6s (- 0m 55s) (200 10%) 2.3686\n",
      "0m 12s (- 0m 48s) (400 20%) 1.7621\n",
      "0m 18s (- 0m 42s) (600 30%) 1.5965\n",
      "0m 24s (- 0m 36s) (800 40%) 1.6149\n",
      "0m 30s (- 0m 30s) (1000 50%) 1.5565\n",
      "0m 37s (- 0m 24s) (1200 60%) 1.5575\n",
      "0m 44s (- 0m 19s) (1400 70%) 1.5400\n",
      "0m 53s (- 0m 13s) (1600 80%) 1.5629\n",
      "1m 2s (- 0m 6s) (1800 90%) 1.5486\n",
      "1m 16s (- 0m 0s) (2000 100%) 1.5549\n"
     ]
    }
   ],
   "source": [
    "algo = RNN_Plain(symbols = \"+*-0123456789t\", output_sequence_length = 9, encoded_seq_length = 9, num_epochs= 2000, input_size=input_lang.n_words, hidden_size=512, output_size=output_lang.n_words, embedding_size = 24, calc_magnitude_on=False)\n",
    "algo.train(input_lang, output_lang, train)"
   ]
  },
  {
   "cell_type": "code",
   "execution_count": 12,
   "metadata": {},
   "outputs": [
    {
     "output_type": "stream",
     "name": "stdout",
     "text": [
      "0m 13s (- 2m 2s) (200 10%) 2.1975\n",
      "0m 23s (- 1m 35s) (400 20%) 1.6573\n",
      "0m 32s (- 1m 16s) (600 30%) 1.6143\n",
      "0m 40s (- 1m 0s) (800 40%) 1.5942\n",
      "0m 48s (- 0m 48s) (1000 50%) 1.5862\n",
      "0m 55s (- 0m 36s) (1200 60%) 1.5754\n",
      "1m 2s (- 0m 26s) (1400 70%) 1.5784\n",
      "1m 10s (- 0m 17s) (1600 80%) 1.5611\n",
      "1m 18s (- 0m 8s) (1800 90%) 1.5637\n",
      "1m 25s (- 0m 0s) (2000 100%) 1.5683\n"
     ]
    }
   ],
   "source": [
    "algo = RNN_Plain(symbols = \"+*-0123456789t\", output_sequence_length = 9, encoded_seq_length = 9, num_epochs= 2000, input_size=input_lang.n_words, hidden_size=512, output_size=output_lang.n_words, embedding_size = 64, calc_magnitude_on=False)\n",
    "algo.train(input_lang, output_lang, train)"
   ]
  },
  {
   "cell_type": "code",
   "execution_count": 13,
   "metadata": {},
   "outputs": [
    {
     "output_type": "stream",
     "name": "stdout",
     "text": [
      "0m 4s (- 0m 36s) (200 10%) 2.2063\n",
      "0m 8s (- 0m 32s) (400 20%) 1.6533\n",
      "0m 12s (- 0m 28s) (600 30%) 1.6130\n",
      "0m 17s (- 0m 26s) (800 40%) 1.5800\n",
      "0m 22s (- 0m 22s) (1000 50%) 1.5846\n",
      "0m 27s (- 0m 18s) (1200 60%) 1.5789\n",
      "0m 32s (- 0m 13s) (1400 70%) 1.5702\n",
      "0m 37s (- 0m 9s) (1600 80%) 1.5641\n",
      "0m 42s (- 0m 4s) (1800 90%) 1.5681\n",
      "0m 47s (- 0m 0s) (2000 100%) 1.5337\n"
     ]
    }
   ],
   "source": [
    "algo = RNN_Plain(symbols = \"+*-0123456789t\", output_sequence_length = 9, encoded_seq_length = 9, num_epochs= 2000, input_size=input_lang.n_words, hidden_size=256, output_size=output_lang.n_words, embedding_size = 64, calc_magnitude_on=False)\n",
    "algo.train(input_lang, output_lang, train)"
   ]
  },
  {
   "cell_type": "code",
   "execution_count": 16,
   "metadata": {},
   "outputs": [
    {
     "output_type": "stream",
     "name": "stdout",
     "text": [
      "0m 3s (- 0m 30s) (200 10%) 2.0483\n",
      "0m 6s (- 0m 25s) (400 20%) 1.6343\n",
      "0m 9s (- 0m 22s) (600 30%) 1.5861\n",
      "0m 12s (- 0m 19s) (800 40%) 1.5926\n",
      "0m 16s (- 0m 16s) (1000 50%) 1.5700\n",
      "0m 19s (- 0m 12s) (1200 60%) 1.5636\n",
      "0m 22s (- 0m 9s) (1400 70%) 1.5592\n",
      "0m 26s (- 0m 6s) (1600 80%) 1.5693\n",
      "0m 29s (- 0m 3s) (1800 90%) 1.5498\n",
      "0m 32s (- 0m 0s) (2000 100%) 1.5193\n"
     ]
    }
   ],
   "source": [
    "algo = RNN_Plain(symbols = \"+*-0123456789t\", output_sequence_length = 9, encoded_seq_length = 9, num_epochs= 2000, input_size=input_lang.n_words, hidden_size=256, output_size=output_lang.n_words, embedding_size = 128, calc_magnitude_on=False)\n",
    "algo.train(input_lang, output_lang, train)"
   ]
  },
  {
   "cell_type": "code",
   "execution_count": 7,
   "metadata": {
    "tags": []
   },
   "outputs": [
    {
     "output_type": "execute_result",
     "data": {
      "text/plain": [
       "['t+t+t-t-t',\n",
       " 't+t+t-t-t',\n",
       " 't+t+t-t-t',\n",
       " 't+t+t-t-t',\n",
       " 't+t+t-t-t',\n",
       " 't+t+t-t-t',\n",
       " 't+t+t-t-t',\n",
       " 't+t+t-t-t',\n",
       " 't+t+t-t-t',\n",
       " 't+t+t-t-t',\n",
       " 't+t+t-t-t',\n",
       " 't+t+t-t-t',\n",
       " 't+t+t-t-t',\n",
       " 't+t+t-t-t',\n",
       " 't+t+t-t-t',\n",
       " 't+t+t-t-t',\n",
       " 't+t+t-t-t',\n",
       " 't+t+t-t-t',\n",
       " 't+t+t-t-t',\n",
       " 't+t+t-t-t',\n",
       " 't+t+t-t-t',\n",
       " 't+t+t-t-t',\n",
       " 't+t+t-t-t',\n",
       " 't+t+t-t-t',\n",
       " 't+t+t-t-t']"
      ]
     },
     "metadata": {},
     "execution_count": 7
    }
   ],
   "source": [
    "pred = algo.infer(input_lang, output_lang, X_test[:1000])\n",
    "pred[:25]"
   ]
  },
  {
   "cell_type": "code",
   "execution_count": 5,
   "metadata": {},
   "outputs": [
    {
     "output_type": "execute_result",
     "data": {
      "text/plain": [
       "0.0"
      ]
     },
     "metadata": {},
     "execution_count": 5
    }
   ],
   "source": [
    "accuracy_score(pred, y_test[:1000])"
   ]
  },
  {
   "cell_type": "markdown",
   "metadata": {},
   "source": [
    "### Plain RNN with Magnitude loss"
   ]
  },
  {
   "cell_type": "code",
   "execution_count": null,
   "metadata": {},
   "outputs": [],
   "source": [
    "magn_algo = RNN_Plain(symbols = \"+*-0123456789t\", output_sequence_length = 9, encoded_seq_length = 9, num_epochs= 5000, input_size=input_lang.n_words, hidden_size=512, output_size=output_lang.n_words, calc_magnitude_on=True)\n",
    "magn_algo.train(input_lang, output_lang, train)"
   ]
  },
  {
   "cell_type": "code",
   "execution_count": null,
   "metadata": {},
   "outputs": [],
   "source": [
    "pred = magn_algo.infer(input_lang, output_lang, X_test[:1000])\r\n",
    "pred[:25]"
   ]
  },
  {
   "cell_type": "code",
   "execution_count": null,
   "metadata": {},
   "outputs": [],
   "source": [
    "accuracy_score(pred, y_test[:1000])"
   ]
  },
  {
   "cell_type": "markdown",
   "metadata": {},
   "source": [
    "##  Attention-based"
   ]
  },
  {
   "cell_type": "code",
   "execution_count": null,
   "metadata": {},
   "outputs": [],
   "source": [
    "algo_attn = RNN_Attention(symbols = \"+*-0123456789t\", output_sequence_length = 9, encoded_seq_length = 9, num_epochs= 5000, input_size=input_lang.n_words, hidden_size=512, output_size=output_lang.n_words, calc_magnitude_on=False)\n",
    "algo_attn.train(input_lang, output_lang, train)"
   ]
  },
  {
   "cell_type": "code",
   "execution_count": null,
   "metadata": {},
   "outputs": [],
   "source": [
    "pred = algo_attn.infer(input_lang, output_lang, X_test[:1000])\r\n",
    "pred[:25]"
   ]
  },
  {
   "cell_type": "code",
   "execution_count": null,
   "metadata": {},
   "outputs": [],
   "source": [
    "accuracy_score(pred, y_test[:1000])"
   ]
  },
  {
   "cell_type": "markdown",
   "metadata": {},
   "source": [
    "### Attention with magnitude loss"
   ]
  },
  {
   "cell_type": "code",
   "execution_count": null,
   "metadata": {},
   "outputs": [],
   "source": [
    "algo_attn_magn = RNN_Attention(symbols = \"+*-0123456789t\", output_sequence_length = 9, encoded_seq_length = 9, num_epochs= 5000, input_size=input_lang.n_words, hidden_size=512, output_size=output_lang.n_words, calc_magnitude_on=True)\n",
    "algo_attn_magn.train(input_lang, output_lang, train)"
   ]
  },
  {
   "cell_type": "code",
   "execution_count": null,
   "metadata": {},
   "outputs": [],
   "source": [
    "pred = algo_attn_magn.infer(input_lang, output_lang, X_test[:1000])\r\n",
    "pred[:25]"
   ]
  },
  {
   "cell_type": "code",
   "execution_count": null,
   "metadata": {},
   "outputs": [],
   "source": [
    "accuracy_score(pred, y_test[:1000])"
   ]
  },
  {
   "cell_type": "code",
   "execution_count": null,
   "metadata": {},
   "outputs": [],
   "source": []
  }
 ],
 "metadata": {
  "interpreter": {
   "hash": "a630840cc17be2676cbce8189d2083744dc2f6895f9cfddc5644aa2e06831cd0"
  },
  "kernelspec": {
   "name": "python3",
   "display_name": "Python 3.9.2 64-bit ('deeplearning': conda)"
  },
  "language_info": {
   "codemirror_mode": {
    "name": "ipython",
    "version": 3
   },
   "file_extension": ".py",
   "mimetype": "text/x-python",
   "name": "python",
   "nbconvert_exporter": "python",
   "pygments_lexer": "ipython3",
   "version": "3.9.2"
  },
  "orig_nbformat": 4
 },
 "nbformat": 4,
 "nbformat_minor": 2
}