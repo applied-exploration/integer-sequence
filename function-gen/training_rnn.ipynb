{
 "cells": [
  {
   "cell_type": "code",
   "execution_count": 1,
   "metadata": {},
   "outputs": [],
   "source": [
    "from models.rnn.rnn_plain import RNN_Plain\n",
    "from models.rnn.rnn_attention import RNN_Attention\n",
    "\n",
    "from lang import load_data_int_seq\n",
    "from utils import accuracy_score\n",
    "%load_ext autoreload\n",
    "%autoreload 2"
   ]
  },
  {
   "cell_type": "code",
   "execution_count": 2,
   "metadata": {},
   "outputs": [],
   "source": [
    "output_lang, input_lang, train, X_test, y_test = load_data_int_seq()"
   ]
  },
  {
   "cell_type": "markdown",
   "metadata": {},
   "source": [
    "## Plain RNN"
   ]
  },
  {
   "cell_type": "code",
   "execution_count": 3,
   "metadata": {},
   "outputs": [
    {
     "name": "stdout",
     "output_type": "stream",
     "text": [
      "EncoderRNN(\n",
      "  (embedding): Embedding(4300, 256)\n",
      "  (gru): GRU(256, 256)\n",
      ")\n",
      "DecoderRNN(\n",
      "  (embedding): Embedding(16, 256)\n",
      "  (gru): GRU(256, 256)\n",
      "  (out): Linear(in_features=256, out_features=16, bias=True)\n",
      "  (softmax): LogSoftmax(dim=1)\n",
      ")\n"
     ]
    }
   ],
   "source": [
    "algo = RNN_Plain(symbols = \"+*-0123456789t\", \r\n",
    "output_sequence_length = 9, \r\n",
    "encoded_seq_length = 9, \r\n",
    "num_epochs = 1, \r\n",
    "input_size = input_lang.n_words, \r\n",
    "hidden_size = 256, \r\n",
    "output_size=output_lang.n_words, \r\n",
    "embedding_size = 256, \r\n",
    "batch_size = 1, \r\n",
    "num_gru_layers = 1,\r\n",
    "dropout_prob = 0.0,\r\n",
    "calc_magnitude_on=False)\r\n"
   ]
  },
  {
   "cell_type": "code",
   "execution_count": 13,
   "metadata": {},
   "outputs": [
    {
     "name": "stdout",
     "output_type": "stream",
     "text": [
      "data\n",
      "[(array([ 4,  8, 12, 16, 20, 24, 28, 32, 36], dtype=int64), 't+3*t-1+1'), (array([ 11,  16,  23,  32,  43,  56,  71,  88, 107], dtype=int64), 't+8+t+t*t')]\n",
      "input_data\n",
      "['4,8,12,16,20,24,28,32,36', '11,16,23,32,43,56,71,88,107']\n",
      "target_data\n",
      "['t+3*t-1+1', 't+8+t+t*t']\n",
      "input_tensor_minibatch\n",
      "torch.Size([10, 1])\n",
      "tensor([[11],\n",
      "        [ 5],\n",
      "        [12],\n",
      "        [ 9],\n",
      "        [13],\n",
      "        [14],\n",
      "        [15],\n",
      "        [16],\n",
      "        [17],\n",
      "        [ 0]], device='cuda:0')\n",
      "target_tensor_minibatch\n",
      "torch.Size([10, 1])\n",
      "tensor([[2],\n",
      "        [3],\n",
      "        [8],\n",
      "        [3],\n",
      "        [2],\n",
      "        [3],\n",
      "        [2],\n",
      "        [5],\n",
      "        [2],\n",
      "        [0]], device='cuda:0')\n",
      "torch.Size([10, 1])\n",
      "input_length  10\n",
      "target_length  10\n",
      "====== ENCODER ========\n",
      "input_tensor[ei]  tensor([11], device='cuda:0')\n",
      "encoder_hidden  torch.Size([1, 1, 256])\n",
      "input_tensor[ei]  tensor([5], device='cuda:0')\n",
      "encoder_hidden  torch.Size([1, 1, 256])\n",
      "input_tensor[ei]  tensor([12], device='cuda:0')\n",
      "encoder_hidden  torch.Size([1, 1, 256])\n",
      "input_tensor[ei]  tensor([9], device='cuda:0')\n",
      "encoder_hidden  torch.Size([1, 1, 256])\n",
      "input_tensor[ei]  tensor([13], device='cuda:0')\n",
      "encoder_hidden  torch.Size([1, 1, 256])\n",
      "input_tensor[ei]  tensor([14], device='cuda:0')\n",
      "encoder_hidden  torch.Size([1, 1, 256])\n",
      "input_tensor[ei]  tensor([15], device='cuda:0')\n",
      "encoder_hidden  torch.Size([1, 1, 256])\n",
      "input_tensor[ei]  tensor([16], device='cuda:0')\n",
      "encoder_hidden  torch.Size([1, 1, 256])\n",
      "input_tensor[ei]  tensor([17], device='cuda:0')\n",
      "encoder_hidden  torch.Size([1, 1, 256])\n",
      "input_tensor[ei]  tensor([0], device='cuda:0')\n",
      "encoder_hidden  torch.Size([1, 1, 256])\n",
      "====== DECODER ========\n",
      "output.shape\n",
      "torch.Size([1, 1, 256])\n",
      "output.shape\n",
      "torch.Size([1, 16])\n",
      "decoder_output_squeezed  torch.Size([1, 16])\n",
      "target_tensor[di]  tensor([2], device='cuda:0')\n",
      "output.shape\n",
      "torch.Size([1, 1, 256])\n",
      "output.shape\n",
      "torch.Size([1, 16])\n",
      "decoder_output_squeezed  torch.Size([1, 16])\n",
      "target_tensor[di]  tensor([3], device='cuda:0')\n",
      "output.shape\n",
      "torch.Size([1, 1, 256])\n",
      "output.shape\n",
      "torch.Size([1, 16])\n",
      "decoder_output_squeezed  torch.Size([1, 16])\n",
      "target_tensor[di]  tensor([8], device='cuda:0')\n",
      "output.shape\n",
      "torch.Size([1, 1, 256])\n",
      "output.shape\n",
      "torch.Size([1, 16])\n",
      "decoder_output_squeezed  torch.Size([1, 16])\n",
      "target_tensor[di]  tensor([3], device='cuda:0')\n",
      "output.shape\n",
      "torch.Size([1, 1, 256])\n",
      "output.shape\n",
      "torch.Size([1, 16])\n",
      "decoder_output_squeezed  torch.Size([1, 16])\n",
      "target_tensor[di]  tensor([2], device='cuda:0')\n",
      "output.shape\n",
      "torch.Size([1, 1, 256])\n",
      "output.shape\n",
      "torch.Size([1, 16])\n",
      "decoder_output_squeezed  torch.Size([1, 16])\n",
      "target_tensor[di]  tensor([3], device='cuda:0')\n",
      "output.shape\n",
      "torch.Size([1, 1, 256])\n",
      "output.shape\n",
      "torch.Size([1, 16])\n",
      "decoder_output_squeezed  torch.Size([1, 16])\n",
      "target_tensor[di]  tensor([2], device='cuda:0')\n",
      "output.shape\n",
      "torch.Size([1, 1, 256])\n",
      "output.shape\n",
      "torch.Size([1, 16])\n",
      "decoder_output_squeezed  torch.Size([1, 16])\n",
      "target_tensor[di]  tensor([5], device='cuda:0')\n",
      "output.shape\n",
      "torch.Size([1, 1, 256])\n",
      "output.shape\n",
      "torch.Size([1, 16])\n",
      "decoder_output_squeezed  torch.Size([1, 16])\n",
      "target_tensor[di]  tensor([2], device='cuda:0')\n",
      "output.shape\n",
      "torch.Size([1, 1, 256])\n",
      "output.shape\n",
      "torch.Size([1, 16])\n",
      "decoder_output_squeezed  torch.Size([1, 16])\n",
      "target_tensor[di]  tensor([0], device='cuda:0')\n",
      "0m 0s (- 0m 0s) (1 100%) 1.8967\n"
     ]
    }
   ],
   "source": [
    "algo.train(input_lang, output_lang, train[:2])\r\n"
   ]
  },
  {
   "cell_type": "code",
   "execution_count": 10,
   "metadata": {
    "tags": []
   },
   "outputs": [
    {
     "name": "stdout",
     "output_type": "stream",
     "text": [
      "num batches  31\n",
      "remainder  8\n",
      "input_tensor_minibatch  torch.Size([9, 32])\n",
      "input_tensor_minibatch  torch.Size([9, 32])\n",
      "input_tensor_minibatch  torch.Size([9, 32])\n",
      "input_tensor_minibatch  torch.Size([9, 32])\n",
      "input_tensor_minibatch  torch.Size([9, 32])\n",
      "input_tensor_minibatch  torch.Size([9, 32])\n",
      "input_tensor_minibatch  torch.Size([9, 32])\n",
      "input_tensor_minibatch  torch.Size([9, 32])\n",
      "input_tensor_minibatch  torch.Size([9, 32])\n",
      "input_tensor_minibatch  torch.Size([9, 32])\n",
      "input_tensor_minibatch  torch.Size([9, 32])\n",
      "input_tensor_minibatch  torch.Size([9, 32])\n",
      "input_tensor_minibatch  torch.Size([9, 32])\n",
      "input_tensor_minibatch  torch.Size([9, 32])\n",
      "input_tensor_minibatch  torch.Size([9, 32])\n",
      "input_tensor_minibatch  torch.Size([9, 32])\n",
      "input_tensor_minibatch  torch.Size([9, 32])\n",
      "input_tensor_minibatch  torch.Size([9, 32])\n",
      "input_tensor_minibatch  torch.Size([9, 32])\n",
      "input_tensor_minibatch  torch.Size([9, 32])\n",
      "input_tensor_minibatch  torch.Size([9, 32])\n",
      "input_tensor_minibatch  torch.Size([9, 32])\n",
      "input_tensor_minibatch  torch.Size([9, 32])\n",
      "input_tensor_minibatch  torch.Size([9, 32])\n",
      "input_tensor_minibatch  torch.Size([9, 32])\n",
      "input_tensor_minibatch  torch.Size([9, 32])\n",
      "input_tensor_minibatch  torch.Size([9, 32])\n",
      "input_tensor_minibatch  torch.Size([9, 32])\n",
      "input_tensor_minibatch  torch.Size([9, 32])\n",
      "input_tensor_minibatch  torch.Size([9, 32])\n",
      "input_tensor_minibatch  torch.Size([9, 32])\n",
      "input_tensor_minibatch  torch.Size([9, 8])\n"
     ]
    },
    {
     "data": {
      "text/plain": [
       "['t++t+t+*t',\n",
       " 't++t+t++t',\n",
       " 't++t+t+*t',\n",
       " 't++t++t+t',\n",
       " 't++t++t+t',\n",
       " 't++t++t*t',\n",
       " 't++t+t+tt',\n",
       " 't++t+t+tt',\n",
       " 't++t+t++t',\n",
       " 't++t+t++t']"
      ]
     },
     "execution_count": 10,
     "metadata": {},
     "output_type": "execute_result"
    }
   ],
   "source": [
    "pred = algo.infer(input_lang, output_lang, X_test[:1000])\r\n",
    "pred[:10]"
   ]
  },
  {
   "cell_type": "code",
   "execution_count": 11,
   "metadata": {},
   "outputs": [
    {
     "data": {
      "text/plain": [
       "0.001"
      ]
     },
     "execution_count": 11,
     "metadata": {},
     "output_type": "execute_result"
    }
   ],
   "source": [
    "accuracy_score(pred, y_test[:1000])"
   ]
  },
  {
   "cell_type": "markdown",
   "metadata": {},
   "source": [
    "### Plain RNN with Magnitude loss"
   ]
  },
  {
   "cell_type": "code",
   "execution_count": null,
   "metadata": {},
   "outputs": [],
   "source": [
    "magn_algo = RNN_Plain(symbols = \"+*-0123456789t\", output_sequence_length = 9, encoded_seq_length = 9, num_epochs= 5000, input_size=input_lang.n_words, hidden_size=512, output_size=output_lang.n_words, calc_magnitude_on=True)\n",
    "magn_algo.train(input_lang, output_lang, train)"
   ]
  },
  {
   "cell_type": "code",
   "execution_count": null,
   "metadata": {},
   "outputs": [],
   "source": [
    "pred = magn_algo.infer(input_lang, output_lang, X_test[:1000])\r\n",
    "pred[:25]"
   ]
  },
  {
   "cell_type": "code",
   "execution_count": null,
   "metadata": {},
   "outputs": [],
   "source": [
    "accuracy_score(pred, y_test[:1000])"
   ]
  },
  {
   "cell_type": "markdown",
   "metadata": {},
   "source": [
    "##  Attention-based"
   ]
  },
  {
   "cell_type": "code",
   "execution_count": null,
   "metadata": {},
   "outputs": [],
   "source": [
    "algo_attn = RNN_Attention(symbols = \"+*-0123456789t\", output_sequence_length = 9, encoded_seq_length = 9, num_epochs= 5000, input_size=input_lang.n_words, hidden_size=512, output_size=output_lang.n_words, calc_magnitude_on=False)\n",
    "algo_attn.train(input_lang, output_lang, train)"
   ]
  },
  {
   "cell_type": "code",
   "execution_count": null,
   "metadata": {},
   "outputs": [],
   "source": [
    "pred = algo_attn.infer(input_lang, output_lang, X_test[:1000])\r\n",
    "pred[:25]"
   ]
  },
  {
   "cell_type": "code",
   "execution_count": null,
   "metadata": {},
   "outputs": [],
   "source": [
    "accuracy_score(pred, y_test[:1000])"
   ]
  },
  {
   "cell_type": "markdown",
   "metadata": {},
   "source": [
    "### Attention with magnitude loss"
   ]
  },
  {
   "cell_type": "code",
   "execution_count": null,
   "metadata": {},
   "outputs": [],
   "source": [
    "algo_attn_magn = RNN_Attention(symbols = \"+*-0123456789t\", output_sequence_length = 9, encoded_seq_length = 9, num_epochs= 5000, input_size=input_lang.n_words, hidden_size=512, output_size=output_lang.n_words, calc_magnitude_on=True)\n",
    "algo_attn_magn.train(input_lang, output_lang, train)"
   ]
  },
  {
   "cell_type": "code",
   "execution_count": null,
   "metadata": {},
   "outputs": [],
   "source": [
    "pred = algo_attn_magn.infer(input_lang, output_lang, X_test[:1000])\r\n",
    "pred[:25]"
   ]
  },
  {
   "cell_type": "code",
   "execution_count": null,
   "metadata": {},
   "outputs": [],
   "source": [
    "accuracy_score(pred, y_test[:1000])"
   ]
  },
  {
   "cell_type": "markdown",
   "metadata": {},
   "source": [
    "# Helper Stuff"
   ]
  },
  {
   "cell_type": "code",
   "execution_count": 4,
   "metadata": {},
   "outputs": [
    {
     "data": {
      "application/vnd.code.notebook.stdout": [
       "tensor([[-0.2686,  0.0357, -1.1628],\n",
       "        [ 0.3468,  0.3241,  2.1244]])\n",
       "tensor([[-1.0169, -0.7126, -1.9111],\n",
       "        [-2.0660, -2.0887, -0.2884]])\n"
      ]
     },
     "output_type": "unknown"
    },
    {
     "data": {
      "application/vnd.code.notebook.stderr": [
       "ipykernel_launcher:6: UserWarning: Implicit dimension choice for log_softmax has been deprecated. Change the call to include dim=X as an argument.\n"
      ]
     },
     "output_type": "unknown"
    }
   ],
   "source": [
    "import torch\r\n",
    "import torch.nn as nn\r\n",
    "m = nn.LogSoftmax()\r\n",
    "input = torch.randn(2, 3)\r\n",
    "print(input)\r\n",
    "output = m(input)\r\n",
    "print(output)"
   ]
  },
  {
   "cell_type": "code",
   "execution_count": 42,
   "metadata": {},
   "outputs": [
    {
     "data": {
      "application/vnd.code.notebook.stdout": [
       "output:  torch.Size([5, 4, 8, 8])\n",
       "target:  torch.Size([5, 8, 8])\n"
      ]
     },
     "output_type": "unknown"
    }
   ],
   "source": [
    "# 2D loss example (used, for example, with image inputs)\r\n",
    "N, C = 5, 4\r\n",
    "loss = nn.NLLLoss()\r\n",
    "\r\n",
    "# input is of size N x C x height x width\r\n",
    "data = torch.randn(N, 16, 10, 10)\r\n",
    "conv = nn.Conv2d(16, C, (3, 3))\r\n",
    "m = nn.LogSoftmax(dim=1)\r\n",
    "\r\n",
    "# print(data.shape)\r\n",
    "activated = m(conv(data))\r\n",
    "print(\"output: \", activated.shape)\r\n",
    "\r\n",
    "# each element in target has to have 0 <= value < C\r\n",
    "target = torch.empty(N, 8, 8, dtype=torch.long).random_(0, C)\r\n",
    "print(\"target: \", target.shape)\r\n",
    "output = loss(activated, target)\r\n",
    "\r\n",
    "# output.backward()"
   ]
  },
  {
   "cell_type": "code",
   "execution_count": 41,
   "metadata": {},
   "outputs": [
    {
     "data": {
      "application/vnd.code.notebook.stdout": [
       "torch.Size([3, 5])\n",
       "torch.Size([3])\n"
      ]
     },
     "output_type": "unknown"
    }
   ],
   "source": [
    "m = nn.LogSoftmax(dim=1)\r\n",
    "loss = nn.NLLLoss()\r\n",
    "# input is of size N x C = 3 x 5\r\n",
    "# input = minibatchsize, number of categories\r\n",
    "\r\n",
    "input = torch.randn(3, 5, requires_grad=True)\r\n",
    "# print(input.shape)\r\n",
    "activation = m(input)\r\n",
    "print(activation.shape)\r\n",
    "# each element in target has to have 0 <= value < C\r\n",
    "target = torch.tensor([1, 0, 4])\r\n",
    "print(target.shape)\r\n",
    "output = loss(activation, target)\r\n",
    "# output.backward()"
   ]
  },
  {
   "cell_type": "code",
   "execution_count": 10,
   "metadata": {},
   "outputs": [
    {
     "name": "stdout",
     "output_type": "stream",
     "text": [
      "Timer unit: 1e-07 s\n",
      "\n",
      "Total time: 5.2e-06 s\n",
      "File: <ipython-input-10-550e04f4f4b5>\n",
      "Function: function_to_evaluate at line 4\n",
      "\n",
      "Line #      Hits         Time  Per Hit   % Time  Line Contents\n",
      "==============================================================\n",
      "     4                                           def function_to_evaluate(stuff_to_evaluate):\n",
      "     5         1         52.0     52.0    100.0      pass\n",
      "\n"
     ]
    }
   ],
   "source": [
    "from line_profiler import LineProfiler\r\n",
    "\r\n",
    "stuff_to_evaluate = [1,2,3]\r\n",
    "def function_to_evaluate(stuff_to_evaluate):\r\n",
    "    pass\r\n",
    "\r\n",
    "lp = LineProfiler()\r\n",
    "lp_wrapper = lp(function_to_evaluate)\r\n",
    "lp_wrapper(stuff_to_evaluate)\r\n",
    "lp.print_stats()"
   ]
  },
  {
   "cell_type": "code",
   "execution_count": null,
   "metadata": {},
   "outputs": [],
   "source": []
  }
 ],
 "metadata": {
  "interpreter": {
   "hash": "21b14e6ae810b98687c42101764fbc6ed2f749f10b37141b42930ea65db4f89b"
  },
  "kernelspec": {
   "display_name": "Python 3.6.12 64-bit ('drlnd': conda)",
   "name": "python3"
  },
  "language_info": {
   "codemirror_mode": {
    "name": "ipython",
    "version": 3
   },
   "file_extension": ".py",
   "mimetype": "text/x-python",
   "name": "python",
   "nbconvert_exporter": "python",
   "pygments_lexer": "ipython3",
   "version": "3.6.12"
  },
  "orig_nbformat": 4
 },
 "nbformat": 4,
 "nbformat_minor": 2
}