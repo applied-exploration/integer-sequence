{
 "metadata": {
  "language_info": {
   "codemirror_mode": {
    "name": "ipython",
    "version": 3
   },
   "file_extension": ".py",
   "mimetype": "text/x-python",
   "name": "python",
   "nbconvert_exporter": "python",
   "pygments_lexer": "ipython3",
   "version": "3.9.2"
  },
  "orig_nbformat": 4,
  "kernelspec": {
   "name": "python3",
   "display_name": "Python 3.9.2 64-bit ('deeplearning': conda)"
  },
  "interpreter": {
   "hash": "a630840cc17be2676cbce8189d2083744dc2f6895f9cfddc5644aa2e06831cd0"
  }
 },
 "nbformat": 4,
 "nbformat_minor": 2,
 "cells": [
  {
   "cell_type": "code",
   "execution_count": 51,
   "metadata": {},
   "outputs": [
    {
     "output_type": "stream",
     "name": "stderr",
     "text": [
      "[autoreload of models.rl.env failed: Traceback (most recent call last):\n  File \"/usr/local/anaconda3/envs/deeplearning/lib/python3.9/site-packages/IPython/extensions/autoreload.py\", line 245, in check\n    superreload(m, reload, self.old_objects)\n  File \"/usr/local/anaconda3/envs/deeplearning/lib/python3.9/site-packages/IPython/extensions/autoreload.py\", line 394, in superreload\n    module = reload(module)\n  File \"/usr/local/anaconda3/envs/deeplearning/lib/python3.9/imp.py\", line 314, in reload\n    return importlib.reload(module)\n  File \"/usr/local/anaconda3/envs/deeplearning/lib/python3.9/importlib/__init__.py\", line 169, in reload\n    _bootstrap._exec(spec, module)\n  File \"<frozen importlib._bootstrap>\", line 613, in _exec\n  File \"<frozen importlib._bootstrap_external>\", line 790, in exec_module\n  File \"<frozen importlib._bootstrap>\", line 228, in _call_with_frames_removed\n  File \"/Users/mark/Dev/integer-sequence/function-gen/models/rl/env.py\", line 10, in <module>\n    from itertools import first_true\nImportError: cannot import name 'first_true' from 'itertools' (unknown location)\n]\n"
     ]
    },
    {
     "output_type": "error",
     "ename": "ImportError",
     "evalue": "cannot import name 'TreeState' from 'models.rl.env' (/Users/mark/Dev/integer-sequence/function-gen/models/rl/env.py)",
     "traceback": [
      "\u001b[0;31m---------------------------------------------------------------------------\u001b[0m",
      "\u001b[0;31mImportError\u001b[0m                               Traceback (most recent call last)",
      "\u001b[0;32m<ipython-input-51-1048d5ad34b0>\u001b[0m in \u001b[0;36m<module>\u001b[0;34m\u001b[0m\n\u001b[1;32m      2\u001b[0m \u001b[0;32mfrom\u001b[0m \u001b[0mlang\u001b[0m \u001b[0;32mimport\u001b[0m \u001b[0mload_data_int_seq\u001b[0m\u001b[0;34m\u001b[0m\u001b[0;34m\u001b[0m\u001b[0m\n\u001b[1;32m      3\u001b[0m \u001b[0;32mfrom\u001b[0m \u001b[0mutils\u001b[0m \u001b[0;32mimport\u001b[0m \u001b[0meq_encoder\u001b[0m\u001b[0;34m\u001b[0m\u001b[0;34m\u001b[0m\u001b[0m\n\u001b[0;32m----> 4\u001b[0;31m \u001b[0;32mfrom\u001b[0m \u001b[0mmodels\u001b[0m\u001b[0;34m.\u001b[0m\u001b[0mrl\u001b[0m\u001b[0;34m.\u001b[0m\u001b[0menv\u001b[0m \u001b[0;32mimport\u001b[0m \u001b[0mencodeWithLanguage\u001b[0m\u001b[0;34m,\u001b[0m \u001b[0mdecodeWithLanguage\u001b[0m\u001b[0;34m,\u001b[0m \u001b[0mcreateInitialState\u001b[0m\u001b[0;34m,\u001b[0m \u001b[0mTreeState\u001b[0m\u001b[0;34m\u001b[0m\u001b[0;34m\u001b[0m\u001b[0m\n\u001b[0m\u001b[1;32m      5\u001b[0m \u001b[0mget_ipython\u001b[0m\u001b[0;34m(\u001b[0m\u001b[0;34m)\u001b[0m\u001b[0;34m.\u001b[0m\u001b[0mrun_line_magic\u001b[0m\u001b[0;34m(\u001b[0m\u001b[0;34m'load_ext'\u001b[0m\u001b[0;34m,\u001b[0m \u001b[0;34m'autoreload'\u001b[0m\u001b[0;34m)\u001b[0m\u001b[0;34m\u001b[0m\u001b[0;34m\u001b[0m\u001b[0m\n\u001b[1;32m      6\u001b[0m \u001b[0mget_ipython\u001b[0m\u001b[0;34m(\u001b[0m\u001b[0;34m)\u001b[0m\u001b[0;34m.\u001b[0m\u001b[0mrun_line_magic\u001b[0m\u001b[0;34m(\u001b[0m\u001b[0;34m'autoreload'\u001b[0m\u001b[0;34m,\u001b[0m \u001b[0;34m'2'\u001b[0m\u001b[0;34m)\u001b[0m\u001b[0;34m\u001b[0m\u001b[0;34m\u001b[0m\u001b[0m\n",
      "\u001b[0;31mImportError\u001b[0m: cannot import name 'TreeState' from 'models.rl.env' (/Users/mark/Dev/integer-sequence/function-gen/models/rl/env.py)"
     ]
    }
   ],
   "source": [
    "import random\n",
    "from lang import load_data_int_seq\n",
    "from utils import eq_encoder\n",
    "from models.rl.env import encodeWithLanguage, decodeWithLanguage, createInitialState, TreeState\n",
    "%load_ext autoreload\n",
    "%autoreload 2"
   ]
  },
  {
   "cell_type": "code",
   "execution_count": 52,
   "metadata": {},
   "outputs": [],
   "source": [
    "class Node:\n",
    "    def __init__(self, key):\n",
    "        self.left = None\n",
    "        self.right = None\n",
    "        self.val = key\n",
    "\n",
    "    def __str__(self):\n",
    "        return \"Value: \" + str(self.val) + \", Left: \" + str(self.left) + \", Right: \" + str(self.right)\n",
    "\n",
    "\n",
    "def insert(root, key):\n",
    "    if root is None:\n",
    "        return Node(key)\n",
    "    elif root.left is None:\n",
    "        root.left = insert(root.left, key)\n",
    "    elif root.right is None:\n",
    "        root.right = insert(root.right, key)\n",
    "    return root\n",
    "\n",
    "\n",
    "\n",
    "def generate_possibilities(char: str):\n",
    "    def list_possibilities(prev: str) -> str:\n",
    "        if prev in ['1','2','3','4','5','6','7','8','9','0']:\n",
    "            return ['+', '-', '*']\n",
    "        elif prev in ['s', '+', '-', '*']:\n",
    "            return ['1','2','3','4','5','6','7','8','9','0', 't']\n",
    "        elif prev in ['t']:\n",
    "            return ['+', '-', '*']\n",
    "        else:\n",
    "            raise ValueError('Unexpected prev character')\n",
    "    lhs = list_possibilities(char)\n",
    "    rhs = list_possibilities(char)\n",
    "    return lhs, rhs"
   ]
  },
  {
   "cell_type": "code",
   "execution_count": 53,
   "metadata": {},
   "outputs": [
    {
     "output_type": "execute_result",
     "data": {
      "text/plain": [
       "(['1', '2', '3', '4', '5', '6', '7', '8', '9', '0', 't'],\n",
       " ['1', '2', '3', '4', '5', '6', '7', '8', '9', '0', 't'])"
      ]
     },
     "metadata": {},
     "execution_count": 53
    }
   ],
   "source": [
    "generate_possibilities('*')"
   ]
  },
  {
   "cell_type": "code",
   "execution_count": 54,
   "metadata": {},
   "outputs": [
    {
     "output_type": "stream",
     "name": "stdout",
     "text": [
      "Value: -, Left: None, Right: None\n"
     ]
    }
   ],
   "source": [
    "root = Node(random.choice(['*', '+', '-']))\n",
    "print(root)\n"
   ]
  },
  {
   "cell_type": "code",
   "execution_count": 55,
   "metadata": {},
   "outputs": [
    {
     "output_type": "stream",
     "name": "stdout",
     "text": [
      "Value: -, Left: Value: 1, Left: None, Right: None, Right: None\n"
     ]
    }
   ],
   "source": [
    "root.left = Node(1)\n",
    "print(root)"
   ]
  },
  {
   "cell_type": "code",
   "execution_count": 56,
   "metadata": {},
   "outputs": [],
   "source": [
    "for possibilities in generate_possibilities(root.val):\n",
    "    insert(root, random.choice(possibilities))"
   ]
  },
  {
   "cell_type": "code",
   "execution_count": 43,
   "metadata": {},
   "outputs": [
    {
     "output_type": "stream",
     "name": "stdout",
     "text": [
      "4\n"
     ]
    }
   ],
   "source": [
    "print(root.right.val)"
   ]
  },
  {
   "cell_type": "code",
   "execution_count": 44,
   "metadata": {},
   "outputs": [],
   "source": [
    "output_lang, input_lang, train, X_test, y_test = load_data_int_seq()"
   ]
  },
  {
   "cell_type": "code",
   "execution_count": 45,
   "metadata": {},
   "outputs": [
    {
     "output_type": "execute_result",
     "data": {
      "text/plain": [
       "[13]"
      ]
     },
     "metadata": {},
     "execution_count": 45
    }
   ],
   "source": [
    "state = train[1]\n",
    "eq_encoder('t')"
   ]
  },
  {
   "cell_type": "code",
   "execution_count": 46,
   "metadata": {},
   "outputs": [
    {
     "output_type": "execute_result",
     "data": {
      "text/plain": [
       "[22, 23, 24, 2]"
      ]
     },
     "metadata": {},
     "execution_count": 46
    }
   ],
   "source": [
    "encodeWithLanguage(input_lang, ['1','2','3','4'])"
   ]
  },
  {
   "cell_type": "code",
   "execution_count": 47,
   "metadata": {},
   "outputs": [
    {
     "output_type": "execute_result",
     "data": {
      "text/plain": [
       "['13', '-5', '185', '14']"
      ]
     },
     "metadata": {},
     "execution_count": 47
    }
   ],
   "source": [
    "decodeWithLanguage(input_lang, [57, 43, 32, 41])"
   ]
  },
  {
   "cell_type": "code",
   "execution_count": 48,
   "metadata": {},
   "outputs": [
    {
     "output_type": "execute_result",
     "data": {
      "text/plain": [
       "([-1, -1, -1, -1, -1, -1, -1, -1, -1], [37, 23, 2, 26, 3, 38, 4, 41])"
      ]
     },
     "metadata": {},
     "execution_count": 48
    }
   ],
   "source": [
    "# 1. [[-1,-1,-1], [1,2,3,4,5,6,7,8,9]]\n",
    "# action: 1\n",
    "# 2. [[1,-1,-1], [1,2,3,4,5,6,7,8,9]]\n",
    "# action: 2\n",
    "# 2. [[1,2,-1], [1,2,3,4,5,6,7,8,9]]\n",
    "# action: 3\n",
    "# 2. [[1,2,3], [1,2,3,4,5,6,7,8,9]]\n",
    "\n",
    "\n",
    "createInitialState(input_lang, X_test[1], 9)"
   ]
  },
  {
   "cell_type": "code",
   "execution_count": 49,
   "metadata": {},
   "outputs": [
    {
     "output_type": "error",
     "ename": "NameError",
     "evalue": "name 'TreeState' is not defined",
     "traceback": [
      "\u001b[0;31m---------------------------------------------------------------------------\u001b[0m",
      "\u001b[0;31mNameError\u001b[0m                                 Traceback (most recent call last)",
      "\u001b[0;32m<ipython-input-49-24b34e21d9e6>\u001b[0m in \u001b[0;36m<module>\u001b[0;34m\u001b[0m\n\u001b[1;32m      1\u001b[0m \u001b[0;32mfrom\u001b[0m \u001b[0mmore_itertools\u001b[0m \u001b[0;32mimport\u001b[0m \u001b[0mfirst_true\u001b[0m\u001b[0;34m\u001b[0m\u001b[0;34m\u001b[0m\u001b[0m\n\u001b[0;32m----> 2\u001b[0;31m \u001b[0;32mdef\u001b[0m \u001b[0mgetCurrentPosition\u001b[0m\u001b[0;34m(\u001b[0m\u001b[0mstate\u001b[0m\u001b[0;34m:\u001b[0m \u001b[0mTreeState\u001b[0m\u001b[0;34m)\u001b[0m \u001b[0;34m->\u001b[0m \u001b[0mint\u001b[0m\u001b[0;34m:\u001b[0m\u001b[0;34m\u001b[0m\u001b[0;34m\u001b[0m\u001b[0m\n\u001b[0m\u001b[1;32m      3\u001b[0m     \u001b[0;32mreturn\u001b[0m \u001b[0mfirst_true\u001b[0m\u001b[0;34m(\u001b[0m\u001b[0mstate\u001b[0m\u001b[0;34m[\u001b[0m\u001b[0;36m0\u001b[0m\u001b[0;34m]\u001b[0m\u001b[0;34m,\u001b[0m \u001b[0;32mNone\u001b[0m\u001b[0;34m,\u001b[0m \u001b[0;32mlambda\u001b[0m \u001b[0mx\u001b[0m\u001b[0;34m:\u001b[0m \u001b[0mx\u001b[0m \u001b[0;34m!=\u001b[0m \u001b[0;34m-\u001b[0m\u001b[0;36m1\u001b[0m\u001b[0;34m)\u001b[0m\u001b[0;34m\u001b[0m\u001b[0;34m\u001b[0m\u001b[0m\n",
      "\u001b[0;31mNameError\u001b[0m: name 'TreeState' is not defined"
     ]
    }
   ],
   "source": []
  },
  {
   "cell_type": "code",
   "execution_count": null,
   "metadata": {},
   "outputs": [],
   "source": []
  },
  {
   "cell_type": "code",
   "execution_count": null,
   "metadata": {},
   "outputs": [],
   "source": []
  }
 ]
}