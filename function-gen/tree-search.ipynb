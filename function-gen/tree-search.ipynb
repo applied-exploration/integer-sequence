{
 "metadata": {
  "language_info": {
   "codemirror_mode": {
    "name": "ipython",
    "version": 3
   },
   "file_extension": ".py",
   "mimetype": "text/x-python",
   "name": "python",
   "nbconvert_exporter": "python",
   "pygments_lexer": "ipython3",
   "version": "3.9.2"
  },
  "orig_nbformat": 4,
  "kernelspec": {
   "name": "python3",
   "display_name": "Python 3.9.2 64-bit ('deeplearning': conda)"
  },
  "interpreter": {
   "hash": "a630840cc17be2676cbce8189d2083744dc2f6895f9cfddc5644aa2e06831cd0"
  }
 },
 "nbformat": 4,
 "nbformat_minor": 2,
 "cells": [
  {
   "cell_type": "code",
   "execution_count": 6,
   "metadata": {},
   "outputs": [],
   "source": [
    "import random"
   ]
  },
  {
   "cell_type": "code",
   "execution_count": 35,
   "metadata": {},
   "outputs": [],
   "source": [
    "class Node:\n",
    "    def __init__(self, key):\n",
    "        self.left = None\n",
    "        self.right = None\n",
    "        self.val = key\n",
    "\n",
    "    def __str__(self):\n",
    "        return \"Value: \" + str(self.val) + \", Left: \" + str(self.left) + \", Right: \" + str(self.right)\n",
    "\n",
    "\n",
    "def insert(root, key):\n",
    "    if root is None:\n",
    "        return Node(key)\n",
    "    elif root.left is None:\n",
    "        root.left = insert(root.left, key)\n",
    "    elif root.right is None:\n",
    "        root.right = insert(root.right, key)\n",
    "    return root\n",
    "\n",
    "\n",
    "\n",
    "def generate_possibilities(char: str):\n",
    "    def list_possibilities(prev: str) -> str:\n",
    "        if prev in ['1','2','3','4','5','6','7','8','9','0']:\n",
    "            return ['+', '-', '*']\n",
    "        elif prev in ['s', '+', '-', '*']:\n",
    "            return ['1','2','3','4','5','6','7','8','9','0', 't']\n",
    "        elif prev in ['t']:\n",
    "            return ['+', '-', '*']\n",
    "        else:\n",
    "            raise ValueError('Unexpected prev character')\n",
    "    lhs = list_possibilities(char)\n",
    "    rhs = list_possibilities(char)\n",
    "    return lhs, rhs"
   ]
  },
  {
   "cell_type": "code",
   "execution_count": 36,
   "metadata": {},
   "outputs": [
    {
     "output_type": "execute_result",
     "data": {
      "text/plain": [
       "(['1', '2', '3', '4', '5', '6', '7', '8', '9', '0', 't'],\n",
       " ['1', '2', '3', '4', '5', '6', '7', '8', '9', '0', 't'])"
      ]
     },
     "metadata": {},
     "execution_count": 36
    }
   ],
   "source": [
    "generate_possibilities('*')"
   ]
  },
  {
   "cell_type": "code",
   "execution_count": 37,
   "metadata": {},
   "outputs": [
    {
     "output_type": "stream",
     "name": "stdout",
     "text": [
      "Value: -, Left: None, Right: None\n"
     ]
    }
   ],
   "source": [
    "root = Node(random.choice(['*', '+', '-']))\n",
    "print(root)\n"
   ]
  },
  {
   "cell_type": "code",
   "execution_count": 38,
   "metadata": {},
   "outputs": [
    {
     "output_type": "stream",
     "name": "stdout",
     "text": [
      "Value: -, Left: Value: 1, Left: None, Right: None, Right: None\n"
     ]
    }
   ],
   "source": [
    "root.left = Node(1)\n",
    "print(root)"
   ]
  },
  {
   "cell_type": "code",
   "execution_count": 39,
   "metadata": {},
   "outputs": [],
   "source": [
    "for possibilities in generate_possibilities(root.val):\n",
    "    insert(root, random.choice(possibilities))"
   ]
  },
  {
   "cell_type": "code",
   "execution_count": 40,
   "metadata": {},
   "outputs": [
    {
     "output_type": "stream",
     "name": "stdout",
     "text": [
      "2\n"
     ]
    }
   ],
   "source": [
    "print(root.right.val)"
   ]
  },
  {
   "cell_type": "code",
   "execution_count": null,
   "metadata": {},
   "outputs": [],
   "source": []
  },
  {
   "cell_type": "code",
   "execution_count": null,
   "metadata": {},
   "outputs": [],
   "source": []
  }
 ]
}