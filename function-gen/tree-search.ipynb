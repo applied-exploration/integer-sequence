{
 "metadata": {
  "language_info": {
   "codemirror_mode": {
    "name": "ipython",
    "version": 3
   },
   "file_extension": ".py",
   "mimetype": "text/x-python",
   "name": "python",
   "nbconvert_exporter": "python",
   "pygments_lexer": "ipython3",
   "version": "3.9.2"
  },
  "orig_nbformat": 4,
  "kernelspec": {
   "name": "python3",
   "display_name": "Python 3.9.2 64-bit ('deeplearning': conda)"
  },
  "interpreter": {
   "hash": "a630840cc17be2676cbce8189d2083744dc2f6895f9cfddc5644aa2e06831cd0"
  }
 },
 "nbformat": 4,
 "nbformat_minor": 2,
 "cells": [
  {
   "cell_type": "code",
   "execution_count": 2,
   "metadata": {},
   "outputs": [],
   "source": [
    "import random\n",
    "from lang import load_data_int_seq\n",
    "from utils import eq_encoder\n",
    "from models.rl.env import encodeWithLanguage, decodeWithLanguage, createInitialState\n",
    "%load_ext autoreload\n",
    "%autoreload 2"
   ]
  },
  {
   "cell_type": "code",
   "execution_count": 3,
   "metadata": {},
   "outputs": [],
   "source": [
    "class Node:\n",
    "    def __init__(self, key):\n",
    "        self.left = None\n",
    "        self.right = None\n",
    "        self.val = key\n",
    "\n",
    "    def __str__(self):\n",
    "        return \"Value: \" + str(self.val) + \", Left: \" + str(self.left) + \", Right: \" + str(self.right)\n",
    "\n",
    "\n",
    "def insert(root, key):\n",
    "    if root is None:\n",
    "        return Node(key)\n",
    "    elif root.left is None:\n",
    "        root.left = insert(root.left, key)\n",
    "    elif root.right is None:\n",
    "        root.right = insert(root.right, key)\n",
    "    return root\n",
    "\n",
    "\n",
    "\n",
    "def generate_possibilities(char: str):\n",
    "    def list_possibilities(prev: str) -> str:\n",
    "        if prev in ['1','2','3','4','5','6','7','8','9','0']:\n",
    "            return ['+', '-', '*']\n",
    "        elif prev in ['s', '+', '-', '*']:\n",
    "            return ['1','2','3','4','5','6','7','8','9','0', 't']\n",
    "        elif prev in ['t']:\n",
    "            return ['+', '-', '*']\n",
    "        else:\n",
    "            raise ValueError('Unexpected prev character')\n",
    "    lhs = list_possibilities(char)\n",
    "    rhs = list_possibilities(char)\n",
    "    return lhs, rhs"
   ]
  },
  {
   "cell_type": "code",
   "execution_count": 4,
   "metadata": {},
   "outputs": [
    {
     "output_type": "execute_result",
     "data": {
      "text/plain": [
       "(['1', '2', '3', '4', '5', '6', '7', '8', '9', '0', 't'],\n",
       " ['1', '2', '3', '4', '5', '6', '7', '8', '9', '0', 't'])"
      ]
     },
     "metadata": {},
     "execution_count": 4
    }
   ],
   "source": [
    "generate_possibilities('*')"
   ]
  },
  {
   "cell_type": "code",
   "execution_count": 5,
   "metadata": {},
   "outputs": [
    {
     "output_type": "stream",
     "name": "stdout",
     "text": [
      "Value: +, Left: None, Right: None\n"
     ]
    }
   ],
   "source": [
    "root = Node(random.choice(['*', '+', '-']))\n",
    "print(root)\n"
   ]
  },
  {
   "cell_type": "code",
   "execution_count": 6,
   "metadata": {},
   "outputs": [
    {
     "output_type": "stream",
     "name": "stdout",
     "text": [
      "Value: +, Left: Value: 1, Left: None, Right: None, Right: None\n"
     ]
    }
   ],
   "source": [
    "root.left = Node(1)\n",
    "print(root)"
   ]
  },
  {
   "cell_type": "code",
   "execution_count": 7,
   "metadata": {},
   "outputs": [],
   "source": [
    "for possibilities in generate_possibilities(root.val):\n",
    "    insert(root, random.choice(possibilities))"
   ]
  },
  {
   "cell_type": "code",
   "execution_count": 8,
   "metadata": {},
   "outputs": [
    {
     "output_type": "stream",
     "name": "stdout",
     "text": [
      "3\n"
     ]
    }
   ],
   "source": [
    "print(root.right.val)"
   ]
  },
  {
   "cell_type": "code",
   "execution_count": 6,
   "metadata": {},
   "outputs": [],
   "source": [
    "output_lang, input_lang, train, X_test, y_test = load_data_int_seq()"
   ]
  },
  {
   "cell_type": "code",
   "execution_count": 7,
   "metadata": {},
   "outputs": [
    {
     "output_type": "execute_result",
     "data": {
      "text/plain": [
       "[13]"
      ]
     },
     "metadata": {},
     "execution_count": 7
    }
   ],
   "source": [
    "state = train[1]\n",
    "eq_encoder('t')"
   ]
  },
  {
   "cell_type": "code",
   "execution_count": 11,
   "metadata": {},
   "outputs": [
    {
     "output_type": "execute_result",
     "data": {
      "text/plain": [
       "[57, 43, 32, 41]"
      ]
     },
     "metadata": {},
     "execution_count": 11
    }
   ],
   "source": [
    "encodeWithLanguage(input_lang, ['1','2','3','4'])"
   ]
  },
  {
   "cell_type": "code",
   "execution_count": 12,
   "metadata": {},
   "outputs": [
    {
     "output_type": "execute_result",
     "data": {
      "text/plain": [
       "['1', '2', '3', '4']"
      ]
     },
     "metadata": {},
     "execution_count": 12
    }
   ],
   "source": [
    "decodeWithLanguage(input_lang, [57, 43, 32, 41])"
   ]
  },
  {
   "cell_type": "code",
   "execution_count": 17,
   "metadata": {},
   "outputs": [
    {
     "output_type": "execute_result",
     "data": {
      "text/plain": [
       "([-1, -1, -1, -1, -1, -1, -1, -1, -1], [5, 108, 134, 353, 438, 372, 631, 203])"
      ]
     },
     "metadata": {},
     "execution_count": 17
    }
   ],
   "source": [
    "# 1. [[-1,-1,-1], [1,2,3,4,5,6,7,8,9]]\n",
    "# action: 1\n",
    "# 2. [[1,-1,-1], [1,2,3,4,5,6,7,8,9]]\n",
    "# action: 2\n",
    "# 2. [[1,2,-1], [1,2,3,4,5,6,7,8,9]]\n",
    "# action: 3\n",
    "# 2. [[1,2,3], [1,2,3,4,5,6,7,8,9]]\n",
    "\n",
    "\n",
    "createInitialState(input_lang, X_test[1], 9)"
   ]
  },
  {
   "cell_type": "code",
   "execution_count": null,
   "metadata": {},
   "outputs": [],
   "source": []
  }
 ]
}