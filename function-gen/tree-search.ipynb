{
 "metadata": {
  "language_info": {
   "codemirror_mode": {
    "name": "ipython",
    "version": 3
   },
   "file_extension": ".py",
   "mimetype": "text/x-python",
   "name": "python",
   "nbconvert_exporter": "python",
   "pygments_lexer": "ipython3",
   "version": "3.9.2"
  },
  "orig_nbformat": 4,
  "kernelspec": {
   "name": "python3",
   "display_name": "Python 3.9.2 64-bit ('deeplearning': conda)"
  },
  "interpreter": {
   "hash": "a630840cc17be2676cbce8189d2083744dc2f6895f9cfddc5644aa2e06831cd0"
  }
 },
 "nbformat": 4,
 "nbformat_minor": 2,
 "cells": [
  {
   "cell_type": "code",
   "execution_count": 20,
   "metadata": {},
   "outputs": [
    {
     "output_type": "stream",
     "name": "stdout",
     "text": [
      "The autoreload extension is already loaded. To reload it, use:\n  %reload_ext autoreload\n"
     ]
    }
   ],
   "source": [
    "import random\n",
    "from lang import load_data_int_seq\n",
    "from utils import eq_encoder, is_eq_valid\n",
    "from typing import List\n",
    "from models.rl.env import IntegerSequenceEnv, get_current_position, encode_with_lang, decode_with_lang\n",
    "%load_ext autoreload\n",
    "%autoreload 2\n"
   ]
  },
  {
   "cell_type": "code",
   "execution_count": 21,
   "metadata": {},
   "outputs": [],
   "source": [
    "output_lang, input_lang, train, X_test, y_test = load_data_int_seq()"
   ]
  },
  {
   "cell_type": "code",
   "execution_count": 22,
   "metadata": {},
   "outputs": [],
   "source": [
    "def compare_sequences(output_sequence: List[int], target_sequence: List[int]) -> float:\n",
    "    magnitude: float = 0.0\n",
    "    for x, y in enumerate(zip(output_sequence, target_sequence)):\n",
    "        magnitude += abs(x - y)#**2\n",
    "    # magnitude /= len(norm_target_seq)\n",
    "    return magnitude\n"
   ]
  },
  {
   "cell_type": "code",
   "execution_count": 23,
   "metadata": {},
   "outputs": [],
   "source": [
    "def evaluate_candidate_eq(candidate: str, int_seq: List[int]) -> float:\n",
    "    if is_eq_valid(candidate) == False:\n",
    "        return 99.0\n",
    "\n",
    "    output_sequence = eq_to_seq(candidate, 9)\n",
    "\n",
    "    if np.count_nonzero(output_sequence) < 1:\n",
    "        return max_penalty_magnitude\n",
    "\n",
    "    return compare_sequences(output_sequence, int_seq)"
   ]
  },
  {
   "cell_type": "code",
   "execution_count": 24,
   "metadata": {},
   "outputs": [],
   "source": [
    "env = IntegerSequenceEnv(train[0][0], 9, input_lang, output_lang, evaluate_candidate_eq)"
   ]
  },
  {
   "cell_type": "code",
   "execution_count": 25,
   "metadata": {},
   "outputs": [],
   "source": [
    "for _ in range(0, 8):\n",
    "    env.step(1)"
   ]
  },
  {
   "cell_type": "code",
   "execution_count": 26,
   "metadata": {},
   "outputs": [
    {
     "output_type": "execute_result",
     "data": {
      "text/plain": [
       "(([3, 3, 3, 3, 3, 3, 3, 3, 3], [2, 3, 4, 5, 6, 7, 8, 9]), 99.0, True)"
      ]
     },
     "metadata": {},
     "execution_count": 26
    }
   ],
   "source": [
    "env.step(1)"
   ]
  },
  {
   "cell_type": "code",
   "execution_count": null,
   "metadata": {},
   "outputs": [],
   "source": []
  }
 ]
}