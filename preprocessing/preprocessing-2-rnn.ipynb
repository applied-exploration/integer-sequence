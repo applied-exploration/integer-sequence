{
 "metadata": {
  "language_info": {
   "codemirror_mode": {
    "name": "ipython",
    "version": 3
   },
   "file_extension": ".py",
   "mimetype": "text/x-python",
   "name": "python",
   "nbconvert_exporter": "python",
   "pygments_lexer": "ipython3",
   "version": "3.9.2"
  },
  "orig_nbformat": 4,
  "kernelspec": {
   "name": "python3",
   "display_name": "Python 3.9.2 64-bit ('deeplearning': conda)"
  },
  "interpreter": {
   "hash": "a630840cc17be2676cbce8189d2083744dc2f6895f9cfddc5644aa2e06831cd0"
  }
 },
 "nbformat": 4,
 "nbformat_minor": 2,
 "cells": [
  {
   "cell_type": "code",
   "execution_count": 1,
   "metadata": {},
   "outputs": [],
   "source": [
    "import numpy as np\n",
    "import pandas as pd\n",
    "import seaborn as sns\n",
    "import matplotlib as plt\n",
    "from sklearn.preprocessing import OneHotEncoder\n",
    "%matplotlib inline"
   ]
  },
  {
   "cell_type": "code",
   "execution_count": 2,
   "metadata": {},
   "outputs": [
    {
     "output_type": "execute_result",
     "data": {
      "text/plain": [
       "   Id                                           Sequence\n",
       "0   3  1,3,13,87,1053,28576,2141733,508147108,4021352...\n",
       "1   7  1,2,1,5,5,1,11,16,7,1,23,44,30,9,1,47,112,104,...\n",
       "2   8  1,2,4,5,8,10,16,20,32,40,64,80,128,160,256,320...\n",
       "3  11  1,8,25,83,274,2275,132224,1060067,3312425,1099...\n",
       "4  13  1,111,12211,1343211,147753211,16252853211,1787..."
      ],
      "text/html": "<div>\n<style scoped>\n    .dataframe tbody tr th:only-of-type {\n        vertical-align: middle;\n    }\n\n    .dataframe tbody tr th {\n        vertical-align: top;\n    }\n\n    .dataframe thead th {\n        text-align: right;\n    }\n</style>\n<table border=\"1\" class=\"dataframe\">\n  <thead>\n    <tr style=\"text-align: right;\">\n      <th></th>\n      <th>Id</th>\n      <th>Sequence</th>\n    </tr>\n  </thead>\n  <tbody>\n    <tr>\n      <th>0</th>\n      <td>3</td>\n      <td>1,3,13,87,1053,28576,2141733,508147108,4021352...</td>\n    </tr>\n    <tr>\n      <th>1</th>\n      <td>7</td>\n      <td>1,2,1,5,5,1,11,16,7,1,23,44,30,9,1,47,112,104,...</td>\n    </tr>\n    <tr>\n      <th>2</th>\n      <td>8</td>\n      <td>1,2,4,5,8,10,16,20,32,40,64,80,128,160,256,320...</td>\n    </tr>\n    <tr>\n      <th>3</th>\n      <td>11</td>\n      <td>1,8,25,83,274,2275,132224,1060067,3312425,1099...</td>\n    </tr>\n    <tr>\n      <th>4</th>\n      <td>13</td>\n      <td>1,111,12211,1343211,147753211,16252853211,1787...</td>\n    </tr>\n  </tbody>\n</table>\n</div>"
     },
     "metadata": {},
     "execution_count": 2
    }
   ],
   "source": [
    "data = pd.read_csv(\"../data/train.csv\")\n",
    "data.head()"
   ]
  },
  {
   "cell_type": "code",
   "execution_count": 3,
   "metadata": {},
   "outputs": [
    {
     "output_type": "execute_result",
     "data": {
      "text/plain": [
       "(113845, 2)"
      ]
     },
     "metadata": {},
     "execution_count": 3
    }
   ],
   "source": [
    "data.shape"
   ]
  },
  {
   "cell_type": "code",
   "execution_count": 27,
   "metadata": {},
   "outputs": [
    {
     "output_type": "execute_result",
     "data": {
      "text/plain": [
       "   Id                                           Sequence  \\\n",
       "0   3  1,3,13,87,1053,28576,2141733,508147108,4021352...   \n",
       "1   7  1,2,1,5,5,1,11,16,7,1,23,44,30,9,1,47,112,104,...   \n",
       "2   8  1,2,4,5,8,10,16,20,32,40,64,80,128,160,256,320...   \n",
       "3  11  1,8,25,83,274,2275,132224,1060067,3312425,1099...   \n",
       "4  13  1,111,12211,1343211,147753211,16252853211,1787...   \n",
       "\n",
       "                                         NumSequence  \\\n",
       "0  [1, 3, 13, 87, 1053, 28576, 2141733, 508147108...   \n",
       "1  [1, 2, 1, 5, 5, 1, 11, 16, 7, 1, 23, 44, 30, 9...   \n",
       "2  [1, 2, 4, 5, 8, 10, 16, 20, 32, 40, 64, 80, 12...   \n",
       "3  [1, 8, 25, 83, 274, 2275, 132224, 1060067, 331...   \n",
       "4  [1, 111, 12211, 1343211, 147753211, 1625285321...   \n",
       "\n",
       "                               LastNum  \\\n",
       "0  11474377948948020660089085281068730   \n",
       "1                                 7424   \n",
       "2                              2097152   \n",
       "3                    18610239435360217   \n",
       "4              28792920887348623853211   \n",
       "\n",
       "                                            TrainSeq  TrainSeqLength  \n",
       "0  1,3,13,87,1053,28576,2141733,508147108,4021352...             143  \n",
       "1  1,2,1,5,5,1,11,16,7,1,23,44,30,9,1,47,112,104,...             188  \n",
       "2  1,2,4,5,8,10,16,20,32,40,64,80,128,160,256,320...             189  \n",
       "3  1,8,25,83,274,2275,132224,1060067,3312425,1099...             167  \n",
       "4  1,111,12211,1343211,147753211,16252853211,1787...             131  "
      ],
      "text/html": "<div>\n<style scoped>\n    .dataframe tbody tr th:only-of-type {\n        vertical-align: middle;\n    }\n\n    .dataframe tbody tr th {\n        vertical-align: top;\n    }\n\n    .dataframe thead th {\n        text-align: right;\n    }\n</style>\n<table border=\"1\" class=\"dataframe\">\n  <thead>\n    <tr style=\"text-align: right;\">\n      <th></th>\n      <th>Id</th>\n      <th>Sequence</th>\n      <th>NumSequence</th>\n      <th>LastNum</th>\n      <th>TrainSeq</th>\n      <th>TrainSeqLength</th>\n    </tr>\n  </thead>\n  <tbody>\n    <tr>\n      <th>0</th>\n      <td>3</td>\n      <td>1,3,13,87,1053,28576,2141733,508147108,4021352...</td>\n      <td>[1, 3, 13, 87, 1053, 28576, 2141733, 508147108...</td>\n      <td>11474377948948020660089085281068730</td>\n      <td>1,3,13,87,1053,28576,2141733,508147108,4021352...</td>\n      <td>143</td>\n    </tr>\n    <tr>\n      <th>1</th>\n      <td>7</td>\n      <td>1,2,1,5,5,1,11,16,7,1,23,44,30,9,1,47,112,104,...</td>\n      <td>[1, 2, 1, 5, 5, 1, 11, 16, 7, 1, 23, 44, 30, 9...</td>\n      <td>7424</td>\n      <td>1,2,1,5,5,1,11,16,7,1,23,44,30,9,1,47,112,104,...</td>\n      <td>188</td>\n    </tr>\n    <tr>\n      <th>2</th>\n      <td>8</td>\n      <td>1,2,4,5,8,10,16,20,32,40,64,80,128,160,256,320...</td>\n      <td>[1, 2, 4, 5, 8, 10, 16, 20, 32, 40, 64, 80, 12...</td>\n      <td>2097152</td>\n      <td>1,2,4,5,8,10,16,20,32,40,64,80,128,160,256,320...</td>\n      <td>189</td>\n    </tr>\n    <tr>\n      <th>3</th>\n      <td>11</td>\n      <td>1,8,25,83,274,2275,132224,1060067,3312425,1099...</td>\n      <td>[1, 8, 25, 83, 274, 2275, 132224, 1060067, 331...</td>\n      <td>18610239435360217</td>\n      <td>1,8,25,83,274,2275,132224,1060067,3312425,1099...</td>\n      <td>167</td>\n    </tr>\n    <tr>\n      <th>4</th>\n      <td>13</td>\n      <td>1,111,12211,1343211,147753211,16252853211,1787...</td>\n      <td>[1, 111, 12211, 1343211, 147753211, 1625285321...</td>\n      <td>28792920887348623853211</td>\n      <td>1,111,12211,1343211,147753211,16252853211,1787...</td>\n      <td>131</td>\n    </tr>\n  </tbody>\n</table>\n</div>"
     },
     "metadata": {},
     "execution_count": 27
    }
   ],
   "source": [
    "data['NumSequence'] = data['Sequence'].str.split(',')\n",
    "data['LastNum'] = [seq[-1] for seq in data['NumSequence']]\n",
    "data['TrainSeq'] = [seq[:-1] for seq in data['NumSequence']]\n",
    "data['TrainSeq'] = data['TrainSeq'].str.join(',')\n",
    "data[\"TrainSeqLength\"] = data[\"TrainSeq\"].str.len()\n",
    "data.head()"
   ]
  },
  {
   "cell_type": "code",
   "execution_count": 5,
   "metadata": {},
   "outputs": [],
   "source": [
    "data.drop(\"Id\", axis = 1, inplace= True)"
   ]
  },
  {
   "cell_type": "code",
   "execution_count": 6,
   "metadata": {},
   "outputs": [],
   "source": [
    "data.to_csv(\"../data/preprocessed-2-rnn.csv\", index=False)"
   ]
  },
  {
   "cell_type": "code",
   "execution_count": null,
   "metadata": {},
   "outputs": [],
   "source": []
  },
  {
   "cell_type": "code",
   "execution_count": null,
   "metadata": {},
   "outputs": [],
   "source": []
  },
  {
   "cell_type": "code",
   "execution_count": null,
   "metadata": {},
   "outputs": [],
   "source": []
  }
 ]
}