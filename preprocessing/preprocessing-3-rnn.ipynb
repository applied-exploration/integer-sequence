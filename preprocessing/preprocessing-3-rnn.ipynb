{
 "metadata": {
  "language_info": {
   "codemirror_mode": {
    "name": "ipython",
    "version": 3
   },
   "file_extension": ".py",
   "mimetype": "text/x-python",
   "name": "python",
   "nbconvert_exporter": "python",
   "pygments_lexer": "ipython3",
   "version": "3.9.2"
  },
  "orig_nbformat": 4,
  "kernelspec": {
   "name": "python3",
   "display_name": "Python 3.9.2 64-bit ('deeplearning': conda)"
  },
  "interpreter": {
   "hash": "a630840cc17be2676cbce8189d2083744dc2f6895f9cfddc5644aa2e06831cd0"
  }
 },
 "nbformat": 4,
 "nbformat_minor": 2,
 "cells": [
  {
   "cell_type": "code",
   "execution_count": 49,
   "metadata": {},
   "outputs": [],
   "source": [
    "import numpy as np\n",
    "import pandas as pd\n",
    "import seaborn as sns\n",
    "import matplotlib as plt\n",
    "from sklearn.preprocessing import OneHotEncoder\n",
    "%matplotlib inline"
   ]
  },
  {
   "cell_type": "code",
   "execution_count": 50,
   "metadata": {},
   "outputs": [
    {
     "output_type": "execute_result",
     "data": {
      "text/plain": [
       "   Id                                           Sequence\n",
       "0   3  1,3,13,87,1053,28576,2141733,508147108,4021352...\n",
       "1   7  1,2,1,5,5,1,11,16,7,1,23,44,30,9,1,47,112,104,...\n",
       "2   8  1,2,4,5,8,10,16,20,32,40,64,80,128,160,256,320...\n",
       "3  11  1,8,25,83,274,2275,132224,1060067,3312425,1099...\n",
       "4  13  1,111,12211,1343211,147753211,16252853211,1787..."
      ],
      "text/html": "<div>\n<style scoped>\n    .dataframe tbody tr th:only-of-type {\n        vertical-align: middle;\n    }\n\n    .dataframe tbody tr th {\n        vertical-align: top;\n    }\n\n    .dataframe thead th {\n        text-align: right;\n    }\n</style>\n<table border=\"1\" class=\"dataframe\">\n  <thead>\n    <tr style=\"text-align: right;\">\n      <th></th>\n      <th>Id</th>\n      <th>Sequence</th>\n    </tr>\n  </thead>\n  <tbody>\n    <tr>\n      <th>0</th>\n      <td>3</td>\n      <td>1,3,13,87,1053,28576,2141733,508147108,4021352...</td>\n    </tr>\n    <tr>\n      <th>1</th>\n      <td>7</td>\n      <td>1,2,1,5,5,1,11,16,7,1,23,44,30,9,1,47,112,104,...</td>\n    </tr>\n    <tr>\n      <th>2</th>\n      <td>8</td>\n      <td>1,2,4,5,8,10,16,20,32,40,64,80,128,160,256,320...</td>\n    </tr>\n    <tr>\n      <th>3</th>\n      <td>11</td>\n      <td>1,8,25,83,274,2275,132224,1060067,3312425,1099...</td>\n    </tr>\n    <tr>\n      <th>4</th>\n      <td>13</td>\n      <td>1,111,12211,1343211,147753211,16252853211,1787...</td>\n    </tr>\n  </tbody>\n</table>\n</div>"
     },
     "metadata": {},
     "execution_count": 50
    }
   ],
   "source": [
    "data = pd.read_csv(\"../data/train.csv\")\n",
    "data.head()"
   ]
  },
  {
   "cell_type": "code",
   "execution_count": 51,
   "metadata": {},
   "outputs": [
    {
     "output_type": "execute_result",
     "data": {
      "text/plain": [
       "(113845, 2)"
      ]
     },
     "metadata": {},
     "execution_count": 51
    }
   ],
   "source": [
    "data.shape"
   ]
  },
  {
   "cell_type": "code",
   "execution_count": 52,
   "metadata": {},
   "outputs": [
    {
     "output_type": "execute_result",
     "data": {
      "text/plain": [
       "   Id                                           Sequence  \\\n",
       "0   3  1,3,13,87,1053,28576,2141733,508147108,4021352...   \n",
       "1   7  1,2,1,5,5,1,11,16,7,1,23,44,30,9,1,47,112,104,...   \n",
       "2   8  1,2,4,5,8,10,16,20,32,40,64,80,128,160,256,320...   \n",
       "3  11  1,8,25,83,274,2275,132224,1060067,3312425,1099...   \n",
       "4  13  1,111,12211,1343211,147753211,16252853211,1787...   \n",
       "\n",
       "                                         NumSequence                   MaxNum  \n",
       "0  [1, 3, 13, 87, 1053, 28576, 2141733, 508147108...      9700385489355970183  \n",
       "1  [1, 2, 1, 5, 5, 1, 11, 16, 7, 1, 23, 44, 30, 9...                       96  \n",
       "2  [1, 2, 4, 5, 8, 10, 16, 20, 32, 40, 64, 80, 12...                    81920  \n",
       "3  [1, 8, 25, 83, 274, 2275, 132224, 1060067, 331...                       83  \n",
       "4  [1, 111, 12211, 1343211, 147753211, 1625285321...  28792920887348623853211  "
      ],
      "text/html": "<div>\n<style scoped>\n    .dataframe tbody tr th:only-of-type {\n        vertical-align: middle;\n    }\n\n    .dataframe tbody tr th {\n        vertical-align: top;\n    }\n\n    .dataframe thead th {\n        text-align: right;\n    }\n</style>\n<table border=\"1\" class=\"dataframe\">\n  <thead>\n    <tr style=\"text-align: right;\">\n      <th></th>\n      <th>Id</th>\n      <th>Sequence</th>\n      <th>NumSequence</th>\n      <th>MaxNum</th>\n    </tr>\n  </thead>\n  <tbody>\n    <tr>\n      <th>0</th>\n      <td>3</td>\n      <td>1,3,13,87,1053,28576,2141733,508147108,4021352...</td>\n      <td>[1, 3, 13, 87, 1053, 28576, 2141733, 508147108...</td>\n      <td>9700385489355970183</td>\n    </tr>\n    <tr>\n      <th>1</th>\n      <td>7</td>\n      <td>1,2,1,5,5,1,11,16,7,1,23,44,30,9,1,47,112,104,...</td>\n      <td>[1, 2, 1, 5, 5, 1, 11, 16, 7, 1, 23, 44, 30, 9...</td>\n      <td>96</td>\n    </tr>\n    <tr>\n      <th>2</th>\n      <td>8</td>\n      <td>1,2,4,5,8,10,16,20,32,40,64,80,128,160,256,320...</td>\n      <td>[1, 2, 4, 5, 8, 10, 16, 20, 32, 40, 64, 80, 12...</td>\n      <td>81920</td>\n    </tr>\n    <tr>\n      <th>3</th>\n      <td>11</td>\n      <td>1,8,25,83,274,2275,132224,1060067,3312425,1099...</td>\n      <td>[1, 8, 25, 83, 274, 2275, 132224, 1060067, 331...</td>\n      <td>83</td>\n    </tr>\n    <tr>\n      <th>4</th>\n      <td>13</td>\n      <td>1,111,12211,1343211,147753211,16252853211,1787...</td>\n      <td>[1, 111, 12211, 1343211, 147753211, 1625285321...</td>\n      <td>28792920887348623853211</td>\n    </tr>\n  </tbody>\n</table>\n</div>"
     },
     "metadata": {},
     "execution_count": 52
    }
   ],
   "source": [
    "data['NumSequence'] = data['Sequence'].str.split(',')\n",
    "data['MaxNum'] = [int(max(seq)) for seq in data['NumSequence']]\n",
    "data.head()"
   ]
  },
  {
   "cell_type": "code",
   "execution_count": 53,
   "metadata": {},
   "outputs": [
    {
     "output_type": "execute_result",
     "data": {
      "text/plain": [
       "Id              int64\n",
       "Sequence       object\n",
       "NumSequence    object\n",
       "MaxNum         object\n",
       "dtype: object"
      ]
     },
     "metadata": {},
     "execution_count": 53
    }
   ],
   "source": [
    "data.dtypes"
   ]
  },
  {
   "cell_type": "code",
   "execution_count": 54,
   "metadata": {},
   "outputs": [
    {
     "output_type": "execute_result",
     "data": {
      "text/plain": [
       "(113845, 4)"
      ]
     },
     "metadata": {},
     "execution_count": 54
    }
   ],
   "source": [
    "data.shape"
   ]
  },
  {
   "cell_type": "code",
   "execution_count": 55,
   "metadata": {},
   "outputs": [
    {
     "output_type": "execute_result",
     "data": {
      "text/plain": [
       "(73799, 4)"
      ]
     },
     "metadata": {},
     "execution_count": 55
    }
   ],
   "source": [
    "data = data[data[\"MaxNum\"] < (2**15)]\n",
    "data.shape"
   ]
  },
  {
   "cell_type": "code",
   "execution_count": 56,
   "metadata": {},
   "outputs": [
    {
     "output_type": "execute_result",
     "data": {
      "text/plain": [
       "1         [1, 2, 1, 5, 5, 1, 11, 16, 7, 1, 23, 44, 30, 9...\n",
       "3         [1, 8, 25, 83, 274, 2275, 132224, 1060067, 331...\n",
       "5         [1, 1, 1, 1, 1, 1, 1, 1, 1, 5, 1, 1, 1, 1, 5, ...\n",
       "6         [840, 1320, 1680, 2520, 3192, 3432, 4920, 5208...\n",
       "7         [1, 2, 7, 27, 113, 483, 2138, 9681, 44374, 205...\n",
       "                                ...                        \n",
       "113839    [1, 0, 1, 0, 0, 0, 0, 0, 1, 0, 0, 0, 0, 0, 0, ...\n",
       "113840    [0, 0, 4, 1198, 1829388, 23796035743, 21429675...\n",
       "113842    [0, 1, 9, 85, 801, 7549, 71145, 670501, 631908...\n",
       "113843    [2, 3, 3, 4, 6, 4, 5, 10, 10, 5, 6, 15, 20, 15...\n",
       "113844             [5, 7, 179, 229, 439, 557, 6113, 223999]\n",
       "Name: NumSequence, Length: 73799, dtype: object"
      ]
     },
     "metadata": {},
     "execution_count": 56
    }
   ],
   "source": [
    "data = data['NumSequence']\n",
    "data"
   ]
  },
  {
   "cell_type": "code",
   "execution_count": 57,
   "metadata": {},
   "outputs": [
    {
     "output_type": "execute_result",
     "data": {
      "text/plain": [
       "array([list(['1', '2', '1', '5', '5', '1', '11', '16', '7', '1', '23', '44', '30', '9', '1', '47', '112', '104', '48', '11', '1', '95', '272', '320', '200', '70', '13', '1', '191', '640', '912', '720', '340', '96', '15', '1', '383', '1472', '2464', '2352', '1400', '532', '126', '17', '1', '767', '3328', '6400', '7168', '5152', '2464', '784', '160', '19', '1', '1535', '7424']),\n",
       "       list(['1', '8', '25', '83', '274', '2275', '132224', '1060067', '3312425', '10997342', '36304451', '301432950', '17519415551', '140456757358', '438889687625', '1457125820233', '4810267148324', '39939263006825', '2321287521544174', '18610239435360217']),\n",
       "       list(['1', '1', '1', '1', '1', '1', '1', '1', '1', '5', '1', '1', '1', '1', '5', '5', '1', '1', '1', '1', '11', '5', '5', '11', '5', '1', '1', '1', '1', '5', '23', '5', '23', '5', '5', '1', '1', '1', '1', '21', '5', '39', '5', '5', '39', '5', '21', '5', '1', '1', '1', '1', '5', '1', '17', '1', '17', '1', '1', '5', '1', '1', '1', '1', '31', '5', '5', '29', '1', '1', '29', '1', '5']),\n",
       "       ...,\n",
       "       list(['0', '1', '9', '85', '801', '7549', '71145', '670501', '6319089', '59553805', '561260601', '5289560629', '49851088065', '469818035101', '4427766668169', '41729172153925', '393273616058001', '3706379233137709', '34930507562471385', '329200084994793301', '3102522795203025249', '29239505496806400445']),\n",
       "       list(['2', '3', '3', '4', '6', '4', '5', '10', '10', '5', '6', '15', '20', '15', '6', '7', '21', '35', '35', '21', '7', '8', '28', '56', '70', '56', '28', '8', '9', '36', '84', '126', '126', '84', '36', '9', '10', '45', '120', '210', '252', '210', '120', '45', '10', '11', '55', '165', '330', '462', '462', '330', '165', '55', '11', '12', '66', '220', '495', '792', '924', '792', '495', '220', '66', '12', '13', '78', '286', '715']),\n",
       "       list(['5', '7', '179', '229', '439', '557', '6113', '223999'])],\n",
       "      dtype=object)"
      ]
     },
     "metadata": {},
     "execution_count": 57
    }
   ],
   "source": [
    "data.to_numpy()"
   ]
  },
  {
   "cell_type": "code",
   "execution_count": 58,
   "metadata": {},
   "outputs": [],
   "source": [
    "data.to_csv(\"../data/preprocessed-3-rnn.csv\", index=False)\n"
   ]
  },
  {
   "cell_type": "code",
   "execution_count": null,
   "metadata": {},
   "outputs": [],
   "source": []
  },
  {
   "cell_type": "code",
   "execution_count": null,
   "metadata": {},
   "outputs": [],
   "source": []
  },
  {
   "cell_type": "code",
   "execution_count": null,
   "metadata": {},
   "outputs": [],
   "source": []
  }
 ]
}